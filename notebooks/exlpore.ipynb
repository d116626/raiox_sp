{
 "cells": [
  {
   "cell_type": "code",
   "execution_count": 2,
   "metadata": {},
   "outputs": [
    {
     "name": "stdout",
     "output_type": "stream",
     "text": [
      "Populating the interactive namespace from numpy and matplotlib\n"
     ]
    }
   ],
   "source": [
    "# DATA ANALYSIS & VIZ TOOLS\n",
    "from copy import deepcopy\n",
    "\n",
    "import pandas as pd\n",
    "pd.options.display.max_columns = 999\n",
    "\n",
    "#import plotly\n",
    "#import plotly.graph_objs as go\n",
    "#import plotly.offline as offline\n",
    "#offline.init_notebook_mode(connected=True)\n",
    "\n",
    "%pylab inline\n",
    "pylab.rcParams['figure.figsize'] = (12, 12)\n",
    "\n",
    "\n",
    "# For changes in .py\n",
    "%reload_ext autoreload\n",
    "%autoreload 2\n",
    "\n",
    "import warnings\n",
    "warnings.filterwarnings('ignore')\n",
    "\n",
    "\n",
    "\n",
    "\n",
    "import numpy as np\n",
    "\n",
    "\n",
    "import missingno as msno\n",
    "\n",
    "stats = ['skew', 'mad', 'kurt']\n",
    "\n",
    "\n",
    "import qgrid\n",
    "\n",
    "def qg(df):\n",
    "    return(qgrid.show_grid(df,show_toolbar=True, grid_options={'forceFitColumns': False}))\n",
    "\n",
    "\n",
    "from sklearn.model_selection import train_test_split\n",
    "from sklearn.neighbors import KNeighborsClassifier\n",
    "from sklearn import metrics\n",
    "from sklearn.metrics import classification_report, confusion_matrix\n",
    "from sklearn.model_selection import train_test_split\n",
    "\n",
    "import itertools\n",
    "pd.set_option('display.max_rows', 500)\n",
    "pd.set_option('display.max_columns', 500)\n",
    "pd.set_option('display.width', 1000)\n",
    "pd.set_option('display.max_colwidth', -1)\n",
    "\n",
    "import requests\n",
    "import json\n",
    "import xmltodict\n",
    "import re\n",
    "import urllib.request as urllib2\n",
    "import io"
   ]
  },
  {
   "cell_type": "code",
   "execution_count": null,
   "metadata": {},
   "outputs": [],
   "source": []
  },
  {
   "cell_type": "code",
   "execution_count": 8,
   "metadata": {},
   "outputs": [],
   "source": [
    "url = \"http://catalogo.governoaberto.sp.gov.br/api/3/action/package_list\"\n",
    "r = requests.get(url).json()\n",
    "conjunto_dados = pd.DataFrame(r['result'], columns=['conjunto_dados'])"
   ]
  },
  {
   "cell_type": "code",
   "execution_count": null,
   "metadata": {},
   "outputs": [],
   "source": []
  },
  {
   "cell_type": "code",
   "execution_count": 10,
   "metadata": {},
   "outputs": [],
   "source": [
    "url = 'http://catalogo.governoaberto.sp.gov.br/api/3/action/group_list'\n",
    "r = requests.get(url).json()\n",
    "temas = pd.DataFrame(r['result'], columns=['temas'])"
   ]
  },
  {
   "cell_type": "code",
   "execution_count": 16,
   "metadata": {},
   "outputs": [
    {
     "data": {
      "text/html": [
       "<div>\n",
       "<style scoped>\n",
       "    .dataframe tbody tr th:only-of-type {\n",
       "        vertical-align: middle;\n",
       "    }\n",
       "\n",
       "    .dataframe tbody tr th {\n",
       "        vertical-align: top;\n",
       "    }\n",
       "\n",
       "    .dataframe thead th {\n",
       "        text-align: right;\n",
       "    }\n",
       "</style>\n",
       "<table border=\"1\" class=\"dataframe\">\n",
       "  <thead>\n",
       "    <tr style=\"text-align: right;\">\n",
       "      <th></th>\n",
       "      <th>temas</th>\n",
       "    </tr>\n",
       "  </thead>\n",
       "  <tbody>\n",
       "    <tr>\n",
       "      <td>0</td>\n",
       "      <td>administracao-publica</td>\n",
       "    </tr>\n",
       "    <tr>\n",
       "      <td>1</td>\n",
       "      <td>agropecuaria</td>\n",
       "    </tr>\n",
       "    <tr>\n",
       "      <td>2</td>\n",
       "      <td>arquivos-bibliotecas-e-centros-de-informacao</td>\n",
       "    </tr>\n",
       "    <tr>\n",
       "      <td>3</td>\n",
       "      <td>arte-e-cultura</td>\n",
       "    </tr>\n",
       "    <tr>\n",
       "      <td>4</td>\n",
       "      <td>ciencia-tecnologia-e-inovacao</td>\n",
       "    </tr>\n",
       "  </tbody>\n",
       "</table>\n",
       "</div>"
      ],
      "text/plain": [
       "                                          temas\n",
       "0  administracao-publica                       \n",
       "1  agropecuaria                                \n",
       "2  arquivos-bibliotecas-e-centros-de-informacao\n",
       "3  arte-e-cultura                              \n",
       "4  ciencia-tecnologia-e-inovacao               "
      ]
     },
     "execution_count": 16,
     "metadata": {},
     "output_type": "execute_result"
    }
   ],
   "source": [
    "temas.head()"
   ]
  },
  {
   "cell_type": "code",
   "execution_count": 18,
   "metadata": {},
   "outputs": [],
   "source": [
    "url = \"http://catalogo.governoaberto.sp.gov.br/api/3/action/package_search/agropecuaria\"\n",
    "r = requests.get(url).json()\n"
   ]
  },
  {
   "cell_type": "code",
   "execution_count": 20,
   "metadata": {},
   "outputs": [
    {
     "data": {
      "text/plain": [
       "'<html>\\n <head>\\n  <title>404 Not Found</title>\\n </head>\\n <body>\\n  <h1>404 Not Found</h1>\\n  The resource could not be found.<br /><br />\\n\\n\\n\\n </body>\\n</html>'"
      ]
     },
     "execution_count": 20,
     "metadata": {},
     "output_type": "execute_result"
    }
   ],
   "source": [
    "http://catalogo.governoaberto.sp.gov.br/api/3/action/package_search-d'{\"q\": \"educação\"}' "
   ]
  },
  {
   "cell_type": "code",
   "execution_count": null,
   "metadata": {},
   "outputs": [],
   "source": []
  },
  {
   "cell_type": "code",
   "execution_count": null,
   "metadata": {},
   "outputs": [],
   "source": []
  },
  {
   "cell_type": "code",
   "execution_count": 41,
   "metadata": {},
   "outputs": [],
   "source": [
    "r = !curl http://catalogo.governoaberto.sp.gov.br/api/3/action/package_search -d'{\"q\": \"ciencia-tecnologia-e-inovacao\"}' "
   ]
  },
  {
   "cell_type": "code",
   "execution_count": 33,
   "metadata": {},
   "outputs": [],
   "source": [
    "import json\n",
    "s = r[5]\n",
    "json_acceptable_string = s.replace(\"'\", \"\\\"\")\n",
    "d = json.loads(json_acceptable_string)"
   ]
  },
  {
   "cell_type": "code",
   "execution_count": 35,
   "metadata": {},
   "outputs": [
    {
     "data": {
      "text/plain": [
       "{'restricao': '0',\n",
       " 'license_title': 'Creative Commons Attribution',\n",
       " 'maintainer': None,\n",
       " 'area_interna_espacial': '',\n",
       " 'private': False,\n",
       " 'maintainer_email': None,\n",
       " 'num_tags': 2,\n",
       " 'download': '1',\n",
       " 'id': 'b251e80b-a4e1-4425-b8ef-f74b2ac866f2',\n",
       " 'metadata_created': '2016-03-09T20:45:13.301816',\n",
       " 'campos_restritos': '',\n",
       " 'metadata_modified': '2018-01-12T15:37:32.466836',\n",
       " 'author': 'Leonel Mendes',\n",
       " 'author_email': 'leonel.mendes@portoss.com.br',\n",
       " 'temporal': '4',\n",
       " 'state': 'active',\n",
       " 'regiao_espacial': '',\n",
       " 'outra_espacial': 'Porto de São Sebastião',\n",
       " 'version': '1.0',\n",
       " 'relationships_as_object': [],\n",
       " 'creator_user_id': 'd15f363b-56d2-4f68-bb8d-5bf000e0e159',\n",
       " 'type': 'dataset',\n",
       " 'resources': [{'cache_last_updated': None,\n",
       "   'package_id': 'b251e80b-a4e1-4425-b8ef-f74b2ac866f2',\n",
       "   'webstore_last_updated': None,\n",
       "   'datastore_active': False,\n",
       "   'id': '463800dd-a963-434b-aec1-c634f0bf2ab3',\n",
       "   'size': None,\n",
       "   'state': 'active',\n",
       "   'hash': '',\n",
       "   'description': 'Os documentos a serem consultados estão em formato PDF.',\n",
       "   'format': 'XLS',\n",
       "   'tracking_summary': {'total': 7, 'recent': 1},\n",
       "   'last_modified': None,\n",
       "   'url_type': None,\n",
       "   'mimetype': None,\n",
       "   'cache_url': None,\n",
       "   'name': 'Movimentação de Cargas',\n",
       "   'created': '2016-05-11T11:13:31.108353',\n",
       "   'url': 'http://portoss.sp.gov.br/home/administracao/documentacao/#elf_l1_QWRtaW5pc3RyYcOnw6NvL0VzdGF0w61zdGljYXM',\n",
       "   'webstore_url': None,\n",
       "   'mimetype_inner': None,\n",
       "   'position': 0,\n",
       "   'revision_id': 'f6eeb0a7-59e2-4eb7-b209-d3017d258df5',\n",
       "   'resource_type': None}],\n",
       " 'num_resources': 1,\n",
       " 'geocodificado': '0',\n",
       " 'tags': [{'vocabulary_id': None,\n",
       "   'state': 'active',\n",
       "   'display_name': 'Portos',\n",
       "   'id': '7ad7f96b-e0d4-4db3-aa30-f6a64bd09632',\n",
       "   'name': 'Portos'},\n",
       "  {'vocabulary_id': None,\n",
       "   'state': 'active',\n",
       "   'display_name': 'Transporte Marítimo',\n",
       "   'id': '1ae04a67-7c93-4e23-b8e9-1f8469a22e05',\n",
       "   'name': 'Transporte Marítimo'}],\n",
       " 'outro_motivo': '',\n",
       " 'atualizacao': '2',\n",
       " 'espacial': '6',\n",
       " 'outra_atualizacao': '',\n",
       " 'tracking_summary': {'total': 675, 'recent': 10},\n",
       " 'principais_informacoes': 'Tipos de cargas movimentadas, quantidade mensal, total movimentado.',\n",
       " 'outro_temporal': '',\n",
       " 'groups': [{'display_name': 'Transporte e infraestrutura',\n",
       "   'description': '',\n",
       "   'image_display_url': 'http://catalogo.governoaberto.sp.gov.br/images/logos/temas/logo_36.png',\n",
       "   'title': 'Transporte e infraestrutura',\n",
       "   'id': 'a645fd94-94d8-4dca-9e16-42f50045555f',\n",
       "   'name': 'transporte-e-infraestrutura'}],\n",
       " 'license_id': 'cc-by',\n",
       " 'relationships_as_subject': [],\n",
       " 'outro_sgbd': '',\n",
       " 'organization': {'description': '',\n",
       "  'created': '2016-03-09T17:31:47.124384',\n",
       "  'title': 'Companhia de Docas de São Sebastião',\n",
       "  'name': 'companhia-de-docas-de-sao-sebastiao',\n",
       "  'is_organization': True,\n",
       "  'state': 'active',\n",
       "  'image_url': 'http://catalogo.governoaberto.sp.gov.br/images/logos/organizacoes/logo_462.png',\n",
       "  'revision_id': 'cb445501-a29e-4665-9aca-80ffa8b34292',\n",
       "  'type': 'organization',\n",
       "  'id': '462',\n",
       "  'approval_status': 'approved'},\n",
       " 'name': '229-produtos-movimentados-no-porto-de-sao-sebastiao',\n",
       " 'isopen': True,\n",
       " 'url': '',\n",
       " 'notes': 'Informações relativas à movimentação de cargas por tipos, volume e sentido no Cais Comercial, Terminal Privativo da Pétrobrás - TEBAR e do porto Organizado. \\r\\n',\n",
       " 'owner_org': '462',\n",
       " 'periodo_inicial': '2014',\n",
       " 'motivo_restricao': '',\n",
       " 'fonte': ['proprio_orgao'],\n",
       " 'sgbd': ['mysql'],\n",
       " 'license_url': 'http://www.opendefinition.org/licenses/cc-by',\n",
       " 'title': 'Produtos movimentados no Porto de São Sebastião',\n",
       " 'revision_id': 'd2d37052-9efc-4933-b032-1e2ad0b6cebe',\n",
       " 'obs': ''}"
      ]
     },
     "execution_count": 35,
     "metadata": {},
     "output_type": "execute_result"
    }
   ],
   "source": [
    "d['result']"
   ]
  },
  {
   "cell_type": "code",
   "execution_count": null,
   "metadata": {},
   "outputs": [],
   "source": []
  },
  {
   "cell_type": "code",
   "execution_count": null,
   "metadata": {},
   "outputs": [],
   "source": []
  },
  {
   "cell_type": "code",
   "execution_count": null,
   "metadata": {},
   "outputs": [],
   "source": []
  },
  {
   "cell_type": "code",
   "execution_count": null,
   "metadata": {},
   "outputs": [],
   "source": []
  },
  {
   "cell_type": "code",
   "execution_count": null,
   "metadata": {},
   "outputs": [],
   "source": []
  },
  {
   "cell_type": "code",
   "execution_count": null,
   "metadata": {},
   "outputs": [],
   "source": []
  },
  {
   "cell_type": "code",
   "execution_count": null,
   "metadata": {},
   "outputs": [],
   "source": []
  },
  {
   "cell_type": "code",
   "execution_count": null,
   "metadata": {},
   "outputs": [],
   "source": []
  },
  {
   "cell_type": "code",
   "execution_count": null,
   "metadata": {},
   "outputs": [],
   "source": []
  },
  {
   "cell_type": "code",
   "execution_count": null,
   "metadata": {},
   "outputs": [],
   "source": []
  },
  {
   "cell_type": "code",
   "execution_count": null,
   "metadata": {},
   "outputs": [],
   "source": []
  }
 ],
 "metadata": {
  "kernelspec": {
   "display_name": "Python 3",
   "language": "python",
   "name": "python3"
  },
  "language_info": {
   "codemirror_mode": {
    "name": "ipython",
    "version": 3
   },
   "file_extension": ".py",
   "mimetype": "text/x-python",
   "name": "python",
   "nbconvert_exporter": "python",
   "pygments_lexer": "ipython3",
   "version": "3.7.4"
  }
 },
 "nbformat": 4,
 "nbformat_minor": 4
}
