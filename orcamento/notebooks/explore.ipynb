{
 "cells": [
  {
   "cell_type": "code",
   "execution_count": null,
   "metadata": {},
   "outputs": [],
   "source": [
    "def clean(df, ano):\n",
    "    df = df.drop(columns=['Unnamed: 16'])\n",
    "    df.columns = pd.Series(df.columns).str.normalize('NFKD').str.encode('ascii', errors='ignore').str.decode('utf-8').str.replace(' ','_').str.lower().str.strip().tolist()    \n",
    "    mask = df['orgao'].notnull()\n",
    "    df = df[mask]\n",
    "    \n",
    "    for col in df.columns[-6:]:\n",
    "        df[col] = df[col].str.replace('.','').str.replace(',','.')\n",
    "        df[col] = pd.to_numeric(df[col], errors='coerce')\n",
    "    \n",
    "    categoria = {\n",
    "        '3' :  'DESPESAS CORRENTES',\n",
    "        '4' :  'DESPESAS DE CAPITAL',\n",
    "        '9' :  'RESERVA DE CONTINGENCIA',\n",
    "    }\n",
    "    \n",
    "    df['categoria'] = df['elemento'].apply(lambda x: x[:1]).replace(categoria)\n",
    "\n",
    "    \n",
    "    grupo = {\n",
    "        '31' : 'PESSOAL E ENCARGOS SOCIAIS',\n",
    "        '32' : 'JUROS E ENCARGOS DA DIVIDA',\n",
    "        '33' : 'OUTRAS DESPESAS CORRENTES',\n",
    "        '44' : 'INVESTIMENTOS',\n",
    "        '45' : 'INVERSOES FINANCEIRAS',\n",
    "        '46' : 'AMORTIZACAO DE DIVIDA',\n",
    "        '99' : 'RESERVA DE CONTINGENCIA'\n",
    "    }\n",
    "    \n",
    "    df['grupo'] = df['elemento'].apply(lambda x: x[:2]).replace(grupo)\n",
    "    \n",
    "    modalidade = {\n",
    "        '3120' :  'TRANSFERENCIAS A UNIAO',\n",
    "        '3190' :  'APLICACOES DIRETAS',\n",
    "        '3191' :  'APLICACOES DIRETAS-INTRA ORCAMENTARIA',\n",
    "        '3290' :  'APLICACOES DIRETAS',\n",
    "        '3291' :  'APLICACOES DIRETAS INTRA-ORCAMENTARIAS',\n",
    "        '3320' :  'TRANSFERENCIAS A UNIAO',\n",
    "        '3340' :  'TRANSFERENCIAS A MUNICIPIOS',\n",
    "        '3341' :  'TRANSFERENCIAS A MUNICIPIOS - FUNDO A FUNDO',\n",
    "        '3350' :  'TRANSF.A INST.PRIVADAS SEM FINS LUCRATIVOS',\n",
    "        '3360' :  'TRANSF.A INST.PRIVADAS COM FINS LUCRATIVOS',\n",
    "        '3367' :  'EXECUCAO DE CONTRATO DE PPP',\n",
    "        '3370' :  'TRANSF.A INSTIT.MULTIGOVERN.NACIONAIS',\n",
    "        '3380' :  'TRANSFERENCIAS AO EXTERIOR',\n",
    "        '3390' :  'APLICACOES DIRETAS',\n",
    "        '3391' :  'APLICACOES DIRETAS-INTRA ORCAMENTARIAS',\n",
    "        '4420' :  'TRANSFERENCIAS A UNIAO',\n",
    "        '4440' :  'TRANSFERENCIAS A MUNICIPIOS',\n",
    "        '4450' :  'TRANSF.A INSTIT.PRIVADAS SEM FINS LUCRATIVOS',\n",
    "        '4490' :  'APLICACOES DIRETAS',\n",
    "        '4491' :  'APLICACOES DIRETAS-INTRA ORCAMENTARIAS',\n",
    "        '4567' :  'EXECUCAO DE CONTRATO DE PPP',\n",
    "        '4590' :  'APLICACOES DIRETAS',\n",
    "        '4591' :  'APLIC.DIRETAS-OP.ENTRE ENTID.INTEGR.ORCAMENT',\n",
    "        '4690' :  'APLICACOES DIRETAS',\n",
    "        '4691' :  'APLICACOES DIRETAS INTRA-ORCAMENTARIAS',\n",
    "        '9999' :  'RESERVA DE CONTINGENCIA',\n",
    "\n",
    "    }\n",
    "    \n",
    "    df['modalidade'] = df['elemento'].apply(lambda x: x[:4]).replace(modalidade)\n",
    "\n",
    "    df['ano'] = ano\n",
    "    \n",
    "    return(df)"
   ]
  },
  {
   "cell_type": "code",
   "execution_count": null,
   "metadata": {},
   "outputs": [],
   "source": [
    "import warnings\n",
    "warnings.filterwarnings('ignore')\n",
    "\n",
    "\n",
    "import pandas as pd\n",
    "import geopandas as gpd\n",
    "pd.options.display.max_columns = 999\n",
    "\n",
    "import plotly\n",
    "import plotly.graph_objs as go\n",
    "from plotly.offline import download_plotlyjs, init_notebook_mode, plot, iplot, offline\n",
    "offline.init_notebook_mode(connected=True)\n",
    "import plotly.express as px\n",
    "\n",
    "from mpl_toolkits.axes_grid1 import make_axes_locatable\n",
    "%pylab inline\n",
    "pylab.rcParams['figure.figsize'] = (12, 12)\n",
    "import seaborn as sns\n",
    "\n",
    "\n",
    "\n",
    "# For changes in .py\n",
    "%reload_ext autoreload\n",
    "%autoreload 2\n",
    "\n",
    "import numpy as np\n",
    "\n",
    "import missingno as msno\n",
    "\n",
    "stats = ['skew', 'mad', 'kurt']\n",
    "\n",
    "\n",
    "import qgrid\n",
    "\n",
    "def qg(df):\n",
    "    return(qgrid.show_grid(df,show_toolbar=True, grid_options={'forceFitColumns': False}))\n",
    "\n",
    "import itertools\n",
    "pd.set_option('display.max_rows', 500)\n",
    "pd.set_option('display.max_columns', 500)\n",
    "pd.set_option('display.width', -1)\n",
    "pd.set_option('display.max_colwidth', 100)\n",
    "\n",
    "import requests\n",
    "import json\n",
    "import xmltodict\n",
    "import re\n",
    "import urllib.request as urllib2\n",
    "import io\n",
    "import yaml\n",
    "\n",
    "import math\n",
    "import pysal as ps\n",
    "\n",
    "# from pysal.esda.mapclassify import Quantiles, Equal_Interval, Fisher_Jenks\n",
    "\n",
    "\n",
    "\n",
    "import imageio\n",
    "\n",
    "\n",
    "from sklearn import preprocessing\n"
   ]
  },
  {
   "cell_type": "code",
   "execution_count": null,
   "metadata": {},
   "outputs": [],
   "source": [
    "df_final = pd.DataFrame()\n",
    "\n",
    "anos = [str(i) for i in range(2010,2019)]\n",
    "\n",
    "for i in range(len(anos)):\n",
    "\n",
    "    df = pd.read_csv('../data/orcamento_{}.csv'.format(anos[i]), encoding=\"ISO-8859-9\")\n",
    "\n",
    "    df_clened = clean(df,anos[i])\n",
    "    \n",
    "    \n",
    "    if i == 0:\n",
    "        df_final = df_clened.copy()\n",
    "    else:\n",
    "        df_final = pd.concat([df_final,df_clened],axis=0)"
   ]
  },
  {
   "cell_type": "code",
   "execution_count": 27,
   "metadata": {},
   "outputs": [],
   "source": [
    "def split_codes(df,col):\n",
    "    df['{}_codigo'.format(col)] = df[col].str.split('-').apply(lambda x: x[0]).str.strip()\n",
    "    df['{}'.format(col)]        = df[col].str.split('-').apply(lambda x: x[1]).str.strip()\n",
    "    return(df)"
   ]
  },
  {
   "cell_type": "code",
   "execution_count": 28,
   "metadata": {},
   "outputs": [],
   "source": [
    "df_final = split_codes(df_final, 'orgao')"
   ]
  },
  {
   "cell_type": "code",
   "execution_count": 60,
   "metadata": {},
   "outputs": [],
   "source": [
    "total_anual = df_final.groupby(by=['ano'], as_index=False).sum()"
   ]
  },
  {
   "cell_type": "code",
   "execution_count": 61,
   "metadata": {},
   "outputs": [],
   "source": [
    "orgaos_hist = df_final.groupby(by=['orgao_codigo', 'orgao' ,'ano'], as_index=False).sum()"
   ]
  },
  {
   "cell_type": "code",
   "execution_count": 62,
   "metadata": {},
   "outputs": [],
   "source": [
    "orgaos_hist = pd.merge(orgaos_hist,total_anual, how = 'inner', on ='ano', suffixes=('','_total'))"
   ]
  },
  {
   "cell_type": "code",
   "execution_count": 63,
   "metadata": {},
   "outputs": [],
   "source": [
    "for col in orgaos_hist.columns[3:9]:\n",
    "    orgaos_hist[\"{}_percent\".format(col)] = orgaos_hist[col] / orgaos_hist[\"{}_total\".format(col)]*100"
   ]
  },
  {
   "cell_type": "code",
   "execution_count": 69,
   "metadata": {},
   "outputs": [
    {
     "data": {
      "text/html": [
       "<div>\n",
       "<style scoped>\n",
       "    .dataframe tbody tr th:only-of-type {\n",
       "        vertical-align: middle;\n",
       "    }\n",
       "\n",
       "    .dataframe tbody tr th {\n",
       "        vertical-align: top;\n",
       "    }\n",
       "\n",
       "    .dataframe thead th {\n",
       "        text-align: right;\n",
       "    }\n",
       "</style>\n",
       "<table border=\"1\" class=\"dataframe\">\n",
       "  <thead>\n",
       "    <tr style=\"text-align: right;\">\n",
       "      <th></th>\n",
       "      <th>orgao_codigo</th>\n",
       "      <th>orgao</th>\n",
       "      <th>ano</th>\n",
       "      <th>dotacao_inicial</th>\n",
       "      <th>dotacao_atual</th>\n",
       "      <th>empenhado</th>\n",
       "      <th>liquidado</th>\n",
       "      <th>pago</th>\n",
       "      <th>pago_restos</th>\n",
       "      <th>dotacao_inicial_total</th>\n",
       "      <th>dotacao_atual_total</th>\n",
       "      <th>empenhado_total</th>\n",
       "      <th>liquidado_total</th>\n",
       "      <th>pago_total</th>\n",
       "      <th>pago_restos_total</th>\n",
       "      <th>dotacao_inicial_percent</th>\n",
       "      <th>dotacao_atual_percent</th>\n",
       "      <th>empenhado_percent</th>\n",
       "      <th>liquidado_percent</th>\n",
       "      <th>pago_percent</th>\n",
       "      <th>pago_restos_percent</th>\n",
       "    </tr>\n",
       "  </thead>\n",
       "  <tbody>\n",
       "    <tr>\n",
       "      <td>0</td>\n",
       "      <td>01000</td>\n",
       "      <td>ASSEMBLEIA LEGISLATIVA</td>\n",
       "      <td>2010</td>\n",
       "      <td>6.800834e+08</td>\n",
       "      <td>6.828174e+08</td>\n",
       "      <td>6.603327e+08</td>\n",
       "      <td>6.603327e+08</td>\n",
       "      <td>5.726826e+08</td>\n",
       "      <td>5.552058e+07</td>\n",
       "      <td>1.404244e+11</td>\n",
       "      <td>1.550857e+11</td>\n",
       "      <td>1.470561e+11</td>\n",
       "      <td>1.470561e+11</td>\n",
       "      <td>1.290437e+11</td>\n",
       "      <td>1.506868e+10</td>\n",
       "      <td>0.484306</td>\n",
       "      <td>0.440284</td>\n",
       "      <td>0.449035</td>\n",
       "      <td>0.449035</td>\n",
       "      <td>0.443789</td>\n",
       "      <td>0.368450</td>\n",
       "    </tr>\n",
       "    <tr>\n",
       "      <td>1</td>\n",
       "      <td>02000</td>\n",
       "      <td>TRIBUNAL DE CONTAS DO ESTADO</td>\n",
       "      <td>2010</td>\n",
       "      <td>4.551871e+08</td>\n",
       "      <td>4.744519e+08</td>\n",
       "      <td>4.711155e+08</td>\n",
       "      <td>4.711155e+08</td>\n",
       "      <td>4.206004e+08</td>\n",
       "      <td>4.337820e+07</td>\n",
       "      <td>1.404244e+11</td>\n",
       "      <td>1.550857e+11</td>\n",
       "      <td>1.470561e+11</td>\n",
       "      <td>1.470561e+11</td>\n",
       "      <td>1.290437e+11</td>\n",
       "      <td>1.506868e+10</td>\n",
       "      <td>0.324151</td>\n",
       "      <td>0.305929</td>\n",
       "      <td>0.320365</td>\n",
       "      <td>0.320365</td>\n",
       "      <td>0.325936</td>\n",
       "      <td>0.287870</td>\n",
       "    </tr>\n",
       "    <tr>\n",
       "      <td>2</td>\n",
       "      <td>03000</td>\n",
       "      <td>TRIBUNAL DE JUSTICA</td>\n",
       "      <td>2010</td>\n",
       "      <td>5.176147e+09</td>\n",
       "      <td>5.510629e+09</td>\n",
       "      <td>5.467961e+09</td>\n",
       "      <td>5.467961e+09</td>\n",
       "      <td>5.003959e+09</td>\n",
       "      <td>4.256768e+08</td>\n",
       "      <td>1.404244e+11</td>\n",
       "      <td>1.550857e+11</td>\n",
       "      <td>1.470561e+11</td>\n",
       "      <td>1.470561e+11</td>\n",
       "      <td>1.290437e+11</td>\n",
       "      <td>1.506868e+10</td>\n",
       "      <td>3.686074</td>\n",
       "      <td>3.553281</td>\n",
       "      <td>3.718283</td>\n",
       "      <td>3.718283</td>\n",
       "      <td>3.877723</td>\n",
       "      <td>2.824912</td>\n",
       "    </tr>\n",
       "    <tr>\n",
       "      <td>3</td>\n",
       "      <td>06000</td>\n",
       "      <td>TRIBUNAL DE JUSTICA MILITAR</td>\n",
       "      <td>2010</td>\n",
       "      <td>3.919525e+07</td>\n",
       "      <td>3.965598e+07</td>\n",
       "      <td>3.780703e+07</td>\n",
       "      <td>3.780703e+07</td>\n",
       "      <td>3.202518e+07</td>\n",
       "      <td>4.096943e+06</td>\n",
       "      <td>1.404244e+11</td>\n",
       "      <td>1.550857e+11</td>\n",
       "      <td>1.470561e+11</td>\n",
       "      <td>1.470561e+11</td>\n",
       "      <td>1.290437e+11</td>\n",
       "      <td>1.506868e+10</td>\n",
       "      <td>0.027912</td>\n",
       "      <td>0.025570</td>\n",
       "      <td>0.025709</td>\n",
       "      <td>0.025709</td>\n",
       "      <td>0.024817</td>\n",
       "      <td>0.027188</td>\n",
       "    </tr>\n",
       "    <tr>\n",
       "      <td>4</td>\n",
       "      <td>08000</td>\n",
       "      <td>SECRETARIA DA EDUCACAO</td>\n",
       "      <td>2010</td>\n",
       "      <td>1.629330e+10</td>\n",
       "      <td>1.918592e+10</td>\n",
       "      <td>1.897872e+10</td>\n",
       "      <td>1.897872e+10</td>\n",
       "      <td>1.560691e+10</td>\n",
       "      <td>2.880050e+09</td>\n",
       "      <td>1.404244e+11</td>\n",
       "      <td>1.550857e+11</td>\n",
       "      <td>1.470561e+11</td>\n",
       "      <td>1.470561e+11</td>\n",
       "      <td>1.290437e+11</td>\n",
       "      <td>1.506868e+10</td>\n",
       "      <td>11.602895</td>\n",
       "      <td>12.371172</td>\n",
       "      <td>12.905772</td>\n",
       "      <td>12.905772</td>\n",
       "      <td>12.094281</td>\n",
       "      <td>19.112825</td>\n",
       "    </tr>\n",
       "  </tbody>\n",
       "</table>\n",
       "</div>"
      ],
      "text/plain": [
       "  orgao_codigo  \\\n",
       "0        01000   \n",
       "1        02000   \n",
       "2        03000   \n",
       "3        06000   \n",
       "4        08000   \n",
       "\n",
       "                          orgao  \\\n",
       "0        ASSEMBLEIA LEGISLATIVA   \n",
       "1  TRIBUNAL DE CONTAS DO ESTADO   \n",
       "2           TRIBUNAL DE JUSTICA   \n",
       "3   TRIBUNAL DE JUSTICA MILITAR   \n",
       "4        SECRETARIA DA EDUCACAO   \n",
       "\n",
       "    ano  \\\n",
       "0  2010   \n",
       "1  2010   \n",
       "2  2010   \n",
       "3  2010   \n",
       "4  2010   \n",
       "\n",
       "   dotacao_inicial  \\\n",
       "0     6.800834e+08   \n",
       "1     4.551871e+08   \n",
       "2     5.176147e+09   \n",
       "3     3.919525e+07   \n",
       "4     1.629330e+10   \n",
       "\n",
       "   dotacao_atual  \\\n",
       "0   6.828174e+08   \n",
       "1   4.744519e+08   \n",
       "2   5.510629e+09   \n",
       "3   3.965598e+07   \n",
       "4   1.918592e+10   \n",
       "\n",
       "      empenhado  \\\n",
       "0  6.603327e+08   \n",
       "1  4.711155e+08   \n",
       "2  5.467961e+09   \n",
       "3  3.780703e+07   \n",
       "4  1.897872e+10   \n",
       "\n",
       "      liquidado  \\\n",
       "0  6.603327e+08   \n",
       "1  4.711155e+08   \n",
       "2  5.467961e+09   \n",
       "3  3.780703e+07   \n",
       "4  1.897872e+10   \n",
       "\n",
       "           pago  \\\n",
       "0  5.726826e+08   \n",
       "1  4.206004e+08   \n",
       "2  5.003959e+09   \n",
       "3  3.202518e+07   \n",
       "4  1.560691e+10   \n",
       "\n",
       "    pago_restos  \\\n",
       "0  5.552058e+07   \n",
       "1  4.337820e+07   \n",
       "2  4.256768e+08   \n",
       "3  4.096943e+06   \n",
       "4  2.880050e+09   \n",
       "\n",
       "   dotacao_inicial_total  \\\n",
       "0           1.404244e+11   \n",
       "1           1.404244e+11   \n",
       "2           1.404244e+11   \n",
       "3           1.404244e+11   \n",
       "4           1.404244e+11   \n",
       "\n",
       "   dotacao_atual_total  \\\n",
       "0         1.550857e+11   \n",
       "1         1.550857e+11   \n",
       "2         1.550857e+11   \n",
       "3         1.550857e+11   \n",
       "4         1.550857e+11   \n",
       "\n",
       "   empenhado_total  \\\n",
       "0     1.470561e+11   \n",
       "1     1.470561e+11   \n",
       "2     1.470561e+11   \n",
       "3     1.470561e+11   \n",
       "4     1.470561e+11   \n",
       "\n",
       "   liquidado_total  \\\n",
       "0     1.470561e+11   \n",
       "1     1.470561e+11   \n",
       "2     1.470561e+11   \n",
       "3     1.470561e+11   \n",
       "4     1.470561e+11   \n",
       "\n",
       "     pago_total  \\\n",
       "0  1.290437e+11   \n",
       "1  1.290437e+11   \n",
       "2  1.290437e+11   \n",
       "3  1.290437e+11   \n",
       "4  1.290437e+11   \n",
       "\n",
       "   pago_restos_total  \\\n",
       "0       1.506868e+10   \n",
       "1       1.506868e+10   \n",
       "2       1.506868e+10   \n",
       "3       1.506868e+10   \n",
       "4       1.506868e+10   \n",
       "\n",
       "   dotacao_inicial_percent  \\\n",
       "0                 0.484306   \n",
       "1                 0.324151   \n",
       "2                 3.686074   \n",
       "3                 0.027912   \n",
       "4                11.602895   \n",
       "\n",
       "   dotacao_atual_percent  \\\n",
       "0               0.440284   \n",
       "1               0.305929   \n",
       "2               3.553281   \n",
       "3               0.025570   \n",
       "4              12.371172   \n",
       "\n",
       "   empenhado_percent  \\\n",
       "0           0.449035   \n",
       "1           0.320365   \n",
       "2           3.718283   \n",
       "3           0.025709   \n",
       "4          12.905772   \n",
       "\n",
       "   liquidado_percent  \\\n",
       "0           0.449035   \n",
       "1           0.320365   \n",
       "2           3.718283   \n",
       "3           0.025709   \n",
       "4          12.905772   \n",
       "\n",
       "   pago_percent  \\\n",
       "0      0.443789   \n",
       "1      0.325936   \n",
       "2      3.877723   \n",
       "3      0.024817   \n",
       "4     12.094281   \n",
       "\n",
       "   pago_restos_percent  \n",
       "0             0.368450  \n",
       "1             0.287870  \n",
       "2             2.824912  \n",
       "3             0.027188  \n",
       "4            19.112825  "
      ]
     },
     "execution_count": 69,
     "metadata": {},
     "output_type": "execute_result"
    }
   ],
   "source": [
    "orgaos_hist.head()"
   ]
  },
  {
   "cell_type": "code",
   "execution_count": 71,
   "metadata": {},
   "outputs": [],
   "source": [
    "cols = orgaos_hist.columns[:3].tolist() + ['dotacao_atual','dotacao_atual_percent','empenhado','empenhado_percent']\n",
    "\n",
    "orgaos = orgaos_hist[cols].sort_values(by =['orgao_codigo','ano'])"
   ]
  },
  {
   "cell_type": "code",
   "execution_count": 74,
   "metadata": {},
   "outputs": [
    {
     "data": {
      "application/vnd.plotly.v1+json": {
       "config": {
        "plotlyServerURL": "https://plot.ly"
       },
       "data": [
        {
         "alignmentgroup": "True",
         "hoverlabel": {
          "namelength": 0
         },
         "hovertemplate": "orgao=ASSEMBLEIA LEGISLATIVA<br>ano=%{x}<br>empenhado=%{y}",
         "legendgroup": "orgao=ASSEMBLEIA LEGISLATIVA",
         "marker": {
          "color": "#636efa"
         },
         "name": "orgao=ASSEMBLEIA LEGISLATIVA",
         "offsetgroup": "orgao=ASSEMBLEIA LEGISLATIVA",
         "orientation": "v",
         "showlegend": true,
         "textposition": "auto",
         "type": "bar",
         "visible": "legendonly",
         "x": [
          "2010",
          "2011",
          "2012",
          "2013",
          "2014",
          "2015",
          "2016",
          "2017",
          "2018"
         ],
         "xaxis": "x",
         "y": [
          660332721.7599999,
          689363806.15,
          760253462.2199998,
          819095474.2699999,
          874881577.2300001,
          969418633.77,
          1076670456.52,
          1122242466.1599998,
          1160359152.7600002
         ],
         "yaxis": "y"
        },
        {
         "alignmentgroup": "True",
         "hoverlabel": {
          "namelength": 0
         },
         "hovertemplate": "orgao=TRIBUNAL DE CONTAS DO ESTADO<br>ano=%{x}<br>empenhado=%{y}",
         "legendgroup": "orgao=TRIBUNAL DE CONTAS DO ESTADO",
         "marker": {
          "color": "#EF553B"
         },
         "name": "orgao=TRIBUNAL DE CONTAS DO ESTADO",
         "offsetgroup": "orgao=TRIBUNAL DE CONTAS DO ESTADO",
         "orientation": "v",
         "showlegend": true,
         "textposition": "auto",
         "type": "bar",
         "visible": "legendonly",
         "x": [
          "2010",
          "2011",
          "2012",
          "2013",
          "2014",
          "2015",
          "2016",
          "2017",
          "2018"
         ],
         "xaxis": "x",
         "y": [
          471115509.24000007,
          496419938.8,
          526709213.57000005,
          586429045.96,
          677816754.15,
          740366154.11,
          852575541.23,
          879345486.58,
          931239097.9
         ],
         "yaxis": "y"
        },
        {
         "alignmentgroup": "True",
         "hoverlabel": {
          "namelength": 0
         },
         "hovertemplate": "orgao=TRIBUNAL DE JUSTICA<br>ano=%{x}<br>empenhado=%{y}",
         "legendgroup": "orgao=TRIBUNAL DE JUSTICA",
         "marker": {
          "color": "#00cc96"
         },
         "name": "orgao=TRIBUNAL DE JUSTICA",
         "offsetgroup": "orgao=TRIBUNAL DE JUSTICA",
         "orientation": "v",
         "showlegend": true,
         "textposition": "auto",
         "type": "bar",
         "visible": "legendonly",
         "x": [
          "2010",
          "2011",
          "2012",
          "2013",
          "2014",
          "2015",
          "2016",
          "2017",
          "2018"
         ],
         "xaxis": "x",
         "y": [
          5467961122.330001,
          6173823774.880003,
          7666882448.74,
          8578976975.680003,
          9315376150.340002,
          10265150223.26,
          10893281675.510006,
          12017311231.300003,
          12451318955.690002
         ],
         "yaxis": "y"
        },
        {
         "alignmentgroup": "True",
         "hoverlabel": {
          "namelength": 0
         },
         "hovertemplate": "orgao=TRIBUNAL DE JUSTICA MILITAR<br>ano=%{x}<br>empenhado=%{y}",
         "legendgroup": "orgao=TRIBUNAL DE JUSTICA MILITAR",
         "marker": {
          "color": "#ab63fa"
         },
         "name": "orgao=TRIBUNAL DE JUSTICA MILITAR",
         "offsetgroup": "orgao=TRIBUNAL DE JUSTICA MILITAR",
         "orientation": "v",
         "showlegend": true,
         "textposition": "auto",
         "type": "bar",
         "visible": "legendonly",
         "x": [
          "2010",
          "2011",
          "2012",
          "2013",
          "2014",
          "2015",
          "2016",
          "2017",
          "2018"
         ],
         "xaxis": "x",
         "y": [
          37807026.59,
          39611020,
          45075524.54999999,
          52142949.230000004,
          51046028.93999999,
          57537395.33999999,
          58922558.28999999,
          64344945.11,
          67248888.14
         ],
         "yaxis": "y"
        },
        {
         "alignmentgroup": "True",
         "hoverlabel": {
          "namelength": 0
         },
         "hovertemplate": "orgao=SECRETARIA DA EDUCACAO<br>ano=%{x}<br>empenhado=%{y}",
         "legendgroup": "orgao=SECRETARIA DA EDUCACAO",
         "marker": {
          "color": "#FFA15A"
         },
         "name": "orgao=SECRETARIA DA EDUCACAO",
         "offsetgroup": "orgao=SECRETARIA DA EDUCACAO",
         "orientation": "v",
         "showlegend": true,
         "textposition": "auto",
         "type": "bar",
         "visible": "legendonly",
         "x": [
          "2010",
          "2011",
          "2012",
          "2013",
          "2014",
          "2015",
          "2016",
          "2017",
          "2018"
         ],
         "xaxis": "x",
         "y": [
          18978719367.170055,
          21387419753.759995,
          22300973508.169983,
          25920642317.01005,
          28000672813.73002,
          29638500336.159966,
          28668135220.17004,
          30282789881.610115,
          31460376071.439888
         ],
         "yaxis": "y"
        },
        {
         "alignmentgroup": "True",
         "hoverlabel": {
          "namelength": 0
         },
         "hovertemplate": "orgao=SECRETARIA DA SAUDE<br>ano=%{x}<br>empenhado=%{y}",
         "legendgroup": "orgao=SECRETARIA DA SAUDE",
         "marker": {
          "color": "#19d3f3"
         },
         "name": "orgao=SECRETARIA DA SAUDE",
         "offsetgroup": "orgao=SECRETARIA DA SAUDE",
         "orientation": "v",
         "showlegend": true,
         "textposition": "auto",
         "type": "bar",
         "visible": "legendonly",
         "x": [
          "2010",
          "2011",
          "2012",
          "2013",
          "2014",
          "2015",
          "2016",
          "2017",
          "2018"
         ],
         "xaxis": "x",
         "y": [
          13062529301.099981,
          14192516147.750017,
          15065404905.20001,
          17693267764.869972,
          19318947156.370026,
          20621996224.579983,
          21074779821.66999,
          22161830475.909992,
          23081635294.169987
         ],
         "yaxis": "y"
        },
        {
         "alignmentgroup": "True",
         "hoverlabel": {
          "namelength": 0
         },
         "hovertemplate": "orgao=SEC.DESENV. ECONOMICO, CIENCIA,TECN. INOVACA<br>ano=%{x}<br>empenhado=%{y}",
         "legendgroup": "orgao=SEC.DESENV. ECONOMICO, CIENCIA,TECN. INOVACA",
         "marker": {
          "color": "#FF6692"
         },
         "name": "orgao=SEC.DESENV. ECONOMICO, CIENCIA,TECN. INOVACA",
         "offsetgroup": "orgao=SEC.DESENV. ECONOMICO, CIENCIA,TECN. INOVACA",
         "orientation": "v",
         "showlegend": true,
         "textposition": "auto",
         "type": "bar",
         "visible": "legendonly",
         "x": [
          "2010",
          "2011",
          "2012",
          "2013",
          "2014",
          "2015",
          "2016",
          "2017"
         ],
         "xaxis": "x",
         "y": [
          1589317042.1699998,
          10851039066.979996,
          12311485503.430008,
          14081270073.780003,
          13267131069.330004,
          14612774263.869987,
          15116071545.150013,
          15195914330.410004
         ],
         "yaxis": "y"
        },
        {
         "alignmentgroup": "True",
         "hoverlabel": {
          "namelength": 0
         },
         "hovertemplate": "orgao=SECR. DESENV. ECONOMICO<br>ano=%{x}<br>empenhado=%{y}",
         "legendgroup": "orgao=SECR. DESENV. ECONOMICO",
         "marker": {
          "color": "#B6E880"
         },
         "name": "orgao=SECR. DESENV. ECONOMICO",
         "offsetgroup": "orgao=SECR. DESENV. ECONOMICO",
         "orientation": "v",
         "showlegend": true,
         "textposition": "auto",
         "type": "bar",
         "visible": "legendonly",
         "x": [
          "2018"
         ],
         "xaxis": "x",
         "y": [
          15504656403.579998
         ],
         "yaxis": "y"
        },
        {
         "alignmentgroup": "True",
         "hoverlabel": {
          "namelength": 0
         },
         "hovertemplate": "orgao=SECRETARIA DA CULTURA<br>ano=%{x}<br>empenhado=%{y}",
         "legendgroup": "orgao=SECRETARIA DA CULTURA",
         "marker": {
          "color": "#FF97FF"
         },
         "name": "orgao=SECRETARIA DA CULTURA",
         "offsetgroup": "orgao=SECRETARIA DA CULTURA",
         "orientation": "v",
         "showlegend": true,
         "textposition": "auto",
         "type": "bar",
         "visible": "legendonly",
         "x": [
          "2010",
          "2011",
          "2012",
          "2013",
          "2014",
          "2015",
          "2016",
          "2017"
         ],
         "xaxis": "x",
         "y": [
          924424473.2600001,
          789894258.7799999,
          779474001.7,
          911338434.5299997,
          913193762.6500003,
          767902020.8100003,
          693462103.6499996,
          736551774.7799999
         ],
         "yaxis": "y"
        },
        {
         "alignmentgroup": "True",
         "hoverlabel": {
          "namelength": 0
         },
         "hovertemplate": "orgao=SECRETARIA DA CULTURA E ECONOMIA CRIATIVA<br>ano=%{x}<br>empenhado=%{y}",
         "legendgroup": "orgao=SECRETARIA DA CULTURA E ECONOMIA CRIATIVA",
         "marker": {
          "color": "#FECB52"
         },
         "name": "orgao=SECRETARIA DA CULTURA E ECONOMIA CRIATIVA",
         "offsetgroup": "orgao=SECRETARIA DA CULTURA E ECONOMIA CRIATIVA",
         "orientation": "v",
         "showlegend": true,
         "textposition": "auto",
         "type": "bar",
         "visible": "legendonly",
         "x": [
          "2018"
         ],
         "xaxis": "x",
         "y": [
          790577506.22
         ],
         "yaxis": "y"
        },
        {
         "alignmentgroup": "True",
         "hoverlabel": {
          "namelength": 0
         },
         "hovertemplate": "orgao=SECRETARIA DE AGRICULTURA E ABASTECIMENTO<br>ano=%{x}<br>empenhado=%{y}",
         "legendgroup": "orgao=SECRETARIA DE AGRICULTURA E ABASTECIMENTO",
         "marker": {
          "color": "#636efa"
         },
         "name": "orgao=SECRETARIA DE AGRICULTURA E ABASTECIMENTO",
         "offsetgroup": "orgao=SECRETARIA DE AGRICULTURA E ABASTECIMENTO",
         "orientation": "v",
         "showlegend": true,
         "textposition": "auto",
         "type": "bar",
         "visible": "legendonly",
         "x": [
          "2010",
          "2011",
          "2012",
          "2013",
          "2014",
          "2015",
          "2016",
          "2017",
          "2018"
         ],
         "xaxis": "x",
         "y": [
          1017087014.6100003,
          833990840.0799994,
          944302527.0699993,
          995607408.9299989,
          1049776592.2500002,
          1030747949.6000005,
          854105284.7099996,
          938865256.7900008,
          911548583.5900005
         ],
         "yaxis": "y"
        },
        {
         "alignmentgroup": "True",
         "hoverlabel": {
          "namelength": 0
         },
         "hovertemplate": "orgao=SECRETARIA DE LOGISTICA E TRANSPORTES<br>ano=%{x}<br>empenhado=%{y}",
         "legendgroup": "orgao=SECRETARIA DE LOGISTICA E TRANSPORTES",
         "marker": {
          "color": "#EF553B"
         },
         "name": "orgao=SECRETARIA DE LOGISTICA E TRANSPORTES",
         "offsetgroup": "orgao=SECRETARIA DE LOGISTICA E TRANSPORTES",
         "orientation": "v",
         "showlegend": true,
         "textposition": "auto",
         "type": "bar",
         "visible": "legendonly",
         "x": [
          "2010",
          "2011",
          "2012",
          "2013",
          "2014",
          "2015",
          "2016",
          "2017",
          "2018"
         ],
         "xaxis": "x",
         "y": [
          7212148534.710005,
          5415439757.650002,
          3919915654.2399983,
          7701898996.680001,
          6620715250.240004,
          4373753251.709997,
          5538091844.309998,
          5521173583.8600025,
          3865846889.930001
         ],
         "yaxis": "y"
        },
        {
         "alignmentgroup": "True",
         "hoverlabel": {
          "namelength": 0
         },
         "hovertemplate": "orgao=SEC.DA JUSTICA E DA DEFESA DA CIDADANIA<br>ano=%{x}<br>empenhado=%{y}",
         "legendgroup": "orgao=SEC.DA JUSTICA E DA DEFESA DA CIDADANIA",
         "marker": {
          "color": "#00cc96"
         },
         "name": "orgao=SEC.DA JUSTICA E DA DEFESA DA CIDADANIA",
         "offsetgroup": "orgao=SEC.DA JUSTICA E DA DEFESA DA CIDADANIA",
         "orientation": "v",
         "showlegend": true,
         "textposition": "auto",
         "type": "bar",
         "visible": "legendonly",
         "x": [
          "2010",
          "2011",
          "2012",
          "2013",
          "2014",
          "2015",
          "2016",
          "2017"
         ],
         "xaxis": "x",
         "y": [
          1069056787.81,
          1392981625.940002,
          1398482323.4100006,
          1681964272.0899994,
          1935539722.9499998,
          1993321637.6599998,
          1985248419.5399997,
          1995268325.2199998
         ],
         "yaxis": "y"
        },
        {
         "alignmentgroup": "True",
         "hoverlabel": {
          "namelength": 0
         },
         "hovertemplate": "orgao=SEC.DA JUSTICA E CIDADANIA<br>ano=%{x}<br>empenhado=%{y}",
         "legendgroup": "orgao=SEC.DA JUSTICA E CIDADANIA",
         "marker": {
          "color": "#ab63fa"
         },
         "name": "orgao=SEC.DA JUSTICA E CIDADANIA",
         "offsetgroup": "orgao=SEC.DA JUSTICA E CIDADANIA",
         "orientation": "v",
         "showlegend": true,
         "textposition": "auto",
         "type": "bar",
         "visible": "legendonly",
         "x": [
          "2018"
         ],
         "xaxis": "x",
         "y": [
          2027035374.5499992
         ],
         "yaxis": "y"
        },
        {
         "alignmentgroup": "True",
         "hoverlabel": {
          "namelength": 0
         },
         "hovertemplate": "orgao=SECRETARIA DA SEGURANCA PUBLICA<br>ano=%{x}<br>empenhado=%{y}",
         "legendgroup": "orgao=SECRETARIA DA SEGURANCA PUBLICA",
         "marker": {
          "color": "#FFA15A"
         },
         "name": "orgao=SECRETARIA DA SEGURANCA PUBLICA",
         "offsetgroup": "orgao=SECRETARIA DA SEGURANCA PUBLICA",
         "orientation": "v",
         "showlegend": true,
         "textposition": "auto",
         "type": "bar",
         "visible": "legendonly",
         "x": [
          "2010",
          "2011",
          "2012",
          "2013",
          "2014",
          "2015",
          "2016",
          "2017",
          "2018"
         ],
         "xaxis": "x",
         "y": [
          10919100620.41999,
          12201299818.94002,
          14498009709.570004,
          15823093099.070005,
          17961630272.699974,
          19597959662.770016,
          19797836092.760006,
          20583604296.599964,
          21156657805.76001
         ],
         "yaxis": "y"
        },
        {
         "alignmentgroup": "True",
         "hoverlabel": {
          "namelength": 0
         },
         "hovertemplate": "orgao=SECRETARIA DA FAZENDA<br>ano=%{x}<br>empenhado=%{y}",
         "legendgroup": "orgao=SECRETARIA DA FAZENDA",
         "marker": {
          "color": "#19d3f3"
         },
         "name": "orgao=SECRETARIA DA FAZENDA",
         "offsetgroup": "orgao=SECRETARIA DA FAZENDA",
         "orientation": "v",
         "showlegend": true,
         "textposition": "auto",
         "type": "bar",
         "visible": "legendonly",
         "x": [
          "2010",
          "2011",
          "2012",
          "2013",
          "2014",
          "2015",
          "2016",
          "2017"
         ],
         "xaxis": "x",
         "y": [
          18261466553.040005,
          20982081161.850002,
          24257431911.870007,
          26793508825.24,
          28491440579.39,
          31498812262.58,
          32925889083.39,
          34767014637.33001
         ],
         "yaxis": "y"
        },
        {
         "alignmentgroup": "True",
         "hoverlabel": {
          "namelength": 0
         },
         "hovertemplate": "orgao=SECRETARIA DA FAZENDA E PLANEJAMENTO<br>ano=%{x}<br>empenhado=%{y}",
         "legendgroup": "orgao=SECRETARIA DA FAZENDA E PLANEJAMENTO",
         "marker": {
          "color": "#FF6692"
         },
         "name": "orgao=SECRETARIA DA FAZENDA E PLANEJAMENTO",
         "offsetgroup": "orgao=SECRETARIA DA FAZENDA E PLANEJAMENTO",
         "orientation": "v",
         "showlegend": true,
         "textposition": "auto",
         "type": "bar",
         "visible": "legendonly",
         "x": [
          "2018"
         ],
         "xaxis": "x",
         "y": [
          37194885030.689995
         ],
         "yaxis": "y"
        },
        {
         "alignmentgroup": "True",
         "hoverlabel": {
          "namelength": 0
         },
         "hovertemplate": "orgao=ADMINISTRACAO GERAL DO ESTADO<br>ano=%{x}<br>empenhado=%{y}",
         "legendgroup": "orgao=ADMINISTRACAO GERAL DO ESTADO",
         "marker": {
          "color": "#B6E880"
         },
         "name": "orgao=ADMINISTRACAO GERAL DO ESTADO",
         "offsetgroup": "orgao=ADMINISTRACAO GERAL DO ESTADO",
         "orientation": "v",
         "showlegend": true,
         "textposition": "auto",
         "type": "bar",
         "visible": "legendonly",
         "x": [
          "2010",
          "2011",
          "2012",
          "2013",
          "2014",
          "2015",
          "2016",
          "2017",
          "2018"
         ],
         "xaxis": "x",
         "y": [
          38814509691.040016,
          44995188014.80001,
          48619997569.57002,
          53820759622.65,
          56381657006,
          59802349924,
          54414651650.569984,
          57864252671.93,
          65424352187.48
         ],
         "yaxis": "y"
        },
        {
         "alignmentgroup": "True",
         "hoverlabel": {
          "namelength": 0
         },
         "hovertemplate": "orgao=SEC.DO EMPREGO E RELACOES DO TRABALHO<br>ano=%{x}<br>empenhado=%{y}",
         "legendgroup": "orgao=SEC.DO EMPREGO E RELACOES DO TRABALHO",
         "marker": {
          "color": "#FF97FF"
         },
         "name": "orgao=SEC.DO EMPREGO E RELACOES DO TRABALHO",
         "offsetgroup": "orgao=SEC.DO EMPREGO E RELACOES DO TRABALHO",
         "orientation": "v",
         "showlegend": true,
         "textposition": "auto",
         "type": "bar",
         "visible": "legendonly",
         "x": [
          "2010",
          "2011",
          "2012",
          "2013",
          "2014",
          "2015",
          "2016",
          "2017",
          "2018"
         ],
         "xaxis": "x",
         "y": [
          190168307.78000006,
          151031957.77,
          133999653.90999998,
          153275000.34999987,
          137397673.25000003,
          136571839.66,
          112767728.67999998,
          115799780.50999999,
          235402403.46999994
         ],
         "yaxis": "y"
        },
        {
         "alignmentgroup": "True",
         "hoverlabel": {
          "namelength": 0
         },
         "hovertemplate": "orgao=SECRETARIA DE TURISMO<br>ano=%{x}<br>empenhado=%{y}",
         "legendgroup": "orgao=SECRETARIA DE TURISMO",
         "marker": {
          "color": "#FECB52"
         },
         "name": "orgao=SECRETARIA DE TURISMO",
         "offsetgroup": "orgao=SECRETARIA DE TURISMO",
         "orientation": "v",
         "showlegend": true,
         "textposition": "auto",
         "type": "bar",
         "visible": "legendonly",
         "x": [
          "2011",
          "2012",
          "2011",
          "2012",
          "2013",
          "2014",
          "2015",
          "2016",
          "2017",
          "2018"
         ],
         "xaxis": "x",
         "y": [
          0,
          0,
          244154564.13000003,
          291564774.14000005,
          286052542.88,
          341596395.06,
          174947914.55999994,
          249626573.36999997,
          263249367.04999998,
          313160947.77000004
         ],
         "yaxis": "y"
        },
        {
         "alignmentgroup": "True",
         "hoverlabel": {
          "namelength": 0
         },
         "hovertemplate": "orgao=SECRETARIA DA HABITACAO<br>ano=%{x}<br>empenhado=%{y}",
         "legendgroup": "orgao=SECRETARIA DA HABITACAO",
         "marker": {
          "color": "#636efa"
         },
         "name": "orgao=SECRETARIA DA HABITACAO",
         "offsetgroup": "orgao=SECRETARIA DA HABITACAO",
         "orientation": "v",
         "showlegend": true,
         "textposition": "auto",
         "type": "bar",
         "visible": "legendonly",
         "x": [
          "2010",
          "2011",
          "2012",
          "2013",
          "2014",
          "2015",
          "2016",
          "2017",
          "2018"
         ],
         "xaxis": "x",
         "y": [
          1355969925.95,
          1562976310.9999998,
          1176682363.0400002,
          1469470748.5099998,
          1475449818.32,
          1170864834.4500003,
          1131337058.89,
          1630632971.77,
          772150429.44
         ],
         "yaxis": "y"
        },
        {
         "alignmentgroup": "True",
         "hoverlabel": {
          "namelength": 0
         },
         "hovertemplate": "orgao=SECRETARIA DO MEIO AMBIENTE<br>ano=%{x}<br>empenhado=%{y}",
         "legendgroup": "orgao=SECRETARIA DO MEIO AMBIENTE",
         "marker": {
          "color": "#EF553B"
         },
         "name": "orgao=SECRETARIA DO MEIO AMBIENTE",
         "offsetgroup": "orgao=SECRETARIA DO MEIO AMBIENTE",
         "orientation": "v",
         "showlegend": true,
         "textposition": "auto",
         "type": "bar",
         "visible": "legendonly",
         "x": [
          "2010",
          "2011",
          "2012",
          "2013",
          "2014",
          "2015",
          "2016",
          "2017"
         ],
         "xaxis": "x",
         "y": [
          706199544.96,
          666775130.8100001,
          741019430.24,
          833602478.8399998,
          994003311.3799996,
          918538692.9399998,
          941430853.32,
          947536603.0699998
         ],
         "yaxis": "y"
        },
        {
         "alignmentgroup": "True",
         "hoverlabel": {
          "namelength": 0
         },
         "hovertemplate": "orgao=SECRETARIA DE INFR. MEIO AMBIENTE<br>ano=%{x}<br>empenhado=%{y}",
         "legendgroup": "orgao=SECRETARIA DE INFR. MEIO AMBIENTE",
         "marker": {
          "color": "#00cc96"
         },
         "name": "orgao=SECRETARIA DE INFR. MEIO AMBIENTE",
         "offsetgroup": "orgao=SECRETARIA DE INFR. MEIO AMBIENTE",
         "orientation": "v",
         "showlegend": true,
         "textposition": "auto",
         "type": "bar",
         "visible": "legendonly",
         "x": [
          "2018"
         ],
         "xaxis": "x",
         "y": [
          990741234.0500001
         ],
         "yaxis": "y"
        },
        {
         "alignmentgroup": "True",
         "hoverlabel": {
          "namelength": 0
         },
         "hovertemplate": "orgao=MINISTERIO PUBLICO<br>ano=%{x}<br>empenhado=%{y}",
         "legendgroup": "orgao=MINISTERIO PUBLICO",
         "marker": {
          "color": "#ab63fa"
         },
         "name": "orgao=MINISTERIO PUBLICO",
         "offsetgroup": "orgao=MINISTERIO PUBLICO",
         "orientation": "v",
         "showlegend": true,
         "textposition": "auto",
         "type": "bar",
         "visible": "legendonly",
         "x": [
          "2010",
          "2011",
          "2012",
          "2013",
          "2014",
          "2015",
          "2016",
          "2017",
          "2018"
         ],
         "xaxis": "x",
         "y": [
          1323704243.67,
          1446442975.6600006,
          1549253961.5100007,
          1688675606.89,
          1802830697.19,
          2085700149.6500006,
          2198071819.09,
          2355819245.63,
          2566115241.77
         ],
         "yaxis": "y"
        },
        {
         "alignmentgroup": "True",
         "hoverlabel": {
          "namelength": 0
         },
         "hovertemplate": "orgao=CASA CIVIL<br>ano=%{x}<br>empenhado=%{y}",
         "legendgroup": "orgao=CASA CIVIL",
         "marker": {
          "color": "#FFA15A"
         },
         "name": "orgao=CASA CIVIL",
         "offsetgroup": "orgao=CASA CIVIL",
         "orientation": "v",
         "showlegend": true,
         "textposition": "auto",
         "type": "bar",
         "visible": "legendonly",
         "x": [
          "2010",
          "2011",
          "2012",
          "2013",
          "2014",
          "2015",
          "2016",
          "2017",
          "2018"
         ],
         "xaxis": "x",
         "y": [
          257075709.29999998,
          320807573.62999994,
          383814406.92999995,
          509385189.6999999,
          583791938.7000003,
          247495466.41,
          331558759.73000014,
          417349270.6999998,
          263370007.19000012
         ],
         "yaxis": "y"
        },
        {
         "alignmentgroup": "True",
         "hoverlabel": {
          "namelength": 0
         },
         "hovertemplate": "orgao=SECRETARIA DE PLANEJAMENTO E GESTAO<br>ano=%{x}<br>empenhado=%{y}",
         "legendgroup": "orgao=SECRETARIA DE PLANEJAMENTO E GESTAO",
         "marker": {
          "color": "#19d3f3"
         },
         "name": "orgao=SECRETARIA DE PLANEJAMENTO E GESTAO",
         "offsetgroup": "orgao=SECRETARIA DE PLANEJAMENTO E GESTAO",
         "orientation": "v",
         "showlegend": true,
         "textposition": "auto",
         "type": "bar",
         "visible": "legendonly",
         "x": [
          "2010",
          "2011",
          "2012",
          "2013",
          "2014",
          "2015",
          "2016",
          "2017"
         ],
         "xaxis": "x",
         "y": [
          961433760.9099998,
          360521385.1099999,
          674701391.76,
          989866806.5199997,
          1220442996.7399995,
          2502653847.78,
          2337109418.3099995,
          2423265293.7200003
         ],
         "yaxis": "y"
        },
        {
         "alignmentgroup": "True",
         "hoverlabel": {
          "namelength": 0
         },
         "hovertemplate": "orgao=SECRETARIA DE DESENVOLVIMENTO REGIONAL<br>ano=%{x}<br>empenhado=%{y}",
         "legendgroup": "orgao=SECRETARIA DE DESENVOLVIMENTO REGIONAL",
         "marker": {
          "color": "#FF6692"
         },
         "name": "orgao=SECRETARIA DE DESENVOLVIMENTO REGIONAL",
         "offsetgroup": "orgao=SECRETARIA DE DESENVOLVIMENTO REGIONAL",
         "orientation": "v",
         "showlegend": true,
         "textposition": "auto",
         "type": "bar",
         "visible": "legendonly",
         "x": [
          "2018"
         ],
         "xaxis": "x",
         "y": [
          3131737849.539999
         ],
         "yaxis": "y"
        },
        {
         "alignmentgroup": "True",
         "hoverlabel": {
          "namelength": 0
         },
         "hovertemplate": "orgao=SECRETARIA DE DESENVOLVIMENTO SOCIAL<br>ano=%{x}<br>empenhado=%{y}",
         "legendgroup": "orgao=SECRETARIA DE DESENVOLVIMENTO SOCIAL",
         "marker": {
          "color": "#B6E880"
         },
         "name": "orgao=SECRETARIA DE DESENVOLVIMENTO SOCIAL",
         "offsetgroup": "orgao=SECRETARIA DE DESENVOLVIMENTO SOCIAL",
         "orientation": "v",
         "showlegend": true,
         "textposition": "auto",
         "type": "bar",
         "visible": "legendonly",
         "x": [
          "2010",
          "2011",
          "2012",
          "2013",
          "2014",
          "2015",
          "2016",
          "2017",
          "2018"
         ],
         "xaxis": "x",
         "y": [
          568142696.0699998,
          785549654.9699999,
          935650426.9,
          883049218.2499999,
          914847933.71,
          884502315.52,
          805157724.49,
          712782558.64,
          722939522.51
         ],
         "yaxis": "y"
        },
        {
         "alignmentgroup": "True",
         "hoverlabel": {
          "namelength": 0
         },
         "hovertemplate": "orgao=SECRETARIA DOS TRANSPORTES METROPOLITANOS<br>ano=%{x}<br>empenhado=%{y}",
         "legendgroup": "orgao=SECRETARIA DOS TRANSPORTES METROPOLITANOS",
         "marker": {
          "color": "#FF97FF"
         },
         "name": "orgao=SECRETARIA DOS TRANSPORTES METROPOLITANOS",
         "offsetgroup": "orgao=SECRETARIA DOS TRANSPORTES METROPOLITANOS",
         "orientation": "v",
         "showlegend": true,
         "textposition": "auto",
         "type": "bar",
         "visible": "legendonly",
         "x": [
          "2010",
          "2011",
          "2012",
          "2013",
          "2014",
          "2015",
          "2016",
          "2017",
          "2018"
         ],
         "xaxis": "x",
         "y": [
          7292736909.42,
          6469633848.12,
          6373863812.54,
          7380538854.939997,
          8409921223.630003,
          8052845082.960001,
          8687651639.179996,
          9731975663.17,
          7940384166.419995
         ],
         "yaxis": "y"
        },
        {
         "alignmentgroup": "True",
         "hoverlabel": {
          "namelength": 0
         },
         "hovertemplate": "orgao=SECRETARIA ADMINISTRACAO PENITENCIARIA<br>ano=%{x}<br>empenhado=%{y}",
         "legendgroup": "orgao=SECRETARIA ADMINISTRACAO PENITENCIARIA",
         "marker": {
          "color": "#FECB52"
         },
         "name": "orgao=SECRETARIA ADMINISTRACAO PENITENCIARIA",
         "offsetgroup": "orgao=SECRETARIA ADMINISTRACAO PENITENCIARIA",
         "orientation": "v",
         "showlegend": true,
         "textposition": "auto",
         "type": "bar",
         "visible": true,
         "x": [
          "2010",
          "2011",
          "2012",
          "2013",
          "2014",
          "2015",
          "2016",
          "2017",
          "2018"
         ],
         "xaxis": "x",
         "y": [
          2232480663.1800036,
          2589051154.6100035,
          2845072779.7199965,
          3189202477.5199986,
          3577919447.8400006,
          3881711536.6,
          4049531152.730009,
          4188335195.970004,
          4152418275.339995
         ],
         "yaxis": "y"
        },
        {
         "alignmentgroup": "True",
         "hoverlabel": {
          "namelength": 0
         },
         "hovertemplate": "orgao=SECRETARIA DE SANEAMENTO E RECURSOS HIDRICOS<br>ano=%{x}<br>empenhado=%{y}",
         "legendgroup": "orgao=SECRETARIA DE SANEAMENTO E RECURSOS HIDRICOS",
         "marker": {
          "color": "#636efa"
         },
         "name": "orgao=SECRETARIA DE SANEAMENTO E RECURSOS HIDRICOS",
         "offsetgroup": "orgao=SECRETARIA DE SANEAMENTO E RECURSOS HIDRICOS",
         "orientation": "v",
         "showlegend": true,
         "textposition": "auto",
         "type": "bar",
         "visible": "legendonly",
         "x": [
          "2010",
          "2011",
          "2012",
          "2013",
          "2014",
          "2015",
          "2016",
          "2017",
          "2018"
         ],
         "xaxis": "x",
         "y": [
          1059749125.7500001,
          1093138978.8900003,
          1014923304.2500002,
          1240677092.5700002,
          1187351163.6799994,
          1135096820.8500001,
          1193825332.7300005,
          1505321011.6799994,
          1345825985.5100005
         ],
         "yaxis": "y"
        },
        {
         "alignmentgroup": "True",
         "hoverlabel": {
          "namelength": 0
         },
         "hovertemplate": "orgao=PROCURADORIA GERAL DO ESTADO<br>ano=%{x}<br>empenhado=%{y}",
         "legendgroup": "orgao=PROCURADORIA GERAL DO ESTADO",
         "marker": {
          "color": "#EF553B"
         },
         "name": "orgao=PROCURADORIA GERAL DO ESTADO",
         "offsetgroup": "orgao=PROCURADORIA GERAL DO ESTADO",
         "orientation": "v",
         "showlegend": true,
         "textposition": "auto",
         "type": "bar",
         "visible": "legendonly",
         "x": [
          "2010",
          "2011",
          "2012",
          "2013",
          "2014",
          "2015",
          "2016",
          "2017",
          "2018"
         ],
         "xaxis": "x",
         "y": [
          2142705489.799999,
          1162316199.77,
          1025509953.9000018,
          932715719.089999,
          1044053259.8700001,
          1051534389.27,
          1357105920.9699998,
          1552181871.6000016,
          1641532033.3900013
         ],
         "yaxis": "y"
        },
        {
         "alignmentgroup": "True",
         "hoverlabel": {
          "namelength": 0
         },
         "hovertemplate": "orgao=SECRETARIA DE ESPORTE, LAZER E JUVENTUDE<br>ano=%{x}<br>empenhado=%{y}",
         "legendgroup": "orgao=SECRETARIA DE ESPORTE, LAZER E JUVENTUDE",
         "marker": {
          "color": "#00cc96"
         },
         "name": "orgao=SECRETARIA DE ESPORTE, LAZER E JUVENTUDE",
         "offsetgroup": "orgao=SECRETARIA DE ESPORTE, LAZER E JUVENTUDE",
         "orientation": "v",
         "showlegend": true,
         "textposition": "auto",
         "type": "bar",
         "visible": "legendonly",
         "x": [
          "2010",
          "2011",
          "2012",
          "2013",
          "2014",
          "2015",
          "2016",
          "2017"
         ],
         "xaxis": "x",
         "y": [
          159545730.61999992,
          159897694.29000002,
          161024575.15000004,
          177153982.67,
          245988517.84,
          166431019.55999997,
          122973353.80000001,
          150686353.27000004
         ],
         "yaxis": "y"
        },
        {
         "alignmentgroup": "True",
         "hoverlabel": {
          "namelength": 0
         },
         "hovertemplate": "orgao=SECRETARIA DE ESPORTES<br>ano=%{x}<br>empenhado=%{y}",
         "legendgroup": "orgao=SECRETARIA DE ESPORTES",
         "marker": {
          "color": "#ab63fa"
         },
         "name": "orgao=SECRETARIA DE ESPORTES",
         "offsetgroup": "orgao=SECRETARIA DE ESPORTES",
         "orientation": "v",
         "showlegend": true,
         "textposition": "auto",
         "type": "bar",
         "visible": "legendonly",
         "x": [
          "2018"
         ],
         "xaxis": "x",
         "y": [
          134814159.94
         ],
         "yaxis": "y"
        },
        {
         "alignmentgroup": "True",
         "hoverlabel": {
          "namelength": 0
         },
         "hovertemplate": "orgao=DEFENSORIA PUBLICA DO ESTADO<br>ano=%{x}<br>empenhado=%{y}",
         "legendgroup": "orgao=DEFENSORIA PUBLICA DO ESTADO",
         "marker": {
          "color": "#FFA15A"
         },
         "name": "orgao=DEFENSORIA PUBLICA DO ESTADO",
         "offsetgroup": "orgao=DEFENSORIA PUBLICA DO ESTADO",
         "orientation": "v",
         "showlegend": true,
         "textposition": "auto",
         "type": "bar",
         "visible": "legendonly",
         "x": [
          "2010",
          "2011",
          "2012",
          "2013",
          "2014",
          "2015",
          "2016",
          "2017",
          "2018"
         ],
         "xaxis": "x",
         "y": [
          477139632.69999987,
          535819125.19000006,
          556059862.7400001,
          599457505.7699997,
          737731264.02,
          795087244.9899999,
          785655136.76,
          771163451.02,
          838023626.87
         ],
         "yaxis": "y"
        },
        {
         "alignmentgroup": "True",
         "hoverlabel": {
          "namelength": 0
         },
         "hovertemplate": "orgao=SECRETARIA DE ENSINO SUPERIOR<br>ano=%{x}<br>empenhado=%{y}",
         "legendgroup": "orgao=SECRETARIA DE ENSINO SUPERIOR",
         "marker": {
          "color": "#19d3f3"
         },
         "name": "orgao=SECRETARIA DE ENSINO SUPERIOR",
         "offsetgroup": "orgao=SECRETARIA DE ENSINO SUPERIOR",
         "orientation": "v",
         "showlegend": true,
         "textposition": "auto",
         "type": "bar",
         "visible": "legendonly",
         "x": [
          "2010",
          "2011",
          "2012",
          "2013",
          "2014"
         ],
         "xaxis": "x",
         "y": [
          8237544088.700004,
          5355661.79,
          0,
          0,
          0
         ],
         "yaxis": "y"
        },
        {
         "alignmentgroup": "True",
         "hoverlabel": {
          "namelength": 0
         },
         "hovertemplate": "orgao=SECRETARIA DE GESTAO PUBLICA<br>ano=%{x}<br>empenhado=%{y}",
         "legendgroup": "orgao=SECRETARIA DE GESTAO PUBLICA",
         "marker": {
          "color": "#FF6692"
         },
         "name": "orgao=SECRETARIA DE GESTAO PUBLICA",
         "offsetgroup": "orgao=SECRETARIA DE GESTAO PUBLICA",
         "orientation": "v",
         "showlegend": true,
         "textposition": "auto",
         "type": "bar",
         "visible": "legendonly",
         "x": [
          "2010",
          "2011",
          "2012",
          "2013",
          "2014",
          "2015"
         ],
         "xaxis": "x",
         "y": [
          1388834210.2499998,
          1714712221.7699997,
          1892001209.8699996,
          1792044254.3199997,
          1988110898.3600006,
          0
         ],
         "yaxis": "y"
        },
        {
         "alignmentgroup": "True",
         "hoverlabel": {
          "namelength": 0
         },
         "hovertemplate": "orgao=SECRETARIA DE COMUNICACAO<br>ano=%{x}<br>empenhado=%{y}",
         "legendgroup": "orgao=SECRETARIA DE COMUNICACAO",
         "marker": {
          "color": "#B6E880"
         },
         "name": "orgao=SECRETARIA DE COMUNICACAO",
         "offsetgroup": "orgao=SECRETARIA DE COMUNICACAO",
         "orientation": "v",
         "showlegend": true,
         "textposition": "auto",
         "type": "bar",
         "visible": "legendonly",
         "x": [
          "2010",
          "2011",
          "2012"
         ],
         "xaxis": "x",
         "y": [
          145669533.87999997,
          1891457.0799999998,
          0
         ],
         "yaxis": "y"
        },
        {
         "alignmentgroup": "True",
         "hoverlabel": {
          "namelength": 0
         },
         "hovertemplate": "orgao=SECRETARIA DE RELACOES INSTITUCIONAIS<br>ano=%{x}<br>empenhado=%{y}",
         "legendgroup": "orgao=SECRETARIA DE RELACOES INSTITUCIONAIS",
         "marker": {
          "color": "#FF97FF"
         },
         "name": "orgao=SECRETARIA DE RELACOES INSTITUCIONAIS",
         "offsetgroup": "orgao=SECRETARIA DE RELACOES INSTITUCIONAIS",
         "orientation": "v",
         "showlegend": true,
         "textposition": "auto",
         "type": "bar",
         "visible": "legendonly",
         "x": [
          "2010",
          "2011"
         ],
         "xaxis": "x",
         "y": [
          27706625.57999999,
          599918.23
         ],
         "yaxis": "y"
        },
        {
         "alignmentgroup": "True",
         "hoverlabel": {
          "namelength": 0
         },
         "hovertemplate": "orgao=SECR.EST.DIREITOS PESSOA COM DEFICIENCIA<br>ano=%{x}<br>empenhado=%{y}",
         "legendgroup": "orgao=SECR.EST.DIREITOS PESSOA COM DEFICIENCIA",
         "marker": {
          "color": "#FECB52"
         },
         "name": "orgao=SECR.EST.DIREITOS PESSOA COM DEFICIENCIA",
         "offsetgroup": "orgao=SECR.EST.DIREITOS PESSOA COM DEFICIENCIA",
         "orientation": "v",
         "showlegend": true,
         "textposition": "auto",
         "type": "bar",
         "visible": "legendonly",
         "x": [
          "2010",
          "2011",
          "2012",
          "2013",
          "2014",
          "2015",
          "2016",
          "2017",
          "2018"
         ],
         "xaxis": "x",
         "y": [
          43677421.95999999,
          32822478.140000004,
          48984686.33,
          79176021.12999998,
          239440490.51000002,
          121871969.50000001,
          113082857.61,
          44798286.69999999,
          39978829.08
         ],
         "yaxis": "y"
        },
        {
         "alignmentgroup": "True",
         "hoverlabel": {
          "namelength": 0
         },
         "hovertemplate": "orgao=SECR. DE DESENVOLVIMENTO METROPOLITANO<br>ano=%{x}<br>empenhado=%{y}",
         "legendgroup": "orgao=SECR. DE DESENVOLVIMENTO METROPOLITANO",
         "marker": {
          "color": "#636efa"
         },
         "name": "orgao=SECR. DE DESENVOLVIMENTO METROPOLITANO",
         "offsetgroup": "orgao=SECR. DE DESENVOLVIMENTO METROPOLITANO",
         "orientation": "v",
         "showlegend": true,
         "textposition": "auto",
         "type": "bar",
         "visible": "legendonly",
         "x": [
          "2011",
          "2012",
          "2013",
          "2014",
          "2015",
          "2016",
          "2017"
         ],
         "xaxis": "x",
         "y": [
          135567931.28000006,
          125360328.27000004,
          129931509.94000003,
          0,
          0,
          0,
          0
         ],
         "yaxis": "y"
        },
        {
         "alignmentgroup": "True",
         "hoverlabel": {
          "namelength": 0
         },
         "hovertemplate": "orgao=SECRETARIA DE ENERGIA<br>ano=%{x}<br>empenhado=%{y}",
         "legendgroup": "orgao=SECRETARIA DE ENERGIA",
         "marker": {
          "color": "#EF553B"
         },
         "name": "orgao=SECRETARIA DE ENERGIA",
         "offsetgroup": "orgao=SECRETARIA DE ENERGIA",
         "orientation": "v",
         "showlegend": true,
         "textposition": "auto",
         "type": "bar",
         "visible": "legendonly",
         "x": [
          "2011",
          "2012",
          "2013"
         ],
         "xaxis": "x",
         "y": [
          69652979.28,
          82813755.66,
          75901652.19000003
         ],
         "yaxis": "y"
        },
        {
         "alignmentgroup": "True",
         "hoverlabel": {
          "namelength": 0
         },
         "hovertemplate": "orgao=SECRETARIA DE ENERGIA E MINERACAO<br>ano=%{x}<br>empenhado=%{y}",
         "legendgroup": "orgao=SECRETARIA DE ENERGIA E MINERACAO",
         "marker": {
          "color": "#00cc96"
         },
         "name": "orgao=SECRETARIA DE ENERGIA E MINERACAO",
         "offsetgroup": "orgao=SECRETARIA DE ENERGIA E MINERACAO",
         "orientation": "v",
         "showlegend": true,
         "textposition": "auto",
         "type": "bar",
         "visible": "legendonly",
         "x": [
          "2014",
          "2015",
          "2016",
          "2017",
          "2018"
         ],
         "xaxis": "x",
         "y": [
          81312257.63,
          26721158.020000003,
          24804795.98,
          31933590.919999998,
          70271524.36
         ],
         "yaxis": "y"
        },
        {
         "alignmentgroup": "True",
         "hoverlabel": {
          "namelength": 0
         },
         "hovertemplate": "orgao=SECRETARIA DE GOVERNO<br>ano=%{x}<br>empenhado=%{y}",
         "legendgroup": "orgao=SECRETARIA DE GOVERNO",
         "marker": {
          "color": "#ab63fa"
         },
         "name": "orgao=SECRETARIA DE GOVERNO",
         "offsetgroup": "orgao=SECRETARIA DE GOVERNO",
         "orientation": "v",
         "showlegend": true,
         "textposition": "auto",
         "type": "bar",
         "visible": "legendonly",
         "x": [
          "2015",
          "2016",
          "2017",
          "2018"
         ],
         "xaxis": "x",
         "y": [
          1183807740.5299993,
          874882737.2,
          1008903812.7499994,
          850690063.8500004
         ],
         "yaxis": "y"
        },
        {
         "alignmentgroup": "True",
         "hoverlabel": {
          "namelength": 0
         },
         "hovertemplate": "orgao=RESERVA DE CONTINGENCIA<br>ano=%{x}<br>empenhado=%{y}",
         "legendgroup": "orgao=RESERVA DE CONTINGENCIA",
         "marker": {
          "color": "#FFA15A"
         },
         "name": "orgao=RESERVA DE CONTINGENCIA",
         "offsetgroup": "orgao=RESERVA DE CONTINGENCIA",
         "orientation": "v",
         "showlegend": true,
         "textposition": "auto",
         "type": "bar",
         "visible": "legendonly",
         "x": [
          "2010",
          "2011",
          "2012",
          "2013",
          "2014",
          "2015",
          "2016",
          "2017",
          "2018"
         ],
         "xaxis": "x",
         "y": [
          0,
          0,
          0,
          0,
          0,
          0,
          0,
          0,
          0
         ],
         "yaxis": "y"
        }
       ],
       "layout": {
        "autosize": true,
        "barmode": "relative",
        "legend": {
         "tracegroupgap": 0
        },
        "margin": {
         "t": 60
        },
        "template": {
         "data": {
          "bar": [
           {
            "error_x": {
             "color": "#2a3f5f"
            },
            "error_y": {
             "color": "#2a3f5f"
            },
            "marker": {
             "line": {
              "color": "#E5ECF6",
              "width": 0.5
             }
            },
            "type": "bar"
           }
          ],
          "barpolar": [
           {
            "marker": {
             "line": {
              "color": "#E5ECF6",
              "width": 0.5
             }
            },
            "type": "barpolar"
           }
          ],
          "carpet": [
           {
            "aaxis": {
             "endlinecolor": "#2a3f5f",
             "gridcolor": "white",
             "linecolor": "white",
             "minorgridcolor": "white",
             "startlinecolor": "#2a3f5f"
            },
            "baxis": {
             "endlinecolor": "#2a3f5f",
             "gridcolor": "white",
             "linecolor": "white",
             "minorgridcolor": "white",
             "startlinecolor": "#2a3f5f"
            },
            "type": "carpet"
           }
          ],
          "choropleth": [
           {
            "colorbar": {
             "outlinewidth": 0,
             "ticks": ""
            },
            "type": "choropleth"
           }
          ],
          "contour": [
           {
            "colorbar": {
             "outlinewidth": 0,
             "ticks": ""
            },
            "colorscale": [
             [
              0,
              "#0d0887"
             ],
             [
              0.1111111111111111,
              "#46039f"
             ],
             [
              0.2222222222222222,
              "#7201a8"
             ],
             [
              0.3333333333333333,
              "#9c179e"
             ],
             [
              0.4444444444444444,
              "#bd3786"
             ],
             [
              0.5555555555555556,
              "#d8576b"
             ],
             [
              0.6666666666666666,
              "#ed7953"
             ],
             [
              0.7777777777777778,
              "#fb9f3a"
             ],
             [
              0.8888888888888888,
              "#fdca26"
             ],
             [
              1,
              "#f0f921"
             ]
            ],
            "type": "contour"
           }
          ],
          "contourcarpet": [
           {
            "colorbar": {
             "outlinewidth": 0,
             "ticks": ""
            },
            "type": "contourcarpet"
           }
          ],
          "heatmap": [
           {
            "colorbar": {
             "outlinewidth": 0,
             "ticks": ""
            },
            "colorscale": [
             [
              0,
              "#0d0887"
             ],
             [
              0.1111111111111111,
              "#46039f"
             ],
             [
              0.2222222222222222,
              "#7201a8"
             ],
             [
              0.3333333333333333,
              "#9c179e"
             ],
             [
              0.4444444444444444,
              "#bd3786"
             ],
             [
              0.5555555555555556,
              "#d8576b"
             ],
             [
              0.6666666666666666,
              "#ed7953"
             ],
             [
              0.7777777777777778,
              "#fb9f3a"
             ],
             [
              0.8888888888888888,
              "#fdca26"
             ],
             [
              1,
              "#f0f921"
             ]
            ],
            "type": "heatmap"
           }
          ],
          "heatmapgl": [
           {
            "colorbar": {
             "outlinewidth": 0,
             "ticks": ""
            },
            "colorscale": [
             [
              0,
              "#0d0887"
             ],
             [
              0.1111111111111111,
              "#46039f"
             ],
             [
              0.2222222222222222,
              "#7201a8"
             ],
             [
              0.3333333333333333,
              "#9c179e"
             ],
             [
              0.4444444444444444,
              "#bd3786"
             ],
             [
              0.5555555555555556,
              "#d8576b"
             ],
             [
              0.6666666666666666,
              "#ed7953"
             ],
             [
              0.7777777777777778,
              "#fb9f3a"
             ],
             [
              0.8888888888888888,
              "#fdca26"
             ],
             [
              1,
              "#f0f921"
             ]
            ],
            "type": "heatmapgl"
           }
          ],
          "histogram": [
           {
            "marker": {
             "colorbar": {
              "outlinewidth": 0,
              "ticks": ""
             }
            },
            "type": "histogram"
           }
          ],
          "histogram2d": [
           {
            "colorbar": {
             "outlinewidth": 0,
             "ticks": ""
            },
            "colorscale": [
             [
              0,
              "#0d0887"
             ],
             [
              0.1111111111111111,
              "#46039f"
             ],
             [
              0.2222222222222222,
              "#7201a8"
             ],
             [
              0.3333333333333333,
              "#9c179e"
             ],
             [
              0.4444444444444444,
              "#bd3786"
             ],
             [
              0.5555555555555556,
              "#d8576b"
             ],
             [
              0.6666666666666666,
              "#ed7953"
             ],
             [
              0.7777777777777778,
              "#fb9f3a"
             ],
             [
              0.8888888888888888,
              "#fdca26"
             ],
             [
              1,
              "#f0f921"
             ]
            ],
            "type": "histogram2d"
           }
          ],
          "histogram2dcontour": [
           {
            "colorbar": {
             "outlinewidth": 0,
             "ticks": ""
            },
            "colorscale": [
             [
              0,
              "#0d0887"
             ],
             [
              0.1111111111111111,
              "#46039f"
             ],
             [
              0.2222222222222222,
              "#7201a8"
             ],
             [
              0.3333333333333333,
              "#9c179e"
             ],
             [
              0.4444444444444444,
              "#bd3786"
             ],
             [
              0.5555555555555556,
              "#d8576b"
             ],
             [
              0.6666666666666666,
              "#ed7953"
             ],
             [
              0.7777777777777778,
              "#fb9f3a"
             ],
             [
              0.8888888888888888,
              "#fdca26"
             ],
             [
              1,
              "#f0f921"
             ]
            ],
            "type": "histogram2dcontour"
           }
          ],
          "mesh3d": [
           {
            "colorbar": {
             "outlinewidth": 0,
             "ticks": ""
            },
            "type": "mesh3d"
           }
          ],
          "parcoords": [
           {
            "line": {
             "colorbar": {
              "outlinewidth": 0,
              "ticks": ""
             }
            },
            "type": "parcoords"
           }
          ],
          "scatter": [
           {
            "marker": {
             "colorbar": {
              "outlinewidth": 0,
              "ticks": ""
             }
            },
            "type": "scatter"
           }
          ],
          "scatter3d": [
           {
            "line": {
             "colorbar": {
              "outlinewidth": 0,
              "ticks": ""
             }
            },
            "marker": {
             "colorbar": {
              "outlinewidth": 0,
              "ticks": ""
             }
            },
            "type": "scatter3d"
           }
          ],
          "scattercarpet": [
           {
            "marker": {
             "colorbar": {
              "outlinewidth": 0,
              "ticks": ""
             }
            },
            "type": "scattercarpet"
           }
          ],
          "scattergeo": [
           {
            "marker": {
             "colorbar": {
              "outlinewidth": 0,
              "ticks": ""
             }
            },
            "type": "scattergeo"
           }
          ],
          "scattergl": [
           {
            "marker": {
             "colorbar": {
              "outlinewidth": 0,
              "ticks": ""
             }
            },
            "type": "scattergl"
           }
          ],
          "scattermapbox": [
           {
            "marker": {
             "colorbar": {
              "outlinewidth": 0,
              "ticks": ""
             }
            },
            "type": "scattermapbox"
           }
          ],
          "scatterpolar": [
           {
            "marker": {
             "colorbar": {
              "outlinewidth": 0,
              "ticks": ""
             }
            },
            "type": "scatterpolar"
           }
          ],
          "scatterpolargl": [
           {
            "marker": {
             "colorbar": {
              "outlinewidth": 0,
              "ticks": ""
             }
            },
            "type": "scatterpolargl"
           }
          ],
          "scatterternary": [
           {
            "marker": {
             "colorbar": {
              "outlinewidth": 0,
              "ticks": ""
             }
            },
            "type": "scatterternary"
           }
          ],
          "surface": [
           {
            "colorbar": {
             "outlinewidth": 0,
             "ticks": ""
            },
            "colorscale": [
             [
              0,
              "#0d0887"
             ],
             [
              0.1111111111111111,
              "#46039f"
             ],
             [
              0.2222222222222222,
              "#7201a8"
             ],
             [
              0.3333333333333333,
              "#9c179e"
             ],
             [
              0.4444444444444444,
              "#bd3786"
             ],
             [
              0.5555555555555556,
              "#d8576b"
             ],
             [
              0.6666666666666666,
              "#ed7953"
             ],
             [
              0.7777777777777778,
              "#fb9f3a"
             ],
             [
              0.8888888888888888,
              "#fdca26"
             ],
             [
              1,
              "#f0f921"
             ]
            ],
            "type": "surface"
           }
          ],
          "table": [
           {
            "cells": {
             "fill": {
              "color": "#EBF0F8"
             },
             "line": {
              "color": "white"
             }
            },
            "header": {
             "fill": {
              "color": "#C8D4E3"
             },
             "line": {
              "color": "white"
             }
            },
            "type": "table"
           }
          ]
         },
         "layout": {
          "annotationdefaults": {
           "arrowcolor": "#2a3f5f",
           "arrowhead": 0,
           "arrowwidth": 1
          },
          "colorscale": {
           "diverging": [
            [
             0,
             "#8e0152"
            ],
            [
             0.1,
             "#c51b7d"
            ],
            [
             0.2,
             "#de77ae"
            ],
            [
             0.3,
             "#f1b6da"
            ],
            [
             0.4,
             "#fde0ef"
            ],
            [
             0.5,
             "#f7f7f7"
            ],
            [
             0.6,
             "#e6f5d0"
            ],
            [
             0.7,
             "#b8e186"
            ],
            [
             0.8,
             "#7fbc41"
            ],
            [
             0.9,
             "#4d9221"
            ],
            [
             1,
             "#276419"
            ]
           ],
           "sequential": [
            [
             0,
             "#0d0887"
            ],
            [
             0.1111111111111111,
             "#46039f"
            ],
            [
             0.2222222222222222,
             "#7201a8"
            ],
            [
             0.3333333333333333,
             "#9c179e"
            ],
            [
             0.4444444444444444,
             "#bd3786"
            ],
            [
             0.5555555555555556,
             "#d8576b"
            ],
            [
             0.6666666666666666,
             "#ed7953"
            ],
            [
             0.7777777777777778,
             "#fb9f3a"
            ],
            [
             0.8888888888888888,
             "#fdca26"
            ],
            [
             1,
             "#f0f921"
            ]
           ],
           "sequentialminus": [
            [
             0,
             "#0d0887"
            ],
            [
             0.1111111111111111,
             "#46039f"
            ],
            [
             0.2222222222222222,
             "#7201a8"
            ],
            [
             0.3333333333333333,
             "#9c179e"
            ],
            [
             0.4444444444444444,
             "#bd3786"
            ],
            [
             0.5555555555555556,
             "#d8576b"
            ],
            [
             0.6666666666666666,
             "#ed7953"
            ],
            [
             0.7777777777777778,
             "#fb9f3a"
            ],
            [
             0.8888888888888888,
             "#fdca26"
            ],
            [
             1,
             "#f0f921"
            ]
           ]
          },
          "colorway": [
           "#636efa",
           "#EF553B",
           "#00cc96",
           "#ab63fa",
           "#FFA15A",
           "#19d3f3",
           "#FF6692",
           "#B6E880",
           "#FF97FF",
           "#FECB52"
          ],
          "font": {
           "color": "#2a3f5f"
          },
          "geo": {
           "bgcolor": "white",
           "lakecolor": "white",
           "landcolor": "#E5ECF6",
           "showlakes": true,
           "showland": true,
           "subunitcolor": "white"
          },
          "hoverlabel": {
           "align": "left"
          },
          "hovermode": "closest",
          "mapbox": {
           "style": "light"
          },
          "paper_bgcolor": "white",
          "plot_bgcolor": "#E5ECF6",
          "polar": {
           "angularaxis": {
            "gridcolor": "white",
            "linecolor": "white",
            "ticks": ""
           },
           "bgcolor": "#E5ECF6",
           "radialaxis": {
            "gridcolor": "white",
            "linecolor": "white",
            "ticks": ""
           }
          },
          "scene": {
           "xaxis": {
            "backgroundcolor": "#E5ECF6",
            "gridcolor": "white",
            "gridwidth": 2,
            "linecolor": "white",
            "showbackground": true,
            "ticks": "",
            "zerolinecolor": "white"
           },
           "yaxis": {
            "backgroundcolor": "#E5ECF6",
            "gridcolor": "white",
            "gridwidth": 2,
            "linecolor": "white",
            "showbackground": true,
            "ticks": "",
            "zerolinecolor": "white"
           },
           "zaxis": {
            "backgroundcolor": "#E5ECF6",
            "gridcolor": "white",
            "gridwidth": 2,
            "linecolor": "white",
            "showbackground": true,
            "ticks": "",
            "zerolinecolor": "white"
           }
          },
          "shapedefaults": {
           "line": {
            "color": "#2a3f5f"
           }
          },
          "ternary": {
           "aaxis": {
            "gridcolor": "white",
            "linecolor": "white",
            "ticks": ""
           },
           "baxis": {
            "gridcolor": "white",
            "linecolor": "white",
            "ticks": ""
           },
           "bgcolor": "#E5ECF6",
           "caxis": {
            "gridcolor": "white",
            "linecolor": "white",
            "ticks": ""
           }
          },
          "title": {
           "x": 0.05
          },
          "xaxis": {
           "automargin": true,
           "gridcolor": "white",
           "linecolor": "white",
           "ticks": "",
           "zerolinecolor": "white",
           "zerolinewidth": 2
          },
          "yaxis": {
           "automargin": true,
           "gridcolor": "white",
           "linecolor": "white",
           "ticks": "",
           "zerolinecolor": "white",
           "zerolinewidth": 2
          }
         }
        },
        "xaxis": {
         "anchor": "y",
         "autorange": true,
         "domain": [
          0,
          0.98
         ],
         "range": [
          2009.5,
          2018.5
         ],
         "title": {
          "text": "ano"
         },
         "type": "linear"
        },
        "yaxis": {
         "anchor": "x",
         "autorange": true,
         "domain": [
          0,
          1
         ],
         "range": [
          0,
          4408773890.494741
         ],
         "title": {
          "text": "empenhado"
         },
         "type": "linear"
        }
       }
      },
      "image/png": "[encoded data removed]",
      "text/html": [
       "<div>\n",
       "        \n",
       "        \n",
       "            <div id=\"50b37525-b8e2-4aa9-9c08-26b4fd5370fb\" class=\"plotly-graph-div\" style=\"height:600px; width:100%;\"></div>\n",
       "            <script type=\"text/javascript\">\n",
       "                require([\"plotly\"], function(Plotly) {\n",
       "                    window.PLOTLYENV=window.PLOTLYENV || {};\n",
       "                    \n",
       "                if (document.getElementById(\"50b37525-b8e2-4aa9-9c08-26b4fd5370fb\")) {\n",
       "                    Plotly.newPlot(\n",
       "                        '50b37525-b8e2-4aa9-9c08-26b4fd5370fb',\n",
       "                        [{\"alignmentgroup\": \"True\", \"hoverlabel\": {\"namelength\": 0}, \"hovertemplate\": \"orgao=ASSEMBLEIA LEGISLATIVA<br>ano=%{x}<br>empenhado=%{y}\", \"legendgroup\": \"orgao=ASSEMBLEIA LEGISLATIVA\", \"marker\": {\"color\": \"#636efa\"}, \"name\": \"orgao=ASSEMBLEIA LEGISLATIVA\", \"offsetgroup\": \"orgao=ASSEMBLEIA LEGISLATIVA\", \"orientation\": \"v\", \"showlegend\": true, \"textposition\": \"auto\", \"type\": \"bar\", \"x\": [\"2010\", \"2011\", \"2012\", \"2013\", \"2014\", \"2015\", \"2016\", \"2017\", \"2018\"], \"xaxis\": \"x\", \"y\": [660332721.7599999, 689363806.15, 760253462.2199998, 819095474.2699999, 874881577.2300001, 969418633.77, 1076670456.52, 1122242466.1599998, 1160359152.7600002], \"yaxis\": \"y\"}, {\"alignmentgroup\": \"True\", \"hoverlabel\": {\"namelength\": 0}, \"hovertemplate\": \"orgao=TRIBUNAL DE CONTAS DO ESTADO<br>ano=%{x}<br>empenhado=%{y}\", \"legendgroup\": \"orgao=TRIBUNAL DE CONTAS DO ESTADO\", \"marker\": {\"color\": \"#EF553B\"}, \"name\": \"orgao=TRIBUNAL DE CONTAS DO ESTADO\", \"offsetgroup\": \"orgao=TRIBUNAL DE CONTAS DO ESTADO\", \"orientation\": \"v\", \"showlegend\": true, \"textposition\": \"auto\", \"type\": \"bar\", \"x\": [\"2010\", \"2011\", \"2012\", \"2013\", \"2014\", \"2015\", \"2016\", \"2017\", \"2018\"], \"xaxis\": \"x\", \"y\": [471115509.24000007, 496419938.8, 526709213.57000005, 586429045.96, 677816754.15, 740366154.11, 852575541.23, 879345486.58, 931239097.9], \"yaxis\": \"y\"}, {\"alignmentgroup\": \"True\", \"hoverlabel\": {\"namelength\": 0}, \"hovertemplate\": \"orgao=TRIBUNAL DE JUSTICA<br>ano=%{x}<br>empenhado=%{y}\", \"legendgroup\": \"orgao=TRIBUNAL DE JUSTICA\", \"marker\": {\"color\": \"#00cc96\"}, \"name\": \"orgao=TRIBUNAL DE JUSTICA\", \"offsetgroup\": \"orgao=TRIBUNAL DE JUSTICA\", \"orientation\": \"v\", \"showlegend\": true, \"textposition\": \"auto\", \"type\": \"bar\", \"x\": [\"2010\", \"2011\", \"2012\", \"2013\", \"2014\", \"2015\", \"2016\", \"2017\", \"2018\"], \"xaxis\": \"x\", \"y\": [5467961122.330001, 6173823774.880003, 7666882448.74, 8578976975.680003, 9315376150.340002, 10265150223.26, 10893281675.510006, 12017311231.300003, 12451318955.690002], \"yaxis\": \"y\"}, {\"alignmentgroup\": \"True\", \"hoverlabel\": {\"namelength\": 0}, \"hovertemplate\": \"orgao=TRIBUNAL DE JUSTICA MILITAR<br>ano=%{x}<br>empenhado=%{y}\", \"legendgroup\": \"orgao=TRIBUNAL DE JUSTICA MILITAR\", \"marker\": {\"color\": \"#ab63fa\"}, \"name\": \"orgao=TRIBUNAL DE JUSTICA MILITAR\", \"offsetgroup\": \"orgao=TRIBUNAL DE JUSTICA MILITAR\", \"orientation\": \"v\", \"showlegend\": true, \"textposition\": \"auto\", \"type\": \"bar\", \"x\": [\"2010\", \"2011\", \"2012\", \"2013\", \"2014\", \"2015\", \"2016\", \"2017\", \"2018\"], \"xaxis\": \"x\", \"y\": [37807026.59, 39611020.0, 45075524.54999999, 52142949.230000004, 51046028.93999999, 57537395.33999999, 58922558.28999999, 64344945.11, 67248888.14], \"yaxis\": \"y\"}, {\"alignmentgroup\": \"True\", \"hoverlabel\": {\"namelength\": 0}, \"hovertemplate\": \"orgao=SECRETARIA DA EDUCACAO<br>ano=%{x}<br>empenhado=%{y}\", \"legendgroup\": \"orgao=SECRETARIA DA EDUCACAO\", \"marker\": {\"color\": \"#FFA15A\"}, \"name\": \"orgao=SECRETARIA DA EDUCACAO\", \"offsetgroup\": \"orgao=SECRETARIA DA EDUCACAO\", \"orientation\": \"v\", \"showlegend\": true, \"textposition\": \"auto\", \"type\": \"bar\", \"x\": [\"2010\", \"2011\", \"2012\", \"2013\", \"2014\", \"2015\", \"2016\", \"2017\", \"2018\"], \"xaxis\": \"x\", \"y\": [18978719367.170055, 21387419753.759995, 22300973508.169983, 25920642317.01005, 28000672813.73002, 29638500336.159966, 28668135220.17004, 30282789881.610115, 31460376071.439888], \"yaxis\": \"y\"}, {\"alignmentgroup\": \"True\", \"hoverlabel\": {\"namelength\": 0}, \"hovertemplate\": \"orgao=SECRETARIA DA SAUDE<br>ano=%{x}<br>empenhado=%{y}\", \"legendgroup\": \"orgao=SECRETARIA DA SAUDE\", \"marker\": {\"color\": \"#19d3f3\"}, \"name\": \"orgao=SECRETARIA DA SAUDE\", \"offsetgroup\": \"orgao=SECRETARIA DA SAUDE\", \"orientation\": \"v\", \"showlegend\": true, \"textposition\": \"auto\", \"type\": \"bar\", \"x\": [\"2010\", \"2011\", \"2012\", \"2013\", \"2014\", \"2015\", \"2016\", \"2017\", \"2018\"], \"xaxis\": \"x\", \"y\": [13062529301.099981, 14192516147.750017, 15065404905.20001, 17693267764.869972, 19318947156.370026, 20621996224.579983, 21074779821.66999, 22161830475.909992, 23081635294.169987], \"yaxis\": \"y\"}, {\"alignmentgroup\": \"True\", \"hoverlabel\": {\"namelength\": 0}, \"hovertemplate\": \"orgao=SEC.DESENV. ECONOMICO, CIENCIA,TECN. INOVACA<br>ano=%{x}<br>empenhado=%{y}\", \"legendgroup\": \"orgao=SEC.DESENV. ECONOMICO, CIENCIA,TECN. INOVACA\", \"marker\": {\"color\": \"#FF6692\"}, \"name\": \"orgao=SEC.DESENV. ECONOMICO, CIENCIA,TECN. INOVACA\", \"offsetgroup\": \"orgao=SEC.DESENV. ECONOMICO, CIENCIA,TECN. INOVACA\", \"orientation\": \"v\", \"showlegend\": true, \"textposition\": \"auto\", \"type\": \"bar\", \"x\": [\"2010\", \"2011\", \"2012\", \"2013\", \"2014\", \"2015\", \"2016\", \"2017\"], \"xaxis\": \"x\", \"y\": [1589317042.1699998, 10851039066.979996, 12311485503.430008, 14081270073.780003, 13267131069.330004, 14612774263.869987, 15116071545.150013, 15195914330.410004], \"yaxis\": \"y\"}, {\"alignmentgroup\": \"True\", \"hoverlabel\": {\"namelength\": 0}, \"hovertemplate\": \"orgao=SECR. DESENV. ECONOMICO<br>ano=%{x}<br>empenhado=%{y}\", \"legendgroup\": \"orgao=SECR. DESENV. ECONOMICO\", \"marker\": {\"color\": \"#B6E880\"}, \"name\": \"orgao=SECR. DESENV. ECONOMICO\", \"offsetgroup\": \"orgao=SECR. DESENV. ECONOMICO\", \"orientation\": \"v\", \"showlegend\": true, \"textposition\": \"auto\", \"type\": \"bar\", \"x\": [\"2018\"], \"xaxis\": \"x\", \"y\": [15504656403.579998], \"yaxis\": \"y\"}, {\"alignmentgroup\": \"True\", \"hoverlabel\": {\"namelength\": 0}, \"hovertemplate\": \"orgao=SECRETARIA DA CULTURA<br>ano=%{x}<br>empenhado=%{y}\", \"legendgroup\": \"orgao=SECRETARIA DA CULTURA\", \"marker\": {\"color\": \"#FF97FF\"}, \"name\": \"orgao=SECRETARIA DA CULTURA\", \"offsetgroup\": \"orgao=SECRETARIA DA CULTURA\", \"orientation\": \"v\", \"showlegend\": true, \"textposition\": \"auto\", \"type\": \"bar\", \"x\": [\"2010\", \"2011\", \"2012\", \"2013\", \"2014\", \"2015\", \"2016\", \"2017\"], \"xaxis\": \"x\", \"y\": [924424473.2600001, 789894258.7799999, 779474001.7, 911338434.5299997, 913193762.6500003, 767902020.8100003, 693462103.6499996, 736551774.7799999], \"yaxis\": \"y\"}, {\"alignmentgroup\": \"True\", \"hoverlabel\": {\"namelength\": 0}, \"hovertemplate\": \"orgao=SECRETARIA DA CULTURA E ECONOMIA CRIATIVA<br>ano=%{x}<br>empenhado=%{y}\", \"legendgroup\": \"orgao=SECRETARIA DA CULTURA E ECONOMIA CRIATIVA\", \"marker\": {\"color\": \"#FECB52\"}, \"name\": \"orgao=SECRETARIA DA CULTURA E ECONOMIA CRIATIVA\", \"offsetgroup\": \"orgao=SECRETARIA DA CULTURA E ECONOMIA CRIATIVA\", \"orientation\": \"v\", \"showlegend\": true, \"textposition\": \"auto\", \"type\": \"bar\", \"x\": [\"2018\"], \"xaxis\": \"x\", \"y\": [790577506.22], \"yaxis\": \"y\"}, {\"alignmentgroup\": \"True\", \"hoverlabel\": {\"namelength\": 0}, \"hovertemplate\": \"orgao=SECRETARIA DE AGRICULTURA E ABASTECIMENTO<br>ano=%{x}<br>empenhado=%{y}\", \"legendgroup\": \"orgao=SECRETARIA DE AGRICULTURA E ABASTECIMENTO\", \"marker\": {\"color\": \"#636efa\"}, \"name\": \"orgao=SECRETARIA DE AGRICULTURA E ABASTECIMENTO\", \"offsetgroup\": \"orgao=SECRETARIA DE AGRICULTURA E ABASTECIMENTO\", \"orientation\": \"v\", \"showlegend\": true, \"textposition\": \"auto\", \"type\": \"bar\", \"x\": [\"2010\", \"2011\", \"2012\", \"2013\", \"2014\", \"2015\", \"2016\", \"2017\", \"2018\"], \"xaxis\": \"x\", \"y\": [1017087014.6100003, 833990840.0799994, 944302527.0699993, 995607408.9299989, 1049776592.2500002, 1030747949.6000005, 854105284.7099996, 938865256.7900008, 911548583.5900005], \"yaxis\": \"y\"}, {\"alignmentgroup\": \"True\", \"hoverlabel\": {\"namelength\": 0}, \"hovertemplate\": \"orgao=SECRETARIA DE LOGISTICA E TRANSPORTES<br>ano=%{x}<br>empenhado=%{y}\", \"legendgroup\": \"orgao=SECRETARIA DE LOGISTICA E TRANSPORTES\", \"marker\": {\"color\": \"#EF553B\"}, \"name\": \"orgao=SECRETARIA DE LOGISTICA E TRANSPORTES\", \"offsetgroup\": \"orgao=SECRETARIA DE LOGISTICA E TRANSPORTES\", \"orientation\": \"v\", \"showlegend\": true, \"textposition\": \"auto\", \"type\": \"bar\", \"x\": [\"2010\", \"2011\", \"2012\", \"2013\", \"2014\", \"2015\", \"2016\", \"2017\", \"2018\"], \"xaxis\": \"x\", \"y\": [7212148534.710005, 5415439757.650002, 3919915654.2399983, 7701898996.680001, 6620715250.240004, 4373753251.709997, 5538091844.309998, 5521173583.8600025, 3865846889.930001], \"yaxis\": \"y\"}, {\"alignmentgroup\": \"True\", \"hoverlabel\": {\"namelength\": 0}, \"hovertemplate\": \"orgao=SEC.DA JUSTICA E DA DEFESA DA CIDADANIA<br>ano=%{x}<br>empenhado=%{y}\", \"legendgroup\": \"orgao=SEC.DA JUSTICA E DA DEFESA DA CIDADANIA\", \"marker\": {\"color\": \"#00cc96\"}, \"name\": \"orgao=SEC.DA JUSTICA E DA DEFESA DA CIDADANIA\", \"offsetgroup\": \"orgao=SEC.DA JUSTICA E DA DEFESA DA CIDADANIA\", \"orientation\": \"v\", \"showlegend\": true, \"textposition\": \"auto\", \"type\": \"bar\", \"x\": [\"2010\", \"2011\", \"2012\", \"2013\", \"2014\", \"2015\", \"2016\", \"2017\"], \"xaxis\": \"x\", \"y\": [1069056787.81, 1392981625.940002, 1398482323.4100006, 1681964272.0899994, 1935539722.9499998, 1993321637.6599998, 1985248419.5399997, 1995268325.2199998], \"yaxis\": \"y\"}, {\"alignmentgroup\": \"True\", \"hoverlabel\": {\"namelength\": 0}, \"hovertemplate\": \"orgao=SEC.DA JUSTICA E CIDADANIA<br>ano=%{x}<br>empenhado=%{y}\", \"legendgroup\": \"orgao=SEC.DA JUSTICA E CIDADANIA\", \"marker\": {\"color\": \"#ab63fa\"}, \"name\": \"orgao=SEC.DA JUSTICA E CIDADANIA\", \"offsetgroup\": \"orgao=SEC.DA JUSTICA E CIDADANIA\", \"orientation\": \"v\", \"showlegend\": true, \"textposition\": \"auto\", \"type\": \"bar\", \"x\": [\"2018\"], \"xaxis\": \"x\", \"y\": [2027035374.5499992], \"yaxis\": \"y\"}, {\"alignmentgroup\": \"True\", \"hoverlabel\": {\"namelength\": 0}, \"hovertemplate\": \"orgao=SECRETARIA DA SEGURANCA PUBLICA<br>ano=%{x}<br>empenhado=%{y}\", \"legendgroup\": \"orgao=SECRETARIA DA SEGURANCA PUBLICA\", \"marker\": {\"color\": \"#FFA15A\"}, \"name\": \"orgao=SECRETARIA DA SEGURANCA PUBLICA\", \"offsetgroup\": \"orgao=SECRETARIA DA SEGURANCA PUBLICA\", \"orientation\": \"v\", \"showlegend\": true, \"textposition\": \"auto\", \"type\": \"bar\", \"x\": [\"2010\", \"2011\", \"2012\", \"2013\", \"2014\", \"2015\", \"2016\", \"2017\", \"2018\"], \"xaxis\": \"x\", \"y\": [10919100620.41999, 12201299818.94002, 14498009709.570004, 15823093099.070005, 17961630272.699974, 19597959662.770016, 19797836092.760006, 20583604296.599964, 21156657805.76001], \"yaxis\": \"y\"}, {\"alignmentgroup\": \"True\", \"hoverlabel\": {\"namelength\": 0}, \"hovertemplate\": \"orgao=SECRETARIA DA FAZENDA<br>ano=%{x}<br>empenhado=%{y}\", \"legendgroup\": \"orgao=SECRETARIA DA FAZENDA\", \"marker\": {\"color\": \"#19d3f3\"}, \"name\": \"orgao=SECRETARIA DA FAZENDA\", \"offsetgroup\": \"orgao=SECRETARIA DA FAZENDA\", \"orientation\": \"v\", \"showlegend\": true, \"textposition\": \"auto\", \"type\": \"bar\", \"x\": [\"2010\", \"2011\", \"2012\", \"2013\", \"2014\", \"2015\", \"2016\", \"2017\"], \"xaxis\": \"x\", \"y\": [18261466553.040005, 20982081161.850002, 24257431911.870007, 26793508825.24, 28491440579.39, 31498812262.58, 32925889083.39, 34767014637.33001], \"yaxis\": \"y\"}, {\"alignmentgroup\": \"True\", \"hoverlabel\": {\"namelength\": 0}, \"hovertemplate\": \"orgao=SECRETARIA DA FAZENDA E PLANEJAMENTO<br>ano=%{x}<br>empenhado=%{y}\", \"legendgroup\": \"orgao=SECRETARIA DA FAZENDA E PLANEJAMENTO\", \"marker\": {\"color\": \"#FF6692\"}, \"name\": \"orgao=SECRETARIA DA FAZENDA E PLANEJAMENTO\", \"offsetgroup\": \"orgao=SECRETARIA DA FAZENDA E PLANEJAMENTO\", \"orientation\": \"v\", \"showlegend\": true, \"textposition\": \"auto\", \"type\": \"bar\", \"x\": [\"2018\"], \"xaxis\": \"x\", \"y\": [37194885030.689995], \"yaxis\": \"y\"}, {\"alignmentgroup\": \"True\", \"hoverlabel\": {\"namelength\": 0}, \"hovertemplate\": \"orgao=ADMINISTRACAO GERAL DO ESTADO<br>ano=%{x}<br>empenhado=%{y}\", \"legendgroup\": \"orgao=ADMINISTRACAO GERAL DO ESTADO\", \"marker\": {\"color\": \"#B6E880\"}, \"name\": \"orgao=ADMINISTRACAO GERAL DO ESTADO\", \"offsetgroup\": \"orgao=ADMINISTRACAO GERAL DO ESTADO\", \"orientation\": \"v\", \"showlegend\": true, \"textposition\": \"auto\", \"type\": \"bar\", \"x\": [\"2010\", \"2011\", \"2012\", \"2013\", \"2014\", \"2015\", \"2016\", \"2017\", \"2018\"], \"xaxis\": \"x\", \"y\": [38814509691.040016, 44995188014.80001, 48619997569.57002, 53820759622.65, 56381657006.0, 59802349924.0, 54414651650.569984, 57864252671.93, 65424352187.48], \"yaxis\": \"y\"}, {\"alignmentgroup\": \"True\", \"hoverlabel\": {\"namelength\": 0}, \"hovertemplate\": \"orgao=SEC.DO EMPREGO E RELACOES DO TRABALHO<br>ano=%{x}<br>empenhado=%{y}\", \"legendgroup\": \"orgao=SEC.DO EMPREGO E RELACOES DO TRABALHO\", \"marker\": {\"color\": \"#FF97FF\"}, \"name\": \"orgao=SEC.DO EMPREGO E RELACOES DO TRABALHO\", \"offsetgroup\": \"orgao=SEC.DO EMPREGO E RELACOES DO TRABALHO\", \"orientation\": \"v\", \"showlegend\": true, \"textposition\": \"auto\", \"type\": \"bar\", \"x\": [\"2010\", \"2011\", \"2012\", \"2013\", \"2014\", \"2015\", \"2016\", \"2017\", \"2018\"], \"xaxis\": \"x\", \"y\": [190168307.78000006, 151031957.77, 133999653.90999998, 153275000.34999987, 137397673.25000003, 136571839.66, 112767728.67999998, 115799780.50999999, 235402403.46999994], \"yaxis\": \"y\"}, {\"alignmentgroup\": \"True\", \"hoverlabel\": {\"namelength\": 0}, \"hovertemplate\": \"orgao=SECRETARIA DE TURISMO<br>ano=%{x}<br>empenhado=%{y}\", \"legendgroup\": \"orgao=SECRETARIA DE TURISMO\", \"marker\": {\"color\": \"#FECB52\"}, \"name\": \"orgao=SECRETARIA DE TURISMO\", \"offsetgroup\": \"orgao=SECRETARIA DE TURISMO\", \"orientation\": \"v\", \"showlegend\": true, \"textposition\": \"auto\", \"type\": \"bar\", \"x\": [\"2011\", \"2012\", \"2011\", \"2012\", \"2013\", \"2014\", \"2015\", \"2016\", \"2017\", \"2018\"], \"xaxis\": \"x\", \"y\": [0.0, 0.0, 244154564.13000003, 291564774.14000005, 286052542.88, 341596395.06, 174947914.55999994, 249626573.36999997, 263249367.04999998, 313160947.77000004], \"yaxis\": \"y\"}, {\"alignmentgroup\": \"True\", \"hoverlabel\": {\"namelength\": 0}, \"hovertemplate\": \"orgao=SECRETARIA DA HABITACAO<br>ano=%{x}<br>empenhado=%{y}\", \"legendgroup\": \"orgao=SECRETARIA DA HABITACAO\", \"marker\": {\"color\": \"#636efa\"}, \"name\": \"orgao=SECRETARIA DA HABITACAO\", \"offsetgroup\": \"orgao=SECRETARIA DA HABITACAO\", \"orientation\": \"v\", \"showlegend\": true, \"textposition\": \"auto\", \"type\": \"bar\", \"x\": [\"2010\", \"2011\", \"2012\", \"2013\", \"2014\", \"2015\", \"2016\", \"2017\", \"2018\"], \"xaxis\": \"x\", \"y\": [1355969925.95, 1562976310.9999998, 1176682363.0400002, 1469470748.5099998, 1475449818.32, 1170864834.4500003, 1131337058.89, 1630632971.77, 772150429.44], \"yaxis\": \"y\"}, {\"alignmentgroup\": \"True\", \"hoverlabel\": {\"namelength\": 0}, \"hovertemplate\": \"orgao=SECRETARIA DO MEIO AMBIENTE<br>ano=%{x}<br>empenhado=%{y}\", \"legendgroup\": \"orgao=SECRETARIA DO MEIO AMBIENTE\", \"marker\": {\"color\": \"#EF553B\"}, \"name\": \"orgao=SECRETARIA DO MEIO AMBIENTE\", \"offsetgroup\": \"orgao=SECRETARIA DO MEIO AMBIENTE\", \"orientation\": \"v\", \"showlegend\": true, \"textposition\": \"auto\", \"type\": \"bar\", \"x\": [\"2010\", \"2011\", \"2012\", \"2013\", \"2014\", \"2015\", \"2016\", \"2017\"], \"xaxis\": \"x\", \"y\": [706199544.96, 666775130.8100001, 741019430.24, 833602478.8399998, 994003311.3799996, 918538692.9399998, 941430853.32, 947536603.0699998], \"yaxis\": \"y\"}, {\"alignmentgroup\": \"True\", \"hoverlabel\": {\"namelength\": 0}, \"hovertemplate\": \"orgao=SECRETARIA DE INFR. MEIO AMBIENTE<br>ano=%{x}<br>empenhado=%{y}\", \"legendgroup\": \"orgao=SECRETARIA DE INFR. MEIO AMBIENTE\", \"marker\": {\"color\": \"#00cc96\"}, \"name\": \"orgao=SECRETARIA DE INFR. MEIO AMBIENTE\", \"offsetgroup\": \"orgao=SECRETARIA DE INFR. MEIO AMBIENTE\", \"orientation\": \"v\", \"showlegend\": true, \"textposition\": \"auto\", \"type\": \"bar\", \"x\": [\"2018\"], \"xaxis\": \"x\", \"y\": [990741234.0500001], \"yaxis\": \"y\"}, {\"alignmentgroup\": \"True\", \"hoverlabel\": {\"namelength\": 0}, \"hovertemplate\": \"orgao=MINISTERIO PUBLICO<br>ano=%{x}<br>empenhado=%{y}\", \"legendgroup\": \"orgao=MINISTERIO PUBLICO\", \"marker\": {\"color\": \"#ab63fa\"}, \"name\": \"orgao=MINISTERIO PUBLICO\", \"offsetgroup\": \"orgao=MINISTERIO PUBLICO\", \"orientation\": \"v\", \"showlegend\": true, \"textposition\": \"auto\", \"type\": \"bar\", \"x\": [\"2010\", \"2011\", \"2012\", \"2013\", \"2014\", \"2015\", \"2016\", \"2017\", \"2018\"], \"xaxis\": \"x\", \"y\": [1323704243.67, 1446442975.6600006, 1549253961.5100007, 1688675606.89, 1802830697.19, 2085700149.6500006, 2198071819.09, 2355819245.63, 2566115241.77], \"yaxis\": \"y\"}, {\"alignmentgroup\": \"True\", \"hoverlabel\": {\"namelength\": 0}, \"hovertemplate\": \"orgao=CASA CIVIL<br>ano=%{x}<br>empenhado=%{y}\", \"legendgroup\": \"orgao=CASA CIVIL\", \"marker\": {\"color\": \"#FFA15A\"}, \"name\": \"orgao=CASA CIVIL\", \"offsetgroup\": \"orgao=CASA CIVIL\", \"orientation\": \"v\", \"showlegend\": true, \"textposition\": \"auto\", \"type\": \"bar\", \"x\": [\"2010\", \"2011\", \"2012\", \"2013\", \"2014\", \"2015\", \"2016\", \"2017\", \"2018\"], \"xaxis\": \"x\", \"y\": [257075709.29999998, 320807573.62999994, 383814406.92999995, 509385189.6999999, 583791938.7000003, 247495466.41, 331558759.73000014, 417349270.6999998, 263370007.19000012], \"yaxis\": \"y\"}, {\"alignmentgroup\": \"True\", \"hoverlabel\": {\"namelength\": 0}, \"hovertemplate\": \"orgao=SECRETARIA DE PLANEJAMENTO E GESTAO<br>ano=%{x}<br>empenhado=%{y}\", \"legendgroup\": \"orgao=SECRETARIA DE PLANEJAMENTO E GESTAO\", \"marker\": {\"color\": \"#19d3f3\"}, \"name\": \"orgao=SECRETARIA DE PLANEJAMENTO E GESTAO\", \"offsetgroup\": \"orgao=SECRETARIA DE PLANEJAMENTO E GESTAO\", \"orientation\": \"v\", \"showlegend\": true, \"textposition\": \"auto\", \"type\": \"bar\", \"x\": [\"2010\", \"2011\", \"2012\", \"2013\", \"2014\", \"2015\", \"2016\", \"2017\"], \"xaxis\": \"x\", \"y\": [961433760.9099998, 360521385.1099999, 674701391.76, 989866806.5199997, 1220442996.7399995, 2502653847.78, 2337109418.3099995, 2423265293.7200003], \"yaxis\": \"y\"}, {\"alignmentgroup\": \"True\", \"hoverlabel\": {\"namelength\": 0}, \"hovertemplate\": \"orgao=SECRETARIA DE DESENVOLVIMENTO REGIONAL<br>ano=%{x}<br>empenhado=%{y}\", \"legendgroup\": \"orgao=SECRETARIA DE DESENVOLVIMENTO REGIONAL\", \"marker\": {\"color\": \"#FF6692\"}, \"name\": \"orgao=SECRETARIA DE DESENVOLVIMENTO REGIONAL\", \"offsetgroup\": \"orgao=SECRETARIA DE DESENVOLVIMENTO REGIONAL\", \"orientation\": \"v\", \"showlegend\": true, \"textposition\": \"auto\", \"type\": \"bar\", \"x\": [\"2018\"], \"xaxis\": \"x\", \"y\": [3131737849.539999], \"yaxis\": \"y\"}, {\"alignmentgroup\": \"True\", \"hoverlabel\": {\"namelength\": 0}, \"hovertemplate\": \"orgao=SECRETARIA DE DESENVOLVIMENTO SOCIAL<br>ano=%{x}<br>empenhado=%{y}\", \"legendgroup\": \"orgao=SECRETARIA DE DESENVOLVIMENTO SOCIAL\", \"marker\": {\"color\": \"#B6E880\"}, \"name\": \"orgao=SECRETARIA DE DESENVOLVIMENTO SOCIAL\", \"offsetgroup\": \"orgao=SECRETARIA DE DESENVOLVIMENTO SOCIAL\", \"orientation\": \"v\", \"showlegend\": true, \"textposition\": \"auto\", \"type\": \"bar\", \"x\": [\"2010\", \"2011\", \"2012\", \"2013\", \"2014\", \"2015\", \"2016\", \"2017\", \"2018\"], \"xaxis\": \"x\", \"y\": [568142696.0699998, 785549654.9699999, 935650426.9, 883049218.2499999, 914847933.71, 884502315.52, 805157724.49, 712782558.64, 722939522.51], \"yaxis\": \"y\"}, {\"alignmentgroup\": \"True\", \"hoverlabel\": {\"namelength\": 0}, \"hovertemplate\": \"orgao=SECRETARIA DOS TRANSPORTES METROPOLITANOS<br>ano=%{x}<br>empenhado=%{y}\", \"legendgroup\": \"orgao=SECRETARIA DOS TRANSPORTES METROPOLITANOS\", \"marker\": {\"color\": \"#FF97FF\"}, \"name\": \"orgao=SECRETARIA DOS TRANSPORTES METROPOLITANOS\", \"offsetgroup\": \"orgao=SECRETARIA DOS TRANSPORTES METROPOLITANOS\", \"orientation\": \"v\", \"showlegend\": true, \"textposition\": \"auto\", \"type\": \"bar\", \"x\": [\"2010\", \"2011\", \"2012\", \"2013\", \"2014\", \"2015\", \"2016\", \"2017\", \"2018\"], \"xaxis\": \"x\", \"y\": [7292736909.42, 6469633848.12, 6373863812.54, 7380538854.939997, 8409921223.630003, 8052845082.960001, 8687651639.179996, 9731975663.17, 7940384166.419995], \"yaxis\": \"y\"}, {\"alignmentgroup\": \"True\", \"hoverlabel\": {\"namelength\": 0}, \"hovertemplate\": \"orgao=SECRETARIA ADMINISTRACAO PENITENCIARIA<br>ano=%{x}<br>empenhado=%{y}\", \"legendgroup\": \"orgao=SECRETARIA ADMINISTRACAO PENITENCIARIA\", \"marker\": {\"color\": \"#FECB52\"}, \"name\": \"orgao=SECRETARIA ADMINISTRACAO PENITENCIARIA\", \"offsetgroup\": \"orgao=SECRETARIA ADMINISTRACAO PENITENCIARIA\", \"orientation\": \"v\", \"showlegend\": true, \"textposition\": \"auto\", \"type\": \"bar\", \"x\": [\"2010\", \"2011\", \"2012\", \"2013\", \"2014\", \"2015\", \"2016\", \"2017\", \"2018\"], \"xaxis\": \"x\", \"y\": [2232480663.1800036, 2589051154.6100035, 2845072779.7199965, 3189202477.5199986, 3577919447.8400006, 3881711536.6, 4049531152.730009, 4188335195.970004, 4152418275.339995], \"yaxis\": \"y\"}, {\"alignmentgroup\": \"True\", \"hoverlabel\": {\"namelength\": 0}, \"hovertemplate\": \"orgao=SECRETARIA DE SANEAMENTO E RECURSOS HIDRICOS<br>ano=%{x}<br>empenhado=%{y}\", \"legendgroup\": \"orgao=SECRETARIA DE SANEAMENTO E RECURSOS HIDRICOS\", \"marker\": {\"color\": \"#636efa\"}, \"name\": \"orgao=SECRETARIA DE SANEAMENTO E RECURSOS HIDRICOS\", \"offsetgroup\": \"orgao=SECRETARIA DE SANEAMENTO E RECURSOS HIDRICOS\", \"orientation\": \"v\", \"showlegend\": true, \"textposition\": \"auto\", \"type\": \"bar\", \"x\": [\"2010\", \"2011\", \"2012\", \"2013\", \"2014\", \"2015\", \"2016\", \"2017\", \"2018\"], \"xaxis\": \"x\", \"y\": [1059749125.7500001, 1093138978.8900003, 1014923304.2500002, 1240677092.5700002, 1187351163.6799994, 1135096820.8500001, 1193825332.7300005, 1505321011.6799994, 1345825985.5100005], \"yaxis\": \"y\"}, {\"alignmentgroup\": \"True\", \"hoverlabel\": {\"namelength\": 0}, \"hovertemplate\": \"orgao=PROCURADORIA GERAL DO ESTADO<br>ano=%{x}<br>empenhado=%{y}\", \"legendgroup\": \"orgao=PROCURADORIA GERAL DO ESTADO\", \"marker\": {\"color\": \"#EF553B\"}, \"name\": \"orgao=PROCURADORIA GERAL DO ESTADO\", \"offsetgroup\": \"orgao=PROCURADORIA GERAL DO ESTADO\", \"orientation\": \"v\", \"showlegend\": true, \"textposition\": \"auto\", \"type\": \"bar\", \"x\": [\"2010\", \"2011\", \"2012\", \"2013\", \"2014\", \"2015\", \"2016\", \"2017\", \"2018\"], \"xaxis\": \"x\", \"y\": [2142705489.799999, 1162316199.77, 1025509953.9000018, 932715719.089999, 1044053259.8700001, 1051534389.27, 1357105920.9699998, 1552181871.6000016, 1641532033.3900013], \"yaxis\": \"y\"}, {\"alignmentgroup\": \"True\", \"hoverlabel\": {\"namelength\": 0}, \"hovertemplate\": \"orgao=SECRETARIA DE ESPORTE, LAZER E JUVENTUDE<br>ano=%{x}<br>empenhado=%{y}\", \"legendgroup\": \"orgao=SECRETARIA DE ESPORTE, LAZER E JUVENTUDE\", \"marker\": {\"color\": \"#00cc96\"}, \"name\": \"orgao=SECRETARIA DE ESPORTE, LAZER E JUVENTUDE\", \"offsetgroup\": \"orgao=SECRETARIA DE ESPORTE, LAZER E JUVENTUDE\", \"orientation\": \"v\", \"showlegend\": true, \"textposition\": \"auto\", \"type\": \"bar\", \"x\": [\"2010\", \"2011\", \"2012\", \"2013\", \"2014\", \"2015\", \"2016\", \"2017\"], \"xaxis\": \"x\", \"y\": [159545730.61999992, 159897694.29000002, 161024575.15000004, 177153982.67, 245988517.84, 166431019.55999997, 122973353.80000001, 150686353.27000004], \"yaxis\": \"y\"}, {\"alignmentgroup\": \"True\", \"hoverlabel\": {\"namelength\": 0}, \"hovertemplate\": \"orgao=SECRETARIA DE ESPORTES<br>ano=%{x}<br>empenhado=%{y}\", \"legendgroup\": \"orgao=SECRETARIA DE ESPORTES\", \"marker\": {\"color\": \"#ab63fa\"}, \"name\": \"orgao=SECRETARIA DE ESPORTES\", \"offsetgroup\": \"orgao=SECRETARIA DE ESPORTES\", \"orientation\": \"v\", \"showlegend\": true, \"textposition\": \"auto\", \"type\": \"bar\", \"x\": [\"2018\"], \"xaxis\": \"x\", \"y\": [134814159.94], \"yaxis\": \"y\"}, {\"alignmentgroup\": \"True\", \"hoverlabel\": {\"namelength\": 0}, \"hovertemplate\": \"orgao=DEFENSORIA PUBLICA DO ESTADO<br>ano=%{x}<br>empenhado=%{y}\", \"legendgroup\": \"orgao=DEFENSORIA PUBLICA DO ESTADO\", \"marker\": {\"color\": \"#FFA15A\"}, \"name\": \"orgao=DEFENSORIA PUBLICA DO ESTADO\", \"offsetgroup\": \"orgao=DEFENSORIA PUBLICA DO ESTADO\", \"orientation\": \"v\", \"showlegend\": true, \"textposition\": \"auto\", \"type\": \"bar\", \"x\": [\"2010\", \"2011\", \"2012\", \"2013\", \"2014\", \"2015\", \"2016\", \"2017\", \"2018\"], \"xaxis\": \"x\", \"y\": [477139632.69999987, 535819125.19000006, 556059862.7400001, 599457505.7699997, 737731264.02, 795087244.9899999, 785655136.76, 771163451.02, 838023626.87], \"yaxis\": \"y\"}, {\"alignmentgroup\": \"True\", \"hoverlabel\": {\"namelength\": 0}, \"hovertemplate\": \"orgao=SECRETARIA DE ENSINO SUPERIOR<br>ano=%{x}<br>empenhado=%{y}\", \"legendgroup\": \"orgao=SECRETARIA DE ENSINO SUPERIOR\", \"marker\": {\"color\": \"#19d3f3\"}, \"name\": \"orgao=SECRETARIA DE ENSINO SUPERIOR\", \"offsetgroup\": \"orgao=SECRETARIA DE ENSINO SUPERIOR\", \"orientation\": \"v\", \"showlegend\": true, \"textposition\": \"auto\", \"type\": \"bar\", \"x\": [\"2010\", \"2011\", \"2012\", \"2013\", \"2014\"], \"xaxis\": \"x\", \"y\": [8237544088.700004, 5355661.79, 0.0, 0.0, 0.0], \"yaxis\": \"y\"}, {\"alignmentgroup\": \"True\", \"hoverlabel\": {\"namelength\": 0}, \"hovertemplate\": \"orgao=SECRETARIA DE GESTAO PUBLICA<br>ano=%{x}<br>empenhado=%{y}\", \"legendgroup\": \"orgao=SECRETARIA DE GESTAO PUBLICA\", \"marker\": {\"color\": \"#FF6692\"}, \"name\": \"orgao=SECRETARIA DE GESTAO PUBLICA\", \"offsetgroup\": \"orgao=SECRETARIA DE GESTAO PUBLICA\", \"orientation\": \"v\", \"showlegend\": true, \"textposition\": \"auto\", \"type\": \"bar\", \"x\": [\"2010\", \"2011\", \"2012\", \"2013\", \"2014\", \"2015\"], \"xaxis\": \"x\", \"y\": [1388834210.2499998, 1714712221.7699997, 1892001209.8699996, 1792044254.3199997, 1988110898.3600006, 0.0], \"yaxis\": \"y\"}, {\"alignmentgroup\": \"True\", \"hoverlabel\": {\"namelength\": 0}, \"hovertemplate\": \"orgao=SECRETARIA DE COMUNICACAO<br>ano=%{x}<br>empenhado=%{y}\", \"legendgroup\": \"orgao=SECRETARIA DE COMUNICACAO\", \"marker\": {\"color\": \"#B6E880\"}, \"name\": \"orgao=SECRETARIA DE COMUNICACAO\", \"offsetgroup\": \"orgao=SECRETARIA DE COMUNICACAO\", \"orientation\": \"v\", \"showlegend\": true, \"textposition\": \"auto\", \"type\": \"bar\", \"x\": [\"2010\", \"2011\", \"2012\"], \"xaxis\": \"x\", \"y\": [145669533.87999997, 1891457.0799999998, 0.0], \"yaxis\": \"y\"}, {\"alignmentgroup\": \"True\", \"hoverlabel\": {\"namelength\": 0}, \"hovertemplate\": \"orgao=SECRETARIA DE RELACOES INSTITUCIONAIS<br>ano=%{x}<br>empenhado=%{y}\", \"legendgroup\": \"orgao=SECRETARIA DE RELACOES INSTITUCIONAIS\", \"marker\": {\"color\": \"#FF97FF\"}, \"name\": \"orgao=SECRETARIA DE RELACOES INSTITUCIONAIS\", \"offsetgroup\": \"orgao=SECRETARIA DE RELACOES INSTITUCIONAIS\", \"orientation\": \"v\", \"showlegend\": true, \"textposition\": \"auto\", \"type\": \"bar\", \"x\": [\"2010\", \"2011\"], \"xaxis\": \"x\", \"y\": [27706625.57999999, 599918.23], \"yaxis\": \"y\"}, {\"alignmentgroup\": \"True\", \"hoverlabel\": {\"namelength\": 0}, \"hovertemplate\": \"orgao=SECR.EST.DIREITOS PESSOA COM DEFICIENCIA<br>ano=%{x}<br>empenhado=%{y}\", \"legendgroup\": \"orgao=SECR.EST.DIREITOS PESSOA COM DEFICIENCIA\", \"marker\": {\"color\": \"#FECB52\"}, \"name\": \"orgao=SECR.EST.DIREITOS PESSOA COM DEFICIENCIA\", \"offsetgroup\": \"orgao=SECR.EST.DIREITOS PESSOA COM DEFICIENCIA\", \"orientation\": \"v\", \"showlegend\": true, \"textposition\": \"auto\", \"type\": \"bar\", \"x\": [\"2010\", \"2011\", \"2012\", \"2013\", \"2014\", \"2015\", \"2016\", \"2017\", \"2018\"], \"xaxis\": \"x\", \"y\": [43677421.95999999, 32822478.140000004, 48984686.33, 79176021.12999998, 239440490.51000002, 121871969.50000001, 113082857.61, 44798286.69999999, 39978829.08], \"yaxis\": \"y\"}, {\"alignmentgroup\": \"True\", \"hoverlabel\": {\"namelength\": 0}, \"hovertemplate\": \"orgao=SECR. DE DESENVOLVIMENTO METROPOLITANO<br>ano=%{x}<br>empenhado=%{y}\", \"legendgroup\": \"orgao=SECR. DE DESENVOLVIMENTO METROPOLITANO\", \"marker\": {\"color\": \"#636efa\"}, \"name\": \"orgao=SECR. DE DESENVOLVIMENTO METROPOLITANO\", \"offsetgroup\": \"orgao=SECR. DE DESENVOLVIMENTO METROPOLITANO\", \"orientation\": \"v\", \"showlegend\": true, \"textposition\": \"auto\", \"type\": \"bar\", \"x\": [\"2011\", \"2012\", \"2013\", \"2014\", \"2015\", \"2016\", \"2017\"], \"xaxis\": \"x\", \"y\": [135567931.28000006, 125360328.27000004, 129931509.94000003, 0.0, 0.0, 0.0, 0.0], \"yaxis\": \"y\"}, {\"alignmentgroup\": \"True\", \"hoverlabel\": {\"namelength\": 0}, \"hovertemplate\": \"orgao=SECRETARIA DE ENERGIA<br>ano=%{x}<br>empenhado=%{y}\", \"legendgroup\": \"orgao=SECRETARIA DE ENERGIA\", \"marker\": {\"color\": \"#EF553B\"}, \"name\": \"orgao=SECRETARIA DE ENERGIA\", \"offsetgroup\": \"orgao=SECRETARIA DE ENERGIA\", \"orientation\": \"v\", \"showlegend\": true, \"textposition\": \"auto\", \"type\": \"bar\", \"x\": [\"2011\", \"2012\", \"2013\"], \"xaxis\": \"x\", \"y\": [69652979.28, 82813755.66, 75901652.19000003], \"yaxis\": \"y\"}, {\"alignmentgroup\": \"True\", \"hoverlabel\": {\"namelength\": 0}, \"hovertemplate\": \"orgao=SECRETARIA DE ENERGIA E MINERACAO<br>ano=%{x}<br>empenhado=%{y}\", \"legendgroup\": \"orgao=SECRETARIA DE ENERGIA E MINERACAO\", \"marker\": {\"color\": \"#00cc96\"}, \"name\": \"orgao=SECRETARIA DE ENERGIA E MINERACAO\", \"offsetgroup\": \"orgao=SECRETARIA DE ENERGIA E MINERACAO\", \"orientation\": \"v\", \"showlegend\": true, \"textposition\": \"auto\", \"type\": \"bar\", \"x\": [\"2014\", \"2015\", \"2016\", \"2017\", \"2018\"], \"xaxis\": \"x\", \"y\": [81312257.63, 26721158.020000003, 24804795.98, 31933590.919999998, 70271524.36], \"yaxis\": \"y\"}, {\"alignmentgroup\": \"True\", \"hoverlabel\": {\"namelength\": 0}, \"hovertemplate\": \"orgao=SECRETARIA DE GOVERNO<br>ano=%{x}<br>empenhado=%{y}\", \"legendgroup\": \"orgao=SECRETARIA DE GOVERNO\", \"marker\": {\"color\": \"#ab63fa\"}, \"name\": \"orgao=SECRETARIA DE GOVERNO\", \"offsetgroup\": \"orgao=SECRETARIA DE GOVERNO\", \"orientation\": \"v\", \"showlegend\": true, \"textposition\": \"auto\", \"type\": \"bar\", \"x\": [\"2015\", \"2016\", \"2017\", \"2018\"], \"xaxis\": \"x\", \"y\": [1183807740.5299993, 874882737.2, 1008903812.7499994, 850690063.8500004], \"yaxis\": \"y\"}, {\"alignmentgroup\": \"True\", \"hoverlabel\": {\"namelength\": 0}, \"hovertemplate\": \"orgao=RESERVA DE CONTINGENCIA<br>ano=%{x}<br>empenhado=%{y}\", \"legendgroup\": \"orgao=RESERVA DE CONTINGENCIA\", \"marker\": {\"color\": \"#FFA15A\"}, \"name\": \"orgao=RESERVA DE CONTINGENCIA\", \"offsetgroup\": \"orgao=RESERVA DE CONTINGENCIA\", \"orientation\": \"v\", \"showlegend\": true, \"textposition\": \"auto\", \"type\": \"bar\", \"x\": [\"2010\", \"2011\", \"2012\", \"2013\", \"2014\", \"2015\", \"2016\", \"2017\", \"2018\"], \"xaxis\": \"x\", \"y\": [0.0, 0.0, 0.0, 0.0, 0.0, 0.0, 0.0, 0.0, 0.0], \"yaxis\": \"y\"}],\n",
       "                        {\"barmode\": \"relative\", \"height\": 600, \"legend\": {\"tracegroupgap\": 0}, \"margin\": {\"t\": 60}, \"template\": {\"data\": {\"bar\": [{\"error_x\": {\"color\": \"#2a3f5f\"}, \"error_y\": {\"color\": \"#2a3f5f\"}, \"marker\": {\"line\": {\"color\": \"#E5ECF6\", \"width\": 0.5}}, \"type\": \"bar\"}], \"barpolar\": [{\"marker\": {\"line\": {\"color\": \"#E5ECF6\", \"width\": 0.5}}, \"type\": \"barpolar\"}], \"carpet\": [{\"aaxis\": {\"endlinecolor\": \"#2a3f5f\", \"gridcolor\": \"white\", \"linecolor\": \"white\", \"minorgridcolor\": \"white\", \"startlinecolor\": \"#2a3f5f\"}, \"baxis\": {\"endlinecolor\": \"#2a3f5f\", \"gridcolor\": \"white\", \"linecolor\": \"white\", \"minorgridcolor\": \"white\", \"startlinecolor\": \"#2a3f5f\"}, \"type\": \"carpet\"}], \"choropleth\": [{\"colorbar\": {\"outlinewidth\": 0, \"ticks\": \"\"}, \"type\": \"choropleth\"}], \"contour\": [{\"colorbar\": {\"outlinewidth\": 0, \"ticks\": \"\"}, \"colorscale\": [[0.0, \"#0d0887\"], [0.1111111111111111, \"#46039f\"], [0.2222222222222222, \"#7201a8\"], [0.3333333333333333, \"#9c179e\"], [0.4444444444444444, \"#bd3786\"], [0.5555555555555556, \"#d8576b\"], [0.6666666666666666, \"#ed7953\"], [0.7777777777777778, \"#fb9f3a\"], [0.8888888888888888, \"#fdca26\"], [1.0, \"#f0f921\"]], \"type\": \"contour\"}], \"contourcarpet\": [{\"colorbar\": {\"outlinewidth\": 0, \"ticks\": \"\"}, \"type\": \"contourcarpet\"}], \"heatmap\": [{\"colorbar\": {\"outlinewidth\": 0, \"ticks\": \"\"}, \"colorscale\": [[0.0, \"#0d0887\"], [0.1111111111111111, \"#46039f\"], [0.2222222222222222, \"#7201a8\"], [0.3333333333333333, \"#9c179e\"], [0.4444444444444444, \"#bd3786\"], [0.5555555555555556, \"#d8576b\"], [0.6666666666666666, \"#ed7953\"], [0.7777777777777778, \"#fb9f3a\"], [0.8888888888888888, \"#fdca26\"], [1.0, \"#f0f921\"]], \"type\": \"heatmap\"}], \"heatmapgl\": [{\"colorbar\": {\"outlinewidth\": 0, \"ticks\": \"\"}, \"colorscale\": [[0.0, \"#0d0887\"], [0.1111111111111111, \"#46039f\"], [0.2222222222222222, \"#7201a8\"], [0.3333333333333333, \"#9c179e\"], [0.4444444444444444, \"#bd3786\"], [0.5555555555555556, \"#d8576b\"], [0.6666666666666666, \"#ed7953\"], [0.7777777777777778, \"#fb9f3a\"], [0.8888888888888888, \"#fdca26\"], [1.0, \"#f0f921\"]], \"type\": \"heatmapgl\"}], \"histogram\": [{\"marker\": {\"colorbar\": {\"outlinewidth\": 0, \"ticks\": \"\"}}, \"type\": \"histogram\"}], \"histogram2d\": [{\"colorbar\": {\"outlinewidth\": 0, \"ticks\": \"\"}, \"colorscale\": [[0.0, \"#0d0887\"], [0.1111111111111111, \"#46039f\"], [0.2222222222222222, \"#7201a8\"], [0.3333333333333333, \"#9c179e\"], [0.4444444444444444, \"#bd3786\"], [0.5555555555555556, \"#d8576b\"], [0.6666666666666666, \"#ed7953\"], [0.7777777777777778, \"#fb9f3a\"], [0.8888888888888888, \"#fdca26\"], [1.0, \"#f0f921\"]], \"type\": \"histogram2d\"}], \"histogram2dcontour\": [{\"colorbar\": {\"outlinewidth\": 0, \"ticks\": \"\"}, \"colorscale\": [[0.0, \"#0d0887\"], [0.1111111111111111, \"#46039f\"], [0.2222222222222222, \"#7201a8\"], [0.3333333333333333, \"#9c179e\"], [0.4444444444444444, \"#bd3786\"], [0.5555555555555556, \"#d8576b\"], [0.6666666666666666, \"#ed7953\"], [0.7777777777777778, \"#fb9f3a\"], [0.8888888888888888, \"#fdca26\"], [1.0, \"#f0f921\"]], \"type\": \"histogram2dcontour\"}], \"mesh3d\": [{\"colorbar\": {\"outlinewidth\": 0, \"ticks\": \"\"}, \"type\": \"mesh3d\"}], \"parcoords\": [{\"line\": {\"colorbar\": {\"outlinewidth\": 0, \"ticks\": \"\"}}, \"type\": \"parcoords\"}], \"scatter\": [{\"marker\": {\"colorbar\": {\"outlinewidth\": 0, \"ticks\": \"\"}}, \"type\": \"scatter\"}], \"scatter3d\": [{\"line\": {\"colorbar\": {\"outlinewidth\": 0, \"ticks\": \"\"}}, \"marker\": {\"colorbar\": {\"outlinewidth\": 0, \"ticks\": \"\"}}, \"type\": \"scatter3d\"}], \"scattercarpet\": [{\"marker\": {\"colorbar\": {\"outlinewidth\": 0, \"ticks\": \"\"}}, \"type\": \"scattercarpet\"}], \"scattergeo\": [{\"marker\": {\"colorbar\": {\"outlinewidth\": 0, \"ticks\": \"\"}}, \"type\": \"scattergeo\"}], \"scattergl\": [{\"marker\": {\"colorbar\": {\"outlinewidth\": 0, \"ticks\": \"\"}}, \"type\": \"scattergl\"}], \"scattermapbox\": [{\"marker\": {\"colorbar\": {\"outlinewidth\": 0, \"ticks\": \"\"}}, \"type\": \"scattermapbox\"}], \"scatterpolar\": [{\"marker\": {\"colorbar\": {\"outlinewidth\": 0, \"ticks\": \"\"}}, \"type\": \"scatterpolar\"}], \"scatterpolargl\": [{\"marker\": {\"colorbar\": {\"outlinewidth\": 0, \"ticks\": \"\"}}, \"type\": \"scatterpolargl\"}], \"scatterternary\": [{\"marker\": {\"colorbar\": {\"outlinewidth\": 0, \"ticks\": \"\"}}, \"type\": \"scatterternary\"}], \"surface\": [{\"colorbar\": {\"outlinewidth\": 0, \"ticks\": \"\"}, \"colorscale\": [[0.0, \"#0d0887\"], [0.1111111111111111, \"#46039f\"], [0.2222222222222222, \"#7201a8\"], [0.3333333333333333, \"#9c179e\"], [0.4444444444444444, \"#bd3786\"], [0.5555555555555556, \"#d8576b\"], [0.6666666666666666, \"#ed7953\"], [0.7777777777777778, \"#fb9f3a\"], [0.8888888888888888, \"#fdca26\"], [1.0, \"#f0f921\"]], \"type\": \"surface\"}], \"table\": [{\"cells\": {\"fill\": {\"color\": \"#EBF0F8\"}, \"line\": {\"color\": \"white\"}}, \"header\": {\"fill\": {\"color\": \"#C8D4E3\"}, \"line\": {\"color\": \"white\"}}, \"type\": \"table\"}]}, \"layout\": {\"annotationdefaults\": {\"arrowcolor\": \"#2a3f5f\", \"arrowhead\": 0, \"arrowwidth\": 1}, \"colorscale\": {\"diverging\": [[0, \"#8e0152\"], [0.1, \"#c51b7d\"], [0.2, \"#de77ae\"], [0.3, \"#f1b6da\"], [0.4, \"#fde0ef\"], [0.5, \"#f7f7f7\"], [0.6, \"#e6f5d0\"], [0.7, \"#b8e186\"], [0.8, \"#7fbc41\"], [0.9, \"#4d9221\"], [1, \"#276419\"]], \"sequential\": [[0.0, \"#0d0887\"], [0.1111111111111111, \"#46039f\"], [0.2222222222222222, \"#7201a8\"], [0.3333333333333333, \"#9c179e\"], [0.4444444444444444, \"#bd3786\"], [0.5555555555555556, \"#d8576b\"], [0.6666666666666666, \"#ed7953\"], [0.7777777777777778, \"#fb9f3a\"], [0.8888888888888888, \"#fdca26\"], [1.0, \"#f0f921\"]], \"sequentialminus\": [[0.0, \"#0d0887\"], [0.1111111111111111, \"#46039f\"], [0.2222222222222222, \"#7201a8\"], [0.3333333333333333, \"#9c179e\"], [0.4444444444444444, \"#bd3786\"], [0.5555555555555556, \"#d8576b\"], [0.6666666666666666, \"#ed7953\"], [0.7777777777777778, \"#fb9f3a\"], [0.8888888888888888, \"#fdca26\"], [1.0, \"#f0f921\"]]}, \"colorway\": [\"#636efa\", \"#EF553B\", \"#00cc96\", \"#ab63fa\", \"#FFA15A\", \"#19d3f3\", \"#FF6692\", \"#B6E880\", \"#FF97FF\", \"#FECB52\"], \"font\": {\"color\": \"#2a3f5f\"}, \"geo\": {\"bgcolor\": \"white\", \"lakecolor\": \"white\", \"landcolor\": \"#E5ECF6\", \"showlakes\": true, \"showland\": true, \"subunitcolor\": \"white\"}, \"hoverlabel\": {\"align\": \"left\"}, \"hovermode\": \"closest\", \"mapbox\": {\"style\": \"light\"}, \"paper_bgcolor\": \"white\", \"plot_bgcolor\": \"#E5ECF6\", \"polar\": {\"angularaxis\": {\"gridcolor\": \"white\", \"linecolor\": \"white\", \"ticks\": \"\"}, \"bgcolor\": \"#E5ECF6\", \"radialaxis\": {\"gridcolor\": \"white\", \"linecolor\": \"white\", \"ticks\": \"\"}}, \"scene\": {\"xaxis\": {\"backgroundcolor\": \"#E5ECF6\", \"gridcolor\": \"white\", \"gridwidth\": 2, \"linecolor\": \"white\", \"showbackground\": true, \"ticks\": \"\", \"zerolinecolor\": \"white\"}, \"yaxis\": {\"backgroundcolor\": \"#E5ECF6\", \"gridcolor\": \"white\", \"gridwidth\": 2, \"linecolor\": \"white\", \"showbackground\": true, \"ticks\": \"\", \"zerolinecolor\": \"white\"}, \"zaxis\": {\"backgroundcolor\": \"#E5ECF6\", \"gridcolor\": \"white\", \"gridwidth\": 2, \"linecolor\": \"white\", \"showbackground\": true, \"ticks\": \"\", \"zerolinecolor\": \"white\"}}, \"shapedefaults\": {\"line\": {\"color\": \"#2a3f5f\"}}, \"ternary\": {\"aaxis\": {\"gridcolor\": \"white\", \"linecolor\": \"white\", \"ticks\": \"\"}, \"baxis\": {\"gridcolor\": \"white\", \"linecolor\": \"white\", \"ticks\": \"\"}, \"bgcolor\": \"#E5ECF6\", \"caxis\": {\"gridcolor\": \"white\", \"linecolor\": \"white\", \"ticks\": \"\"}}, \"title\": {\"x\": 0.05}, \"xaxis\": {\"automargin\": true, \"gridcolor\": \"white\", \"linecolor\": \"white\", \"ticks\": \"\", \"zerolinecolor\": \"white\", \"zerolinewidth\": 2}, \"yaxis\": {\"automargin\": true, \"gridcolor\": \"white\", \"linecolor\": \"white\", \"ticks\": \"\", \"zerolinecolor\": \"white\", \"zerolinewidth\": 2}}}, \"xaxis\": {\"anchor\": \"y\", \"domain\": [0.0, 0.98], \"title\": {\"text\": \"ano\"}}, \"yaxis\": {\"anchor\": \"x\", \"domain\": [0.0, 1.0], \"title\": {\"text\": \"empenhado\"}}},\n",
       "                        {\"responsive\": true}\n",
       "                    ).then(function(){\n",
       "                            \n",
       "var gd = document.getElementById('50b37525-b8e2-4aa9-9c08-26b4fd5370fb');\n",
       "var x = new MutationObserver(function (mutations, observer) {{\n",
       "        var display = window.getComputedStyle(gd).display;\n",
       "        if (!display || display === 'none') {{\n",
       "            console.log([gd, 'removed!']);\n",
       "            Plotly.purge(gd);\n",
       "            observer.disconnect();\n",
       "        }}\n",
       "}});\n",
       "\n",
       "// Listen for the removal of the full notebook cells\n",
       "var notebookContainer = gd.closest('#notebook-container');\n",
       "if (notebookContainer) {{\n",
       "    x.observe(notebookContainer, {childList: true});\n",
       "}}\n",
       "\n",
       "// Listen for the clearing of the current output cell\n",
       "var outputEl = gd.closest('.output');\n",
       "if (outputEl) {{\n",
       "    x.observe(outputEl, {childList: true});\n",
       "}}\n",
       "\n",
       "                        })\n",
       "                };\n",
       "                });\n",
       "            </script>\n",
       "        </div>"
      ]
     },
     "metadata": {},
     "output_type": "display_data"
    }
   ],
   "source": [
    "fig = px.bar(orgaos, x=\"ano\", y=[\"empenhado\"], color=\"orgao\")\n",
    "fig.show()"
   ]
  },
  {
   "cell_type": "code",
   "execution_count": 75,
   "metadata": {},
   "outputs": [
    {
     "data": {
      "application/vnd.plotly.v1+json": {
       "config": {
        "plotlyServerURL": "https://plot.ly"
       },
       "data": [
        {
         "alignmentgroup": "True",
         "hoverlabel": {
          "namelength": 0
         },
         "hovertemplate": "orgao=ASSEMBLEIA LEGISLATIVA<br>ano=%{x}<br>empenhado_percent=%{y}",
         "legendgroup": "orgao=ASSEMBLEIA LEGISLATIVA",
         "marker": {
          "color": "#636efa"
         },
         "name": "orgao=ASSEMBLEIA LEGISLATIVA",
         "offsetgroup": "orgao=ASSEMBLEIA LEGISLATIVA",
         "orientation": "v",
         "showlegend": true,
         "textposition": "auto",
         "type": "bar",
         "visible": true,
         "x": [
          "2010",
          "2011",
          "2012",
          "2013",
          "2014",
          "2015",
          "2016",
          "2017",
          "2018"
         ],
         "xaxis": "x",
         "y": [
          0.44903469093234627,
          0.43098763303159654,
          0.4391819998154775,
          0.4139560128307727,
          0.41692393265437067,
          0.4396317382339267,
          0.4910332710474974,
          0.4837622260655189,
          0.4794133729464828
         ],
         "yaxis": "y"
        },
        {
         "alignmentgroup": "True",
         "hoverlabel": {
          "namelength": 0
         },
         "hovertemplate": "orgao=TRIBUNAL DE CONTAS DO ESTADO<br>ano=%{x}<br>empenhado_percent=%{y}",
         "legendgroup": "orgao=TRIBUNAL DE CONTAS DO ESTADO",
         "marker": {
          "color": "#EF553B"
         },
         "name": "orgao=TRIBUNAL DE CONTAS DO ESTADO",
         "offsetgroup": "orgao=TRIBUNAL DE CONTAS DO ESTADO",
         "orientation": "v",
         "showlegend": true,
         "textposition": "auto",
         "type": "bar",
         "visible": true,
         "x": [
          "2010",
          "2011",
          "2012",
          "2013",
          "2014",
          "2015",
          "2016",
          "2017",
          "2018"
         ],
         "xaxis": "x",
         "y": [
          0.32036456791233486,
          0.31035986006864424,
          0.3042685331039913,
          0.2963706152693691,
          0.32301289010334905,
          0.3357563470748908,
          0.3888310989589049,
          0.3790572384274385,
          0.3847502524386248
         ],
         "yaxis": "y"
        },
        {
         "alignmentgroup": "True",
         "hoverlabel": {
          "namelength": 0
         },
         "hovertemplate": "orgao=TRIBUNAL DE JUSTICA<br>ano=%{x}<br>empenhado_percent=%{y}",
         "legendgroup": "orgao=TRIBUNAL DE JUSTICA",
         "marker": {
          "color": "#00cc96"
         },
         "name": "orgao=TRIBUNAL DE JUSTICA",
         "offsetgroup": "orgao=TRIBUNAL DE JUSTICA",
         "orientation": "v",
         "showlegend": true,
         "textposition": "auto",
         "type": "bar",
         "visible": true,
         "x": [
          "2010",
          "2011",
          "2012",
          "2013",
          "2014",
          "2015",
          "2016",
          "2017",
          "2018"
         ],
         "xaxis": "x",
         "y": [
          3.7182834526984503,
          3.859851172561779,
          4.428992347309351,
          4.3356595349089515,
          4.439233102897378,
          4.6552497328567775,
          4.968060283604596,
          5.180272007053962,
          5.144380344638408
         ],
         "yaxis": "y"
        },
        {
         "alignmentgroup": "True",
         "hoverlabel": {
          "namelength": 0
         },
         "hovertemplate": "orgao=TRIBUNAL DE JUSTICA MILITAR<br>ano=%{x}<br>empenhado_percent=%{y}",
         "legendgroup": "orgao=TRIBUNAL DE JUSTICA MILITAR",
         "marker": {
          "color": "#ab63fa"
         },
         "name": "orgao=TRIBUNAL DE JUSTICA MILITAR",
         "offsetgroup": "orgao=TRIBUNAL DE JUSTICA MILITAR",
         "orientation": "v",
         "showlegend": true,
         "textposition": "auto",
         "type": "bar",
         "visible": true,
         "x": [
          "2010",
          "2011",
          "2012",
          "2013",
          "2014",
          "2015",
          "2016",
          "2017",
          "2018"
         ],
         "xaxis": "x",
         "y": [
          0.025709261317027204,
          0.024764659240105985,
          0.026039156673872584,
          0.02635210184713235,
          0.02432593357313163,
          0.026093231804721298,
          0.026872601881491376,
          0.027737013008416408,
          0.027784515004180263
         ],
         "yaxis": "y"
        },
        {
         "alignmentgroup": "True",
         "hoverlabel": {
          "namelength": 0
         },
         "hovertemplate": "orgao=SECRETARIA DA EDUCACAO<br>ano=%{x}<br>empenhado_percent=%{y}",
         "legendgroup": "orgao=SECRETARIA DA EDUCACAO",
         "marker": {
          "color": "#FFA15A"
         },
         "name": "orgao=SECRETARIA DA EDUCACAO",
         "offsetgroup": "orgao=SECRETARIA DA EDUCACAO",
         "orientation": "v",
         "showlegend": true,
         "textposition": "auto",
         "type": "bar",
         "visible": true,
         "x": [
          "2010",
          "2011",
          "2012",
          "2013",
          "2014",
          "2015",
          "2016",
          "2017",
          "2018"
         ],
         "xaxis": "x",
         "y": [
          12.905771748846226,
          13.371333589162251,
          12.882790582170166,
          13.099823012848354,
          13.343692369692672,
          13.441071759431718,
          13.074574607992478,
          13.05392576590793,
          12.99815231404769
         ],
         "yaxis": "y"
        },
        {
         "alignmentgroup": "True",
         "hoverlabel": {
          "namelength": 0
         },
         "hovertemplate": "orgao=SECRETARIA DA SAUDE<br>ano=%{x}<br>empenhado_percent=%{y}",
         "legendgroup": "orgao=SECRETARIA DA SAUDE",
         "marker": {
          "color": "#19d3f3"
         },
         "name": "orgao=SECRETARIA DA SAUDE",
         "offsetgroup": "orgao=SECRETARIA DA SAUDE",
         "orientation": "v",
         "showlegend": true,
         "textposition": "auto",
         "type": "bar",
         "visible": true,
         "x": [
          "2010",
          "2011",
          "2012",
          "2013",
          "2014",
          "2015",
          "2016",
          "2017",
          "2018"
         ],
         "xaxis": "x",
         "y": [
          8.882686885303245,
          8.87310718478673,
          8.702958925007822,
          8.941856972681197,
          9.2064247697129,
          9.352083537746966,
          9.611499981051239,
          9.553244301471976,
          9.536396212481419
         ],
         "yaxis": "y"
        },
        {
         "alignmentgroup": "True",
         "hoverlabel": {
          "namelength": 0
         },
         "hovertemplate": "orgao=SEC.DESENV. ECONOMICO, CIENCIA,TECN. INOVACA<br>ano=%{x}<br>empenhado_percent=%{y}",
         "legendgroup": "orgao=SEC.DESENV. ECONOMICO, CIENCIA,TECN. INOVACA",
         "marker": {
          "color": "#FF6692"
         },
         "name": "orgao=SEC.DESENV. ECONOMICO, CIENCIA,TECN. INOVACA",
         "offsetgroup": "orgao=SEC.DESENV. ECONOMICO, CIENCIA,TECN. INOVACA",
         "orientation": "v",
         "showlegend": true,
         "textposition": "auto",
         "type": "bar",
         "visible": true,
         "x": [
          "2010",
          "2011",
          "2012",
          "2013",
          "2014",
          "2015",
          "2016",
          "2017"
         ],
         "xaxis": "x",
         "y": [
          1.0807559027548814,
          6.784028406611019,
          7.112079185153379,
          7.116418779544883,
          6.322437921231812,
          6.626898974555237,
          6.893933061183731,
          6.550464418561745
         ],
         "yaxis": "y"
        },
        {
         "alignmentgroup": "True",
         "hoverlabel": {
          "namelength": 0
         },
         "hovertemplate": "orgao=SECR. DESENV. ECONOMICO<br>ano=%{x}<br>empenhado_percent=%{y}",
         "legendgroup": "orgao=SECR. DESENV. ECONOMICO",
         "marker": {
          "color": "#B6E880"
         },
         "name": "orgao=SECR. DESENV. ECONOMICO",
         "offsetgroup": "orgao=SECR. DESENV. ECONOMICO",
         "orientation": "v",
         "showlegend": true,
         "textposition": "auto",
         "type": "bar",
         "visible": true,
         "x": [
          "2018"
         ],
         "xaxis": "x",
         "y": [
          6.4058956273463235
         ],
         "yaxis": "y"
        },
        {
         "alignmentgroup": "True",
         "hoverlabel": {
          "namelength": 0
         },
         "hovertemplate": "orgao=SECRETARIA DA CULTURA<br>ano=%{x}<br>empenhado_percent=%{y}",
         "legendgroup": "orgao=SECRETARIA DA CULTURA",
         "marker": {
          "color": "#FF97FF"
         },
         "name": "orgao=SECRETARIA DA CULTURA",
         "offsetgroup": "orgao=SECRETARIA DA CULTURA",
         "orientation": "v",
         "showlegend": true,
         "textposition": "auto",
         "type": "bar",
         "visible": true,
         "x": [
          "2010",
          "2011",
          "2012",
          "2013",
          "2014",
          "2015",
          "2016",
          "2017"
         ],
         "xaxis": "x",
         "y": [
          0.6286204574782078,
          0.49383889014730736,
          0.4502852902124847,
          0.4605739337452644,
          0.43518156594968316,
          0.3482438736391584,
          0.31626479861195367,
          0.3175035136562734
         ],
         "yaxis": "y"
        },
        {
         "alignmentgroup": "True",
         "hoverlabel": {
          "namelength": 0
         },
         "hovertemplate": "orgao=SECRETARIA DA CULTURA E ECONOMIA CRIATIVA<br>ano=%{x}<br>empenhado_percent=%{y}",
         "legendgroup": "orgao=SECRETARIA DA CULTURA E ECONOMIA CRIATIVA",
         "marker": {
          "color": "#FECB52"
         },
         "name": "orgao=SECRETARIA DA CULTURA E ECONOMIA CRIATIVA",
         "offsetgroup": "orgao=SECRETARIA DA CULTURA E ECONOMIA CRIATIVA",
         "orientation": "v",
         "showlegend": true,
         "textposition": "auto",
         "type": "bar",
         "visible": true,
         "x": [
          "2018"
         ],
         "xaxis": "x",
         "y": [
          0.3266345837243906
         ],
         "yaxis": "y"
        },
        {
         "alignmentgroup": "True",
         "hoverlabel": {
          "namelength": 0
         },
         "hovertemplate": "orgao=SECRETARIA DE AGRICULTURA E ABASTECIMENTO<br>ano=%{x}<br>empenhado_percent=%{y}",
         "legendgroup": "orgao=SECRETARIA DE AGRICULTURA E ABASTECIMENTO",
         "marker": {
          "color": "#636efa"
         },
         "name": "orgao=SECRETARIA DE AGRICULTURA E ABASTECIMENTO",
         "offsetgroup": "orgao=SECRETARIA DE AGRICULTURA E ABASTECIMENTO",
         "orientation": "v",
         "showlegend": true,
         "textposition": "auto",
         "type": "bar",
         "visible": true,
         "x": [
          "2010",
          "2011",
          "2012",
          "2013",
          "2014",
          "2015",
          "2016",
          "2017",
          "2018"
         ],
         "xaxis": "x",
         "y": [
          0.6916321699755114,
          0.521407905273606,
          0.5455031681912956,
          0.5031619466738566,
          0.5002699755492871,
          0.467444607497834,
          0.3895287636345714,
          0.4047142754759661,
          0.37661492997578705
         ],
         "yaxis": "y"
        },
        {
         "alignmentgroup": "True",
         "hoverlabel": {
          "namelength": 0
         },
         "hovertemplate": "orgao=SECRETARIA DE LOGISTICA E TRANSPORTES<br>ano=%{x}<br>empenhado_percent=%{y}",
         "legendgroup": "orgao=SECRETARIA DE LOGISTICA E TRANSPORTES",
         "marker": {
          "color": "#EF553B"
         },
         "name": "orgao=SECRETARIA DE LOGISTICA E TRANSPORTES",
         "offsetgroup": "orgao=SECRETARIA DE LOGISTICA E TRANSPORTES",
         "orientation": "v",
         "showlegend": true,
         "textposition": "auto",
         "type": "bar",
         "visible": true,
         "x": [
          "2010",
          "2011",
          "2012",
          "2013",
          "2014",
          "2015",
          "2016",
          "2017",
          "2018"
         ],
         "xaxis": "x",
         "y": [
          4.904353186693551,
          3.385712365738738,
          2.2644505835067665,
          3.8924002146788013,
          3.1550951705423285,
          1.9834988493853938,
          2.525737877551292,
          2.3799983550448305,
          1.5972112534190026
         ],
         "yaxis": "y"
        },
        {
         "alignmentgroup": "True",
         "hoverlabel": {
          "namelength": 0
         },
         "hovertemplate": "orgao=SEC.DA JUSTICA E DA DEFESA DA CIDADANIA<br>ano=%{x}<br>empenhado_percent=%{y}",
         "legendgroup": "orgao=SEC.DA JUSTICA E DA DEFESA DA CIDADANIA",
         "marker": {
          "color": "#00cc96"
         },
         "name": "orgao=SEC.DA JUSTICA E DA DEFESA DA CIDADANIA",
         "offsetgroup": "orgao=SEC.DA JUSTICA E DA DEFESA DA CIDADANIA",
         "orientation": "v",
         "showlegend": true,
         "textposition": "auto",
         "type": "bar",
         "visible": true,
         "x": [
          "2010",
          "2011",
          "2012",
          "2013",
          "2014",
          "2015",
          "2016",
          "2017"
         ],
         "xaxis": "x",
         "y": [
          0.7269722800104759,
          0.8708868212465353,
          0.8078730239627208,
          0.850034270325708,
          0.9223795015275738,
          0.9039721601139316,
          0.905405195605915,
          0.8600952786158707
         ],
         "yaxis": "y"
        },
        {
         "alignmentgroup": "True",
         "hoverlabel": {
          "namelength": 0
         },
         "hovertemplate": "orgao=SEC.DA JUSTICA E CIDADANIA<br>ano=%{x}<br>empenhado_percent=%{y}",
         "legendgroup": "orgao=SEC.DA JUSTICA E CIDADANIA",
         "marker": {
          "color": "#ab63fa"
         },
         "name": "orgao=SEC.DA JUSTICA E CIDADANIA",
         "offsetgroup": "orgao=SEC.DA JUSTICA E CIDADANIA",
         "orientation": "v",
         "showlegend": true,
         "textposition": "auto",
         "type": "bar",
         "visible": true,
         "x": [
          "2018"
         ],
         "xaxis": "x",
         "y": [
          0.8374888616885408
         ],
         "yaxis": "y"
        },
        {
         "alignmentgroup": "True",
         "hoverlabel": {
          "namelength": 0
         },
         "hovertemplate": "orgao=SECRETARIA DA SEGURANCA PUBLICA<br>ano=%{x}<br>empenhado_percent=%{y}",
         "legendgroup": "orgao=SECRETARIA DA SEGURANCA PUBLICA",
         "marker": {
          "color": "#FFA15A"
         },
         "name": "orgao=SECRETARIA DA SEGURANCA PUBLICA",
         "offsetgroup": "orgao=SECRETARIA DA SEGURANCA PUBLICA",
         "orientation": "v",
         "showlegend": true,
         "textposition": "auto",
         "type": "bar",
         "visible": true,
         "x": [
          "2010",
          "2011",
          "2012",
          "2013",
          "2014",
          "2015",
          "2016",
          "2017",
          "2018"
         ],
         "xaxis": "x",
         "y": [
          7.425127985905737,
          7.628206299722059,
          8.375186979090172,
          7.996704579253999,
          8.559596778672551,
          8.887682547296826,
          9.029128789984188,
          8.872922327602698,
          8.741073532973456
         ],
         "yaxis": "y"
        },
        {
         "alignmentgroup": "True",
         "hoverlabel": {
          "namelength": 0
         },
         "hovertemplate": "orgao=SECRETARIA DA FAZENDA<br>ano=%{x}<br>empenhado_percent=%{y}",
         "legendgroup": "orgao=SECRETARIA DA FAZENDA",
         "marker": {
          "color": "#19d3f3"
         },
         "name": "orgao=SECRETARIA DA FAZENDA",
         "offsetgroup": "orgao=SECRETARIA DA FAZENDA",
         "orientation": "v",
         "showlegend": true,
         "textposition": "auto",
         "type": "bar",
         "visible": true,
         "x": [
          "2010",
          "2011",
          "2012",
          "2013",
          "2014",
          "2015",
          "2016",
          "2017"
         ],
         "xaxis": "x",
         "y": [
          12.41803066757008,
          13.117917441193446,
          14.012994332619028,
          13.540953932052144,
          13.577567253110367,
          14.284723962287337,
          15.016393289940474,
          14.986929208049894
         ],
         "yaxis": "y"
        },
        {
         "alignmentgroup": "True",
         "hoverlabel": {
          "namelength": 0
         },
         "hovertemplate": "orgao=SECRETARIA DA FAZENDA E PLANEJAMENTO<br>ano=%{x}<br>empenhado_percent=%{y}",
         "legendgroup": "orgao=SECRETARIA DA FAZENDA E PLANEJAMENTO",
         "marker": {
          "color": "#FF6692"
         },
         "name": "orgao=SECRETARIA DA FAZENDA E PLANEJAMENTO",
         "offsetgroup": "orgao=SECRETARIA DA FAZENDA E PLANEJAMENTO",
         "orientation": "v",
         "showlegend": true,
         "textposition": "auto",
         "type": "bar",
         "visible": true,
         "x": [
          "2018"
         ],
         "xaxis": "x",
         "y": [
          15.367418998252095
         ],
         "yaxis": "y"
        },
        {
         "alignmentgroup": "True",
         "hoverlabel": {
          "namelength": 0
         },
         "hovertemplate": "orgao=ADMINISTRACAO GERAL DO ESTADO<br>ano=%{x}<br>empenhado_percent=%{y}",
         "legendgroup": "orgao=ADMINISTRACAO GERAL DO ESTADO",
         "marker": {
          "color": "#B6E880"
         },
         "name": "orgao=ADMINISTRACAO GERAL DO ESTADO",
         "offsetgroup": "orgao=ADMINISTRACAO GERAL DO ESTADO",
         "orientation": "v",
         "showlegend": true,
         "textposition": "auto",
         "type": "bar",
         "visible": true,
         "x": [
          "2010",
          "2011",
          "2012",
          "2013",
          "2014",
          "2015",
          "2016",
          "2017",
          "2018"
         ],
         "xaxis": "x",
         "y": [
          26.39436270302135,
          28.130820631001757,
          28.08672215878491,
          27.200036822046496,
          26.86862174299915,
          27.12038961466811,
          24.816696911375825,
          24.943397283809045,
          27.030690696439695
         ],
         "yaxis": "y"
        },
        {
         "alignmentgroup": "True",
         "hoverlabel": {
          "namelength": 0
         },
         "hovertemplate": "orgao=SEC.DO EMPREGO E RELACOES DO TRABALHO<br>ano=%{x}<br>empenhado_percent=%{y}",
         "legendgroup": "orgao=SEC.DO EMPREGO E RELACOES DO TRABALHO",
         "marker": {
          "color": "#FF97FF"
         },
         "name": "orgao=SEC.DO EMPREGO E RELACOES DO TRABALHO",
         "offsetgroup": "orgao=SEC.DO EMPREGO E RELACOES DO TRABALHO",
         "orientation": "v",
         "showlegend": true,
         "textposition": "auto",
         "type": "bar",
         "visible": true,
         "x": [
          "2010",
          "2011",
          "2012",
          "2013",
          "2014",
          "2015",
          "2016",
          "2017",
          "2018"
         ],
         "xaxis": "x",
         "y": [
          0.1293168799533695,
          0.09442460629744268,
          0.07740870499547393,
          0.07746240823521679,
          0.06547672251863018,
          0.061935383921840385,
          0.051429577497010555,
          0.04991751897350612,
          0.09725873233199167
         ],
         "yaxis": "y"
        },
        {
         "alignmentgroup": "True",
         "hoverlabel": {
          "namelength": 0
         },
         "hovertemplate": "orgao=SECRETARIA DE TURISMO<br>ano=%{x}<br>empenhado_percent=%{y}",
         "legendgroup": "orgao=SECRETARIA DE TURISMO",
         "marker": {
          "color": "#FECB52"
         },
         "name": "orgao=SECRETARIA DE TURISMO",
         "offsetgroup": "orgao=SECRETARIA DE TURISMO",
         "orientation": "v",
         "showlegend": true,
         "textposition": "auto",
         "type": "bar",
         "visible": true,
         "x": [
          "2011",
          "2012",
          "2011",
          "2012",
          "2013",
          "2014",
          "2015",
          "2016",
          "2017",
          "2018"
         ],
         "xaxis": "x",
         "y": [
          0,
          0,
          0.15264450606412192,
          0.16843067075109028,
          0.14456577264847112,
          0.16278741730954305,
          0.07933894924147006,
          0.11384630470723078,
          0.1134782399120961,
          0.1293854113085843
         ],
         "yaxis": "y"
        },
        {
         "alignmentgroup": "True",
         "hoverlabel": {
          "namelength": 0
         },
         "hovertemplate": "orgao=SECRETARIA DA HABITACAO<br>ano=%{x}<br>empenhado_percent=%{y}",
         "legendgroup": "orgao=SECRETARIA DA HABITACAO",
         "marker": {
          "color": "#636efa"
         },
         "name": "orgao=SECRETARIA DA HABITACAO",
         "offsetgroup": "orgao=SECRETARIA DA HABITACAO",
         "orientation": "v",
         "showlegend": true,
         "textposition": "auto",
         "type": "bar",
         "visible": true,
         "x": [
          "2010",
          "2011",
          "2012",
          "2013",
          "2014",
          "2015",
          "2016",
          "2017",
          "2018"
         ],
         "xaxis": "x",
         "y": [
          0.9220768811662999,
          0.9771668526150782,
          0.6797439788547328,
          0.7426438933346332,
          0.7031241218220697,
          0.5309876708315466,
          0.5159648742286193,
          0.702912837560383,
          0.31902126244224194
         ],
         "yaxis": "y"
        },
        {
         "alignmentgroup": "True",
         "hoverlabel": {
          "namelength": 0
         },
         "hovertemplate": "orgao=SECRETARIA DO MEIO AMBIENTE<br>ano=%{x}<br>empenhado_percent=%{y}",
         "legendgroup": "orgao=SECRETARIA DO MEIO AMBIENTE",
         "marker": {
          "color": "#EF553B"
         },
         "name": "orgao=SECRETARIA DO MEIO AMBIENTE",
         "offsetgroup": "orgao=SECRETARIA DO MEIO AMBIENTE",
         "orientation": "v",
         "showlegend": true,
         "textposition": "auto",
         "type": "bar",
         "visible": true,
         "x": [
          "2010",
          "2011",
          "2012",
          "2013",
          "2014",
          "2015",
          "2016",
          "2017"
         ],
         "xaxis": "x",
         "y": [
          0.48022471696159746,
          0.4168652790129299,
          0.42807091509272654,
          0.42128759011151273,
          0.47369127483989454,
          0.4165576647128278,
          0.4293550255524906,
          0.40845221082050087
         ],
         "yaxis": "y"
        },
        {
         "alignmentgroup": "True",
         "hoverlabel": {
          "namelength": 0
         },
         "hovertemplate": "orgao=SECRETARIA DE INFR. MEIO AMBIENTE<br>ano=%{x}<br>empenhado_percent=%{y}",
         "legendgroup": "orgao=SECRETARIA DE INFR. MEIO AMBIENTE",
         "marker": {
          "color": "#00cc96"
         },
         "name": "orgao=SECRETARIA DE INFR. MEIO AMBIENTE",
         "offsetgroup": "orgao=SECRETARIA DE INFR. MEIO AMBIENTE",
         "orientation": "v",
         "showlegend": true,
         "textposition": "auto",
         "type": "bar",
         "visible": true,
         "x": [
          "2018"
         ],
         "xaxis": "x",
         "y": [
          0.4093341234938415
         ],
         "yaxis": "y"
        },
        {
         "alignmentgroup": "True",
         "hoverlabel": {
          "namelength": 0
         },
         "hovertemplate": "orgao=MINISTERIO PUBLICO<br>ano=%{x}<br>empenhado_percent=%{y}",
         "legendgroup": "orgao=MINISTERIO PUBLICO",
         "marker": {
          "color": "#ab63fa"
         },
         "name": "orgao=MINISTERIO PUBLICO",
         "offsetgroup": "orgao=MINISTERIO PUBLICO",
         "orientation": "v",
         "showlegend": true,
         "textposition": "auto",
         "type": "bar",
         "visible": true,
         "x": [
          "2010",
          "2011",
          "2012",
          "2013",
          "2014",
          "2015",
          "2016",
          "2017",
          "2018"
         ],
         "xaxis": "x",
         "y": [
          0.9001358048075444,
          0.9043106540166053,
          0.8949705418653121,
          0.8534260573418146,
          0.8591371492382838,
          0.9458658522577358,
          1.0024668075445018,
          1.0155170534345808,
          1.060214814094534
         ],
         "yaxis": "y"
        },
        {
         "alignmentgroup": "True",
         "hoverlabel": {
          "namelength": 0
         },
         "hovertemplate": "orgao=CASA CIVIL<br>ano=%{x}<br>empenhado_percent=%{y}",
         "legendgroup": "orgao=CASA CIVIL",
         "marker": {
          "color": "#FFA15A"
         },
         "name": "orgao=CASA CIVIL",
         "offsetgroup": "orgao=CASA CIVIL",
         "orientation": "v",
         "showlegend": true,
         "textposition": "auto",
         "type": "bar",
         "visible": true,
         "x": [
          "2010",
          "2011",
          "2012",
          "2013",
          "2014",
          "2015",
          "2016",
          "2017",
          "2018"
         ],
         "xaxis": "x",
         "y": [
          0.17481476817333122,
          0.20056767643428924,
          0.22172129055655676,
          0.2574340461485099,
          0.27820545919523476,
          0.1122392930283407,
          0.15121282593830415,
          0.17990569625429578,
          0.10881381267133648
         ],
         "yaxis": "y"
        },
        {
         "alignmentgroup": "True",
         "hoverlabel": {
          "namelength": 0
         },
         "hovertemplate": "orgao=SECRETARIA DE PLANEJAMENTO E GESTAO<br>ano=%{x}<br>empenhado_percent=%{y}",
         "legendgroup": "orgao=SECRETARIA DE PLANEJAMENTO E GESTAO",
         "marker": {
          "color": "#19d3f3"
         },
         "name": "orgao=SECRETARIA DE PLANEJAMENTO E GESTAO",
         "offsetgroup": "orgao=SECRETARIA DE PLANEJAMENTO E GESTAO",
         "orientation": "v",
         "showlegend": true,
         "textposition": "auto",
         "type": "bar",
         "visible": true,
         "x": [
          "2010",
          "2011",
          "2012",
          "2013",
          "2014",
          "2015",
          "2016",
          "2017"
         ],
         "xaxis": "x",
         "y": [
          0.6537872461196224,
          0.22539660051723404,
          0.38976041706692743,
          0.5002607502205275,
          0.5816008783638584,
          1.13495452116344,
          1.065877191594841,
          1.044590851073859
         ],
         "yaxis": "y"
        },
        {
         "alignmentgroup": "True",
         "hoverlabel": {
          "namelength": 0
         },
         "hovertemplate": "orgao=SECRETARIA DE DESENVOLVIMENTO REGIONAL<br>ano=%{x}<br>empenhado_percent=%{y}",
         "legendgroup": "orgao=SECRETARIA DE DESENVOLVIMENTO REGIONAL",
         "marker": {
          "color": "#FF6692"
         },
         "name": "orgao=SECRETARIA DE DESENVOLVIMENTO REGIONAL",
         "offsetgroup": "orgao=SECRETARIA DE DESENVOLVIMENTO REGIONAL",
         "orientation": "v",
         "showlegend": true,
         "textposition": "auto",
         "type": "bar",
         "visible": true,
         "x": [
          "2018"
         ],
         "xaxis": "x",
         "y": [
          1.2939071511272622
         ],
         "yaxis": "y"
        },
        {
         "alignmentgroup": "True",
         "hoverlabel": {
          "namelength": 0
         },
         "hovertemplate": "orgao=SECRETARIA DE DESENVOLVIMENTO SOCIAL<br>ano=%{x}<br>empenhado_percent=%{y}",
         "legendgroup": "orgao=SECRETARIA DE DESENVOLVIMENTO SOCIAL",
         "marker": {
          "color": "#B6E880"
         },
         "name": "orgao=SECRETARIA DE DESENVOLVIMENTO SOCIAL",
         "offsetgroup": "orgao=SECRETARIA DE DESENVOLVIMENTO SOCIAL",
         "orientation": "v",
         "showlegend": true,
         "textposition": "auto",
         "type": "bar",
         "visible": true,
         "x": [
          "2010",
          "2011",
          "2012",
          "2013",
          "2014",
          "2015",
          "2016",
          "2017",
          "2018"
         ],
         "xaxis": "x",
         "y": [
          0.38634429512336815,
          0.4911226603484303,
          0.5405050368520863,
          0.4462770763638794,
          0.4359698594988532,
          0.4011221539364889,
          0.36720542369422793,
          0.3072573776754599,
          0.29868931020060147
         ],
         "yaxis": "y"
        },
        {
         "alignmentgroup": "True",
         "hoverlabel": {
          "namelength": 0
         },
         "hovertemplate": "orgao=SECRETARIA DOS TRANSPORTES METROPOLITANOS<br>ano=%{x}<br>empenhado_percent=%{y}",
         "legendgroup": "orgao=SECRETARIA DOS TRANSPORTES METROPOLITANOS",
         "marker": {
          "color": "#FF97FF"
         },
         "name": "orgao=SECRETARIA DOS TRANSPORTES METROPOLITANOS",
         "offsetgroup": "orgao=SECRETARIA DOS TRANSPORTES METROPOLITANOS",
         "orientation": "v",
         "showlegend": true,
         "textposition": "auto",
         "type": "bar",
         "visible": true,
         "x": [
          "2010",
          "2011",
          "2012",
          "2013",
          "2014",
          "2015",
          "2016",
          "2017",
          "2018"
         ],
         "xaxis": "x",
         "y": [
          4.959154311547993,
          4.04479050670615,
          3.6820434169003122,
          3.729990621247726,
          4.007739471404479,
          3.651968466690509,
          3.962146426768294,
          4.1951381744979805,
          3.2806449164120224
         ],
         "yaxis": "y"
        },
        {
         "alignmentgroup": "True",
         "hoverlabel": {
          "namelength": 0
         },
         "hovertemplate": "orgao=SECRETARIA ADMINISTRACAO PENITENCIARIA<br>ano=%{x}<br>empenhado_percent=%{y}",
         "legendgroup": "orgao=SECRETARIA ADMINISTRACAO PENITENCIARIA",
         "marker": {
          "color": "#FECB52"
         },
         "name": "orgao=SECRETARIA ADMINISTRACAO PENITENCIARIA",
         "offsetgroup": "orgao=SECRETARIA ADMINISTRACAO PENITENCIARIA",
         "orientation": "v",
         "showlegend": true,
         "textposition": "auto",
         "type": "bar",
         "visible": true,
         "x": [
          "2010",
          "2011",
          "2012",
          "2013",
          "2014",
          "2015",
          "2016",
          "2017",
          "2018"
         ],
         "xaxis": "x",
         "y": [
          1.5181153857279548,
          1.618664947257599,
          1.6435370769234716,
          1.6117651521402792,
          1.7050539018515016,
          1.760357734740043,
          1.8468552899285593,
          1.8054550767838597,
          1.7156109352266298
         ],
         "yaxis": "y"
        },
        {
         "alignmentgroup": "True",
         "hoverlabel": {
          "namelength": 0
         },
         "hovertemplate": "orgao=SECRETARIA DE SANEAMENTO E RECURSOS HIDRICOS<br>ano=%{x}<br>empenhado_percent=%{y}",
         "legendgroup": "orgao=SECRETARIA DE SANEAMENTO E RECURSOS HIDRICOS",
         "marker": {
          "color": "#636efa"
         },
         "name": "orgao=SECRETARIA DE SANEAMENTO E RECURSOS HIDRICOS",
         "offsetgroup": "orgao=SECRETARIA DE SANEAMENTO E RECURSOS HIDRICOS",
         "orientation": "v",
         "showlegend": true,
         "textposition": "auto",
         "type": "bar",
         "visible": true,
         "x": [
          "2010",
          "2011",
          "2012",
          "2013",
          "2014",
          "2015",
          "2016",
          "2017",
          "2018"
         ],
         "xaxis": "x",
         "y": [
          0.7206429508424844,
          0.683426337274028,
          0.586299265403229,
          0.6270157247645329,
          0.5658309987170612,
          0.5147668623548308,
          0.5444636793364914,
          0.6488949273549343,
          0.5560407513291906
         ],
         "yaxis": "y"
        },
        {
         "alignmentgroup": "True",
         "hoverlabel": {
          "namelength": 0
         },
         "hovertemplate": "orgao=PROCURADORIA GERAL DO ESTADO<br>ano=%{x}<br>empenhado_percent=%{y}",
         "legendgroup": "orgao=PROCURADORIA GERAL DO ESTADO",
         "marker": {
          "color": "#EF553B"
         },
         "name": "orgao=PROCURADORIA GERAL DO ESTADO",
         "offsetgroup": "orgao=PROCURADORIA GERAL DO ESTADO",
         "orientation": "v",
         "showlegend": true,
         "textposition": "auto",
         "type": "bar",
         "visible": true,
         "x": [
          "2010",
          "2011",
          "2012",
          "2013",
          "2014",
          "2015",
          "2016",
          "2017",
          "2018"
         ],
         "xaxis": "x",
         "y": [
          1.457067120355548,
          0.726675672996025,
          0.5924149441810102,
          0.47137762606146577,
          0.4975425272798735,
          0.47687126620386483,
          0.6189304772842968,
          0.6690951199103038,
          0.6782145054445657
         ],
         "yaxis": "y"
        },
        {
         "alignmentgroup": "True",
         "hoverlabel": {
          "namelength": 0
         },
         "hovertemplate": "orgao=SECRETARIA DE ESPORTE, LAZER E JUVENTUDE<br>ano=%{x}<br>empenhado_percent=%{y}",
         "legendgroup": "orgao=SECRETARIA DE ESPORTE, LAZER E JUVENTUDE",
         "marker": {
          "color": "#00cc96"
         },
         "name": "orgao=SECRETARIA DE ESPORTE, LAZER E JUVENTUDE",
         "offsetgroup": "orgao=SECRETARIA DE ESPORTE, LAZER E JUVENTUDE",
         "orientation": "v",
         "showlegend": true,
         "textposition": "auto",
         "type": "bar",
         "visible": true,
         "x": [
          "2010",
          "2011",
          "2012",
          "2013",
          "2014",
          "2015",
          "2016",
          "2017"
         ],
         "xaxis": "x",
         "y": [
          0.10849313607779294,
          0.09996743109292544,
          0.09302041812122676,
          0.0895304132751096,
          0.11722557991264082,
          0.07547653395175716,
          0.0560840206977236,
          0.06495598579959408
         ],
         "yaxis": "y"
        },
        {
         "alignmentgroup": "True",
         "hoverlabel": {
          "namelength": 0
         },
         "hovertemplate": "orgao=SECRETARIA DE ESPORTES<br>ano=%{x}<br>empenhado_percent=%{y}",
         "legendgroup": "orgao=SECRETARIA DE ESPORTES",
         "marker": {
          "color": "#ab63fa"
         },
         "name": "orgao=SECRETARIA DE ESPORTES",
         "offsetgroup": "orgao=SECRETARIA DE ESPORTES",
         "orientation": "v",
         "showlegend": true,
         "textposition": "auto",
         "type": "bar",
         "visible": true,
         "x": [
          "2018"
         ],
         "xaxis": "x",
         "y": [
          0.05569974691374708
         ],
         "yaxis": "y"
        },
        {
         "alignmentgroup": "True",
         "hoverlabel": {
          "namelength": 0
         },
         "hovertemplate": "orgao=DEFENSORIA PUBLICA DO ESTADO<br>ano=%{x}<br>empenhado_percent=%{y}",
         "legendgroup": "orgao=DEFENSORIA PUBLICA DO ESTADO",
         "marker": {
          "color": "#FFA15A"
         },
         "name": "orgao=DEFENSORIA PUBLICA DO ESTADO",
         "offsetgroup": "orgao=DEFENSORIA PUBLICA DO ESTADO",
         "orientation": "v",
         "showlegend": true,
         "textposition": "auto",
         "type": "bar",
         "visible": true,
         "x": [
          "2010",
          "2011",
          "2012",
          "2013",
          "2014",
          "2015",
          "2016",
          "2017",
          "2018"
         ],
         "xaxis": "x",
         "y": [
          0.3244610488633159,
          0.33499208174043593,
          0.3212237690074524,
          0.30295496281576473,
          0.3515650893131542,
          0.36057238368032984,
          0.3583109477764011,
          0.3324234815336379,
          0.3462373978013412
         ],
         "yaxis": "y"
        },
        {
         "alignmentgroup": "True",
         "hoverlabel": {
          "namelength": 0
         },
         "hovertemplate": "orgao=SECRETARIA DE ENSINO SUPERIOR<br>ano=%{x}<br>empenhado_percent=%{y}",
         "legendgroup": "orgao=SECRETARIA DE ENSINO SUPERIOR",
         "marker": {
          "color": "#19d3f3"
         },
         "name": "orgao=SECRETARIA DE ENSINO SUPERIOR",
         "offsetgroup": "orgao=SECRETARIA DE ENSINO SUPERIOR",
         "orientation": "v",
         "showlegend": true,
         "textposition": "auto",
         "type": "bar",
         "visible": true,
         "x": [
          "2010",
          "2011",
          "2012",
          "2013",
          "2014"
         ],
         "xaxis": "x",
         "y": [
          5.601635269644226,
          0.0033483394074327313,
          0,
          0,
          0
         ],
         "yaxis": "y"
        },
        {
         "alignmentgroup": "True",
         "hoverlabel": {
          "namelength": 0
         },
         "hovertemplate": "orgao=SECRETARIA DE GESTAO PUBLICA<br>ano=%{x}<br>empenhado_percent=%{y}",
         "legendgroup": "orgao=SECRETARIA DE GESTAO PUBLICA",
         "marker": {
          "color": "#FF6692"
         },
         "name": "orgao=SECRETARIA DE GESTAO PUBLICA",
         "offsetgroup": "orgao=SECRETARIA DE GESTAO PUBLICA",
         "orientation": "v",
         "showlegend": true,
         "textposition": "auto",
         "type": "bar",
         "visible": true,
         "x": [
          "2010",
          "2011",
          "2012",
          "2013",
          "2014",
          "2015"
         ],
         "xaxis": "x",
         "y": [
          0.9444250145497712,
          1.0720315676541299,
          1.092968222173721,
          0.905666698983704,
          0.9474322421117296,
          0
         ],
         "yaxis": "y"
        },
        {
         "alignmentgroup": "True",
         "hoverlabel": {
          "namelength": 0
         },
         "hovertemplate": "orgao=SECRETARIA DE COMUNICACAO<br>ano=%{x}<br>empenhado_percent=%{y}",
         "legendgroup": "orgao=SECRETARIA DE COMUNICACAO",
         "marker": {
          "color": "#B6E880"
         },
         "name": "orgao=SECRETARIA DE COMUNICACAO",
         "offsetgroup": "orgao=SECRETARIA DE COMUNICACAO",
         "orientation": "v",
         "showlegend": true,
         "textposition": "auto",
         "type": "bar",
         "visible": true,
         "x": [
          "2010",
          "2011",
          "2012"
         ],
         "xaxis": "x",
         "y": [
          0.0990571449340329,
          0.0011825317816477811,
          0
         ],
         "yaxis": "y"
        },
        {
         "alignmentgroup": "True",
         "hoverlabel": {
          "namelength": 0
         },
         "hovertemplate": "orgao=SECRETARIA DE RELACOES INSTITUCIONAIS<br>ano=%{x}<br>empenhado_percent=%{y}",
         "legendgroup": "orgao=SECRETARIA DE RELACOES INSTITUCIONAIS",
         "marker": {
          "color": "#FF97FF"
         },
         "name": "orgao=SECRETARIA DE RELACOES INSTITUCIONAIS",
         "offsetgroup": "orgao=SECRETARIA DE RELACOES INSTITUCIONAIS",
         "orientation": "v",
         "showlegend": true,
         "textposition": "auto",
         "type": "bar",
         "visible": true,
         "x": [
          "2010",
          "2011"
         ],
         "xaxis": "x",
         "y": [
          0.018840859530531256,
          0.0003750665985848769
         ],
         "yaxis": "y"
        },
        {
         "alignmentgroup": "True",
         "hoverlabel": {
          "namelength": 0
         },
         "hovertemplate": "orgao=SECR.EST.DIREITOS PESSOA COM DEFICIENCIA<br>ano=%{x}<br>empenhado_percent=%{y}",
         "legendgroup": "orgao=SECR.EST.DIREITOS PESSOA COM DEFICIENCIA",
         "marker": {
          "color": "#FECB52"
         },
         "name": "orgao=SECR.EST.DIREITOS PESSOA COM DEFICIENCIA",
         "offsetgroup": "orgao=SECR.EST.DIREITOS PESSOA COM DEFICIENCIA",
         "orientation": "v",
         "showlegend": true,
         "textposition": "auto",
         "type": "bar",
         "visible": true,
         "x": [
          "2010",
          "2011",
          "2012",
          "2013",
          "2014",
          "2015",
          "2016",
          "2017",
          "2018"
         ],
         "xaxis": "x",
         "y": [
          0.029701205201911177,
          0.020520488655756095,
          0.028297394976568826,
          0.04001412661691254,
          0.11410512409712856,
          0.05526898692354719,
          0.05157329722885846,
          0.01931108432571429,
          0.016517631847092394
         ],
         "yaxis": "y"
        },
        {
         "alignmentgroup": "True",
         "hoverlabel": {
          "namelength": 0
         },
         "hovertemplate": "orgao=SECR. DE DESENVOLVIMENTO METROPOLITANO<br>ano=%{x}<br>empenhado_percent=%{y}",
         "legendgroup": "orgao=SECR. DE DESENVOLVIMENTO METROPOLITANO",
         "marker": {
          "color": "#636efa"
         },
         "name": "orgao=SECR. DE DESENVOLVIMENTO METROPOLITANO",
         "offsetgroup": "orgao=SECR. DE DESENVOLVIMENTO METROPOLITANO",
         "orientation": "v",
         "showlegend": true,
         "textposition": "auto",
         "type": "bar",
         "visible": true,
         "x": [
          "2011",
          "2012",
          "2013",
          "2014",
          "2015",
          "2016",
          "2017"
         ],
         "xaxis": "x",
         "y": [
          0.08475655567655938,
          0.07241795322625104,
          0.06566503110492682,
          0,
          0,
          0,
          0
         ],
         "yaxis": "y"
        },
        {
         "alignmentgroup": "True",
         "hoverlabel": {
          "namelength": 0
         },
         "hovertemplate": "orgao=SECRETARIA DE ENERGIA<br>ano=%{x}<br>empenhado_percent=%{y}",
         "legendgroup": "orgao=SECRETARIA DE ENERGIA",
         "marker": {
          "color": "#EF553B"
         },
         "name": "orgao=SECRETARIA DE ENERGIA",
         "offsetgroup": "orgao=SECRETARIA DE ENERGIA",
         "orientation": "v",
         "showlegend": true,
         "textposition": "auto",
         "type": "bar",
         "visible": true,
         "x": [
          "2011",
          "2012",
          "2013"
         ],
         "xaxis": "x",
         "y": [
          0.04354677806649167,
          0.0478397174500001,
          0.03835931987762819
         ],
         "yaxis": "y"
        },
        {
         "alignmentgroup": "True",
         "hoverlabel": {
          "namelength": 0
         },
         "hovertemplate": "orgao=SECRETARIA DE ENERGIA E MINERACAO<br>ano=%{x}<br>empenhado_percent=%{y}",
         "legendgroup": "orgao=SECRETARIA DE ENERGIA E MINERACAO",
         "marker": {
          "color": "#00cc96"
         },
         "name": "orgao=SECRETARIA DE ENERGIA E MINERACAO",
         "offsetgroup": "orgao=SECRETARIA DE ENERGIA E MINERACAO",
         "orientation": "v",
         "showlegend": true,
         "textposition": "auto",
         "type": "bar",
         "visible": true,
         "x": [
          "2014",
          "2015",
          "2016",
          "2017",
          "2018"
         ],
         "xaxis": "x",
         "y": [
          0.038749274309147576,
          0.01211805585196043,
          0.011312635202319178,
          0.013765532401018904,
          0.029033345783834676
         ],
         "yaxis": "y"
        },
        {
         "alignmentgroup": "True",
         "hoverlabel": {
          "namelength": 0
         },
         "hovertemplate": "orgao=SECRETARIA DE GOVERNO<br>ano=%{x}<br>empenhado_percent=%{y}",
         "legendgroup": "orgao=SECRETARIA DE GOVERNO",
         "marker": {
          "color": "#ab63fa"
         },
         "name": "orgao=SECRETARIA DE GOVERNO",
         "offsetgroup": "orgao=SECRETARIA DE GOVERNO",
         "orientation": "v",
         "showlegend": true,
         "textposition": "auto",
         "type": "bar",
         "visible": true,
         "x": [
          "2015",
          "2016",
          "2017",
          "2018"
         ],
         "xaxis": "x",
         "y": [
          0.53685728391668,
          0.3990046625954986,
          0.4349056189363131,
          0.35147065619496204
         ],
         "yaxis": "y"
        },
        {
         "alignmentgroup": "True",
         "hoverlabel": {
          "namelength": 0
         },
         "hovertemplate": "orgao=RESERVA DE CONTINGENCIA<br>ano=%{x}<br>empenhado_percent=%{y}",
         "legendgroup": "orgao=RESERVA DE CONTINGENCIA",
         "marker": {
          "color": "#FFA15A"
         },
         "name": "orgao=RESERVA DE CONTINGENCIA",
         "offsetgroup": "orgao=RESERVA DE CONTINGENCIA",
         "orientation": "v",
         "showlegend": true,
         "textposition": "auto",
         "type": "bar",
         "visible": true,
         "x": [
          "2010",
          "2011",
          "2012",
          "2013",
          "2014",
          "2015",
          "2016",
          "2017",
          "2018"
         ],
         "xaxis": "x",
         "y": [
          0,
          0,
          0,
          0,
          0,
          0,
          0,
          0,
          0
         ],
         "yaxis": "y"
        }
       ],
       "layout": {
        "autosize": true,
        "barmode": "relative",
        "legend": {
         "tracegroupgap": 0
        },
        "margin": {
         "t": 60
        },
        "template": {
         "data": {
          "bar": [
           {
            "error_x": {
             "color": "#2a3f5f"
            },
            "error_y": {
             "color": "#2a3f5f"
            },
            "marker": {
             "line": {
              "color": "#E5ECF6",
              "width": 0.5
             }
            },
            "type": "bar"
           }
          ],
          "barpolar": [
           {
            "marker": {
             "line": {
              "color": "#E5ECF6",
              "width": 0.5
             }
            },
            "type": "barpolar"
           }
          ],
          "carpet": [
           {
            "aaxis": {
             "endlinecolor": "#2a3f5f",
             "gridcolor": "white",
             "linecolor": "white",
             "minorgridcolor": "white",
             "startlinecolor": "#2a3f5f"
            },
            "baxis": {
             "endlinecolor": "#2a3f5f",
             "gridcolor": "white",
             "linecolor": "white",
             "minorgridcolor": "white",
             "startlinecolor": "#2a3f5f"
            },
            "type": "carpet"
           }
          ],
          "choropleth": [
           {
            "colorbar": {
             "outlinewidth": 0,
             "ticks": ""
            },
            "type": "choropleth"
           }
          ],
          "contour": [
           {
            "colorbar": {
             "outlinewidth": 0,
             "ticks": ""
            },
            "colorscale": [
             [
              0,
              "#0d0887"
             ],
             [
              0.1111111111111111,
              "#46039f"
             ],
             [
              0.2222222222222222,
              "#7201a8"
             ],
             [
              0.3333333333333333,
              "#9c179e"
             ],
             [
              0.4444444444444444,
              "#bd3786"
             ],
             [
              0.5555555555555556,
              "#d8576b"
             ],
             [
              0.6666666666666666,
              "#ed7953"
             ],
             [
              0.7777777777777778,
              "#fb9f3a"
             ],
             [
              0.8888888888888888,
              "#fdca26"
             ],
             [
              1,
              "#f0f921"
             ]
            ],
            "type": "contour"
           }
          ],
          "contourcarpet": [
           {
            "colorbar": {
             "outlinewidth": 0,
             "ticks": ""
            },
            "type": "contourcarpet"
           }
          ],
          "heatmap": [
           {
            "colorbar": {
             "outlinewidth": 0,
             "ticks": ""
            },
            "colorscale": [
             [
              0,
              "#0d0887"
             ],
             [
              0.1111111111111111,
              "#46039f"
             ],
             [
              0.2222222222222222,
              "#7201a8"
             ],
             [
              0.3333333333333333,
              "#9c179e"
             ],
             [
              0.4444444444444444,
              "#bd3786"
             ],
             [
              0.5555555555555556,
              "#d8576b"
             ],
             [
              0.6666666666666666,
              "#ed7953"
             ],
             [
              0.7777777777777778,
              "#fb9f3a"
             ],
             [
              0.8888888888888888,
              "#fdca26"
             ],
             [
              1,
              "#f0f921"
             ]
            ],
            "type": "heatmap"
           }
          ],
          "heatmapgl": [
           {
            "colorbar": {
             "outlinewidth": 0,
             "ticks": ""
            },
            "colorscale": [
             [
              0,
              "#0d0887"
             ],
             [
              0.1111111111111111,
              "#46039f"
             ],
             [
              0.2222222222222222,
              "#7201a8"
             ],
             [
              0.3333333333333333,
              "#9c179e"
             ],
             [
              0.4444444444444444,
              "#bd3786"
             ],
             [
              0.5555555555555556,
              "#d8576b"
             ],
             [
              0.6666666666666666,
              "#ed7953"
             ],
             [
              0.7777777777777778,
              "#fb9f3a"
             ],
             [
              0.8888888888888888,
              "#fdca26"
             ],
             [
              1,
              "#f0f921"
             ]
            ],
            "type": "heatmapgl"
           }
          ],
          "histogram": [
           {
            "marker": {
             "colorbar": {
              "outlinewidth": 0,
              "ticks": ""
             }
            },
            "type": "histogram"
           }
          ],
          "histogram2d": [
           {
            "colorbar": {
             "outlinewidth": 0,
             "ticks": ""
            },
            "colorscale": [
             [
              0,
              "#0d0887"
             ],
             [
              0.1111111111111111,
              "#46039f"
             ],
             [
              0.2222222222222222,
              "#7201a8"
             ],
             [
              0.3333333333333333,
              "#9c179e"
             ],
             [
              0.4444444444444444,
              "#bd3786"
             ],
             [
              0.5555555555555556,
              "#d8576b"
             ],
             [
              0.6666666666666666,
              "#ed7953"
             ],
             [
              0.7777777777777778,
              "#fb9f3a"
             ],
             [
              0.8888888888888888,
              "#fdca26"
             ],
             [
              1,
              "#f0f921"
             ]
            ],
            "type": "histogram2d"
           }
          ],
          "histogram2dcontour": [
           {
            "colorbar": {
             "outlinewidth": 0,
             "ticks": ""
            },
            "colorscale": [
             [
              0,
              "#0d0887"
             ],
             [
              0.1111111111111111,
              "#46039f"
             ],
             [
              0.2222222222222222,
              "#7201a8"
             ],
             [
              0.3333333333333333,
              "#9c179e"
             ],
             [
              0.4444444444444444,
              "#bd3786"
             ],
             [
              0.5555555555555556,
              "#d8576b"
             ],
             [
              0.6666666666666666,
              "#ed7953"
             ],
             [
              0.7777777777777778,
              "#fb9f3a"
             ],
             [
              0.8888888888888888,
              "#fdca26"
             ],
             [
              1,
              "#f0f921"
             ]
            ],
            "type": "histogram2dcontour"
           }
          ],
          "mesh3d": [
           {
            "colorbar": {
             "outlinewidth": 0,
             "ticks": ""
            },
            "type": "mesh3d"
           }
          ],
          "parcoords": [
           {
            "line": {
             "colorbar": {
              "outlinewidth": 0,
              "ticks": ""
             }
            },
            "type": "parcoords"
           }
          ],
          "scatter": [
           {
            "marker": {
             "colorbar": {
              "outlinewidth": 0,
              "ticks": ""
             }
            },
            "type": "scatter"
           }
          ],
          "scatter3d": [
           {
            "line": {
             "colorbar": {
              "outlinewidth": 0,
              "ticks": ""
             }
            },
            "marker": {
             "colorbar": {
              "outlinewidth": 0,
              "ticks": ""
             }
            },
            "type": "scatter3d"
           }
          ],
          "scattercarpet": [
           {
            "marker": {
             "colorbar": {
              "outlinewidth": 0,
              "ticks": ""
             }
            },
            "type": "scattercarpet"
           }
          ],
          "scattergeo": [
           {
            "marker": {
             "colorbar": {
              "outlinewidth": 0,
              "ticks": ""
             }
            },
            "type": "scattergeo"
           }
          ],
          "scattergl": [
           {
            "marker": {
             "colorbar": {
              "outlinewidth": 0,
              "ticks": ""
             }
            },
            "type": "scattergl"
           }
          ],
          "scattermapbox": [
           {
            "marker": {
             "colorbar": {
              "outlinewidth": 0,
              "ticks": ""
             }
            },
            "type": "scattermapbox"
           }
          ],
          "scatterpolar": [
           {
            "marker": {
             "colorbar": {
              "outlinewidth": 0,
              "ticks": ""
             }
            },
            "type": "scatterpolar"
           }
          ],
          "scatterpolargl": [
           {
            "marker": {
             "colorbar": {
              "outlinewidth": 0,
              "ticks": ""
             }
            },
            "type": "scatterpolargl"
           }
          ],
          "scatterternary": [
           {
            "marker": {
             "colorbar": {
              "outlinewidth": 0,
              "ticks": ""
             }
            },
            "type": "scatterternary"
           }
          ],
          "surface": [
           {
            "colorbar": {
             "outlinewidth": 0,
             "ticks": ""
            },
            "colorscale": [
             [
              0,
              "#0d0887"
             ],
             [
              0.1111111111111111,
              "#46039f"
             ],
             [
              0.2222222222222222,
              "#7201a8"
             ],
             [
              0.3333333333333333,
              "#9c179e"
             ],
             [
              0.4444444444444444,
              "#bd3786"
             ],
             [
              0.5555555555555556,
              "#d8576b"
             ],
             [
              0.6666666666666666,
              "#ed7953"
             ],
             [
              0.7777777777777778,
              "#fb9f3a"
             ],
             [
              0.8888888888888888,
              "#fdca26"
             ],
             [
              1,
              "#f0f921"
             ]
            ],
            "type": "surface"
           }
          ],
          "table": [
           {
            "cells": {
             "fill": {
              "color": "#EBF0F8"
             },
             "line": {
              "color": "white"
             }
            },
            "header": {
             "fill": {
              "color": "#C8D4E3"
             },
             "line": {
              "color": "white"
             }
            },
            "type": "table"
           }
          ]
         },
         "layout": {
          "annotationdefaults": {
           "arrowcolor": "#2a3f5f",
           "arrowhead": 0,
           "arrowwidth": 1
          },
          "colorscale": {
           "diverging": [
            [
             0,
             "#8e0152"
            ],
            [
             0.1,
             "#c51b7d"
            ],
            [
             0.2,
             "#de77ae"
            ],
            [
             0.3,
             "#f1b6da"
            ],
            [
             0.4,
             "#fde0ef"
            ],
            [
             0.5,
             "#f7f7f7"
            ],
            [
             0.6,
             "#e6f5d0"
            ],
            [
             0.7,
             "#b8e186"
            ],
            [
             0.8,
             "#7fbc41"
            ],
            [
             0.9,
             "#4d9221"
            ],
            [
             1,
             "#276419"
            ]
           ],
           "sequential": [
            [
             0,
             "#0d0887"
            ],
            [
             0.1111111111111111,
             "#46039f"
            ],
            [
             0.2222222222222222,
             "#7201a8"
            ],
            [
             0.3333333333333333,
             "#9c179e"
            ],
            [
             0.4444444444444444,
             "#bd3786"
            ],
            [
             0.5555555555555556,
             "#d8576b"
            ],
            [
             0.6666666666666666,
             "#ed7953"
            ],
            [
             0.7777777777777778,
             "#fb9f3a"
            ],
            [
             0.8888888888888888,
             "#fdca26"
            ],
            [
             1,
             "#f0f921"
            ]
           ],
           "sequentialminus": [
            [
             0,
             "#0d0887"
            ],
            [
             0.1111111111111111,
             "#46039f"
            ],
            [
             0.2222222222222222,
             "#7201a8"
            ],
            [
             0.3333333333333333,
             "#9c179e"
            ],
            [
             0.4444444444444444,
             "#bd3786"
            ],
            [
             0.5555555555555556,
             "#d8576b"
            ],
            [
             0.6666666666666666,
             "#ed7953"
            ],
            [
             0.7777777777777778,
             "#fb9f3a"
            ],
            [
             0.8888888888888888,
             "#fdca26"
            ],
            [
             1,
             "#f0f921"
            ]
           ]
          },
          "colorway": [
           "#636efa",
           "#EF553B",
           "#00cc96",
           "#ab63fa",
           "#FFA15A",
           "#19d3f3",
           "#FF6692",
           "#B6E880",
           "#FF97FF",
           "#FECB52"
          ],
          "font": {
           "color": "#2a3f5f"
          },
          "geo": {
           "bgcolor": "white",
           "lakecolor": "white",
           "landcolor": "#E5ECF6",
           "showlakes": true,
           "showland": true,
           "subunitcolor": "white"
          },
          "hoverlabel": {
           "align": "left"
          },
          "hovermode": "closest",
          "mapbox": {
           "style": "light"
          },
          "paper_bgcolor": "white",
          "plot_bgcolor": "#E5ECF6",
          "polar": {
           "angularaxis": {
            "gridcolor": "white",
            "linecolor": "white",
            "ticks": ""
           },
           "bgcolor": "#E5ECF6",
           "radialaxis": {
            "gridcolor": "white",
            "linecolor": "white",
            "ticks": ""
           }
          },
          "scene": {
           "xaxis": {
            "backgroundcolor": "#E5ECF6",
            "gridcolor": "white",
            "gridwidth": 2,
            "linecolor": "white",
            "showbackground": true,
            "ticks": "",
            "zerolinecolor": "white"
           },
           "yaxis": {
            "backgroundcolor": "#E5ECF6",
            "gridcolor": "white",
            "gridwidth": 2,
            "linecolor": "white",
            "showbackground": true,
            "ticks": "",
            "zerolinecolor": "white"
           },
           "zaxis": {
            "backgroundcolor": "#E5ECF6",
            "gridcolor": "white",
            "gridwidth": 2,
            "linecolor": "white",
            "showbackground": true,
            "ticks": "",
            "zerolinecolor": "white"
           }
          },
          "shapedefaults": {
           "line": {
            "color": "#2a3f5f"
           }
          },
          "ternary": {
           "aaxis": {
            "gridcolor": "white",
            "linecolor": "white",
            "ticks": ""
           },
           "baxis": {
            "gridcolor": "white",
            "linecolor": "white",
            "ticks": ""
           },
           "bgcolor": "#E5ECF6",
           "caxis": {
            "gridcolor": "white",
            "linecolor": "white",
            "ticks": ""
           }
          },
          "title": {
           "x": 0.05
          },
          "xaxis": {
           "automargin": true,
           "gridcolor": "white",
           "linecolor": "white",
           "ticks": "",
           "zerolinecolor": "white",
           "zerolinewidth": 2
          },
          "yaxis": {
           "automargin": true,
           "gridcolor": "white",
           "linecolor": "white",
           "ticks": "",
           "zerolinecolor": "white",
           "zerolinewidth": 2
          }
         }
        },
        "xaxis": {
         "anchor": "y",
         "autorange": true,
         "domain": [
          0,
          0.98
         ],
         "range": [
          2009.5,
          2018.5
         ],
         "title": {
          "text": "ano"
         },
         "type": "linear"
        },
        "yaxis": {
         "anchor": "x",
         "autorange": true,
         "domain": [
          0,
          1
         ],
         "range": [
          0,
          105.26315789473696
         ],
         "title": {
          "text": "empenhado_percent"
         },
         "type": "linear"
        }
       }
      },
      "image/png": "[encoded data removed]",
      "text/html": [
       "<div>\n",
       "        \n",
       "        \n",
       "            <div id=\"8cda5bb7-13fe-41a9-a768-d7c0014656b1\" class=\"plotly-graph-div\" style=\"height:600px; width:100%;\"></div>\n",
       "            <script type=\"text/javascript\">\n",
       "                require([\"plotly\"], function(Plotly) {\n",
       "                    window.PLOTLYENV=window.PLOTLYENV || {};\n",
       "                    \n",
       "                if (document.getElementById(\"8cda5bb7-13fe-41a9-a768-d7c0014656b1\")) {\n",
       "                    Plotly.newPlot(\n",
       "                        '8cda5bb7-13fe-41a9-a768-d7c0014656b1',\n",
       "                        [{\"alignmentgroup\": \"True\", \"hoverlabel\": {\"namelength\": 0}, \"hovertemplate\": \"orgao=ASSEMBLEIA LEGISLATIVA<br>ano=%{x}<br>empenhado_percent=%{y}\", \"legendgroup\": \"orgao=ASSEMBLEIA LEGISLATIVA\", \"marker\": {\"color\": \"#636efa\"}, \"name\": \"orgao=ASSEMBLEIA LEGISLATIVA\", \"offsetgroup\": \"orgao=ASSEMBLEIA LEGISLATIVA\", \"orientation\": \"v\", \"showlegend\": true, \"textposition\": \"auto\", \"type\": \"bar\", \"x\": [\"2010\", \"2011\", \"2012\", \"2013\", \"2014\", \"2015\", \"2016\", \"2017\", \"2018\"], \"xaxis\": \"x\", \"y\": [0.44903469093234627, 0.43098763303159654, 0.4391819998154775, 0.4139560128307727, 0.41692393265437067, 0.4396317382339267, 0.4910332710474974, 0.4837622260655189, 0.4794133729464828], \"yaxis\": \"y\"}, {\"alignmentgroup\": \"True\", \"hoverlabel\": {\"namelength\": 0}, \"hovertemplate\": \"orgao=TRIBUNAL DE CONTAS DO ESTADO<br>ano=%{x}<br>empenhado_percent=%{y}\", \"legendgroup\": \"orgao=TRIBUNAL DE CONTAS DO ESTADO\", \"marker\": {\"color\": \"#EF553B\"}, \"name\": \"orgao=TRIBUNAL DE CONTAS DO ESTADO\", \"offsetgroup\": \"orgao=TRIBUNAL DE CONTAS DO ESTADO\", \"orientation\": \"v\", \"showlegend\": true, \"textposition\": \"auto\", \"type\": \"bar\", \"x\": [\"2010\", \"2011\", \"2012\", \"2013\", \"2014\", \"2015\", \"2016\", \"2017\", \"2018\"], \"xaxis\": \"x\", \"y\": [0.32036456791233486, 0.31035986006864424, 0.3042685331039913, 0.2963706152693691, 0.32301289010334905, 0.3357563470748908, 0.3888310989589049, 0.3790572384274385, 0.3847502524386248], \"yaxis\": \"y\"}, {\"alignmentgroup\": \"True\", \"hoverlabel\": {\"namelength\": 0}, \"hovertemplate\": \"orgao=TRIBUNAL DE JUSTICA<br>ano=%{x}<br>empenhado_percent=%{y}\", \"legendgroup\": \"orgao=TRIBUNAL DE JUSTICA\", \"marker\": {\"color\": \"#00cc96\"}, \"name\": \"orgao=TRIBUNAL DE JUSTICA\", \"offsetgroup\": \"orgao=TRIBUNAL DE JUSTICA\", \"orientation\": \"v\", \"showlegend\": true, \"textposition\": \"auto\", \"type\": \"bar\", \"x\": [\"2010\", \"2011\", \"2012\", \"2013\", \"2014\", \"2015\", \"2016\", \"2017\", \"2018\"], \"xaxis\": \"x\", \"y\": [3.7182834526984503, 3.859851172561779, 4.428992347309351, 4.3356595349089515, 4.439233102897378, 4.6552497328567775, 4.968060283604596, 5.180272007053962, 5.144380344638408], \"yaxis\": \"y\"}, {\"alignmentgroup\": \"True\", \"hoverlabel\": {\"namelength\": 0}, \"hovertemplate\": \"orgao=TRIBUNAL DE JUSTICA MILITAR<br>ano=%{x}<br>empenhado_percent=%{y}\", \"legendgroup\": \"orgao=TRIBUNAL DE JUSTICA MILITAR\", \"marker\": {\"color\": \"#ab63fa\"}, \"name\": \"orgao=TRIBUNAL DE JUSTICA MILITAR\", \"offsetgroup\": \"orgao=TRIBUNAL DE JUSTICA MILITAR\", \"orientation\": \"v\", \"showlegend\": true, \"textposition\": \"auto\", \"type\": \"bar\", \"x\": [\"2010\", \"2011\", \"2012\", \"2013\", \"2014\", \"2015\", \"2016\", \"2017\", \"2018\"], \"xaxis\": \"x\", \"y\": [0.025709261317027204, 0.024764659240105985, 0.026039156673872584, 0.02635210184713235, 0.02432593357313163, 0.026093231804721298, 0.026872601881491376, 0.027737013008416408, 0.027784515004180263], \"yaxis\": \"y\"}, {\"alignmentgroup\": \"True\", \"hoverlabel\": {\"namelength\": 0}, \"hovertemplate\": \"orgao=SECRETARIA DA EDUCACAO<br>ano=%{x}<br>empenhado_percent=%{y}\", \"legendgroup\": \"orgao=SECRETARIA DA EDUCACAO\", \"marker\": {\"color\": \"#FFA15A\"}, \"name\": \"orgao=SECRETARIA DA EDUCACAO\", \"offsetgroup\": \"orgao=SECRETARIA DA EDUCACAO\", \"orientation\": \"v\", \"showlegend\": true, \"textposition\": \"auto\", \"type\": \"bar\", \"x\": [\"2010\", \"2011\", \"2012\", \"2013\", \"2014\", \"2015\", \"2016\", \"2017\", \"2018\"], \"xaxis\": \"x\", \"y\": [12.905771748846226, 13.371333589162251, 12.882790582170166, 13.099823012848354, 13.343692369692672, 13.441071759431718, 13.074574607992478, 13.05392576590793, 12.99815231404769], \"yaxis\": \"y\"}, {\"alignmentgroup\": \"True\", \"hoverlabel\": {\"namelength\": 0}, \"hovertemplate\": \"orgao=SECRETARIA DA SAUDE<br>ano=%{x}<br>empenhado_percent=%{y}\", \"legendgroup\": \"orgao=SECRETARIA DA SAUDE\", \"marker\": {\"color\": \"#19d3f3\"}, \"name\": \"orgao=SECRETARIA DA SAUDE\", \"offsetgroup\": \"orgao=SECRETARIA DA SAUDE\", \"orientation\": \"v\", \"showlegend\": true, \"textposition\": \"auto\", \"type\": \"bar\", \"x\": [\"2010\", \"2011\", \"2012\", \"2013\", \"2014\", \"2015\", \"2016\", \"2017\", \"2018\"], \"xaxis\": \"x\", \"y\": [8.882686885303245, 8.87310718478673, 8.702958925007822, 8.941856972681197, 9.2064247697129, 9.352083537746966, 9.611499981051239, 9.553244301471976, 9.536396212481419], \"yaxis\": \"y\"}, {\"alignmentgroup\": \"True\", \"hoverlabel\": {\"namelength\": 0}, \"hovertemplate\": \"orgao=SEC.DESENV. ECONOMICO, CIENCIA,TECN. INOVACA<br>ano=%{x}<br>empenhado_percent=%{y}\", \"legendgroup\": \"orgao=SEC.DESENV. ECONOMICO, CIENCIA,TECN. INOVACA\", \"marker\": {\"color\": \"#FF6692\"}, \"name\": \"orgao=SEC.DESENV. ECONOMICO, CIENCIA,TECN. INOVACA\", \"offsetgroup\": \"orgao=SEC.DESENV. ECONOMICO, CIENCIA,TECN. INOVACA\", \"orientation\": \"v\", \"showlegend\": true, \"textposition\": \"auto\", \"type\": \"bar\", \"x\": [\"2010\", \"2011\", \"2012\", \"2013\", \"2014\", \"2015\", \"2016\", \"2017\"], \"xaxis\": \"x\", \"y\": [1.0807559027548814, 6.784028406611019, 7.112079185153379, 7.116418779544883, 6.322437921231812, 6.626898974555237, 6.893933061183731, 6.550464418561745], \"yaxis\": \"y\"}, {\"alignmentgroup\": \"True\", \"hoverlabel\": {\"namelength\": 0}, \"hovertemplate\": \"orgao=SECR. DESENV. ECONOMICO<br>ano=%{x}<br>empenhado_percent=%{y}\", \"legendgroup\": \"orgao=SECR. DESENV. ECONOMICO\", \"marker\": {\"color\": \"#B6E880\"}, \"name\": \"orgao=SECR. DESENV. ECONOMICO\", \"offsetgroup\": \"orgao=SECR. DESENV. ECONOMICO\", \"orientation\": \"v\", \"showlegend\": true, \"textposition\": \"auto\", \"type\": \"bar\", \"x\": [\"2018\"], \"xaxis\": \"x\", \"y\": [6.4058956273463235], \"yaxis\": \"y\"}, {\"alignmentgroup\": \"True\", \"hoverlabel\": {\"namelength\": 0}, \"hovertemplate\": \"orgao=SECRETARIA DA CULTURA<br>ano=%{x}<br>empenhado_percent=%{y}\", \"legendgroup\": \"orgao=SECRETARIA DA CULTURA\", \"marker\": {\"color\": \"#FF97FF\"}, \"name\": \"orgao=SECRETARIA DA CULTURA\", \"offsetgroup\": \"orgao=SECRETARIA DA CULTURA\", \"orientation\": \"v\", \"showlegend\": true, \"textposition\": \"auto\", \"type\": \"bar\", \"x\": [\"2010\", \"2011\", \"2012\", \"2013\", \"2014\", \"2015\", \"2016\", \"2017\"], \"xaxis\": \"x\", \"y\": [0.6286204574782078, 0.49383889014730736, 0.4502852902124847, 0.4605739337452644, 0.43518156594968316, 0.3482438736391584, 0.31626479861195367, 0.3175035136562734], \"yaxis\": \"y\"}, {\"alignmentgroup\": \"True\", \"hoverlabel\": {\"namelength\": 0}, \"hovertemplate\": \"orgao=SECRETARIA DA CULTURA E ECONOMIA CRIATIVA<br>ano=%{x}<br>empenhado_percent=%{y}\", \"legendgroup\": \"orgao=SECRETARIA DA CULTURA E ECONOMIA CRIATIVA\", \"marker\": {\"color\": \"#FECB52\"}, \"name\": \"orgao=SECRETARIA DA CULTURA E ECONOMIA CRIATIVA\", \"offsetgroup\": \"orgao=SECRETARIA DA CULTURA E ECONOMIA CRIATIVA\", \"orientation\": \"v\", \"showlegend\": true, \"textposition\": \"auto\", \"type\": \"bar\", \"x\": [\"2018\"], \"xaxis\": \"x\", \"y\": [0.3266345837243906], \"yaxis\": \"y\"}, {\"alignmentgroup\": \"True\", \"hoverlabel\": {\"namelength\": 0}, \"hovertemplate\": \"orgao=SECRETARIA DE AGRICULTURA E ABASTECIMENTO<br>ano=%{x}<br>empenhado_percent=%{y}\", \"legendgroup\": \"orgao=SECRETARIA DE AGRICULTURA E ABASTECIMENTO\", \"marker\": {\"color\": \"#636efa\"}, \"name\": \"orgao=SECRETARIA DE AGRICULTURA E ABASTECIMENTO\", \"offsetgroup\": \"orgao=SECRETARIA DE AGRICULTURA E ABASTECIMENTO\", \"orientation\": \"v\", \"showlegend\": true, \"textposition\": \"auto\", \"type\": \"bar\", \"x\": [\"2010\", \"2011\", \"2012\", \"2013\", \"2014\", \"2015\", \"2016\", \"2017\", \"2018\"], \"xaxis\": \"x\", \"y\": [0.6916321699755114, 0.521407905273606, 0.5455031681912956, 0.5031619466738566, 0.5002699755492871, 0.467444607497834, 0.3895287636345714, 0.4047142754759661, 0.37661492997578705], \"yaxis\": \"y\"}, {\"alignmentgroup\": \"True\", \"hoverlabel\": {\"namelength\": 0}, \"hovertemplate\": \"orgao=SECRETARIA DE LOGISTICA E TRANSPORTES<br>ano=%{x}<br>empenhado_percent=%{y}\", \"legendgroup\": \"orgao=SECRETARIA DE LOGISTICA E TRANSPORTES\", \"marker\": {\"color\": \"#EF553B\"}, \"name\": \"orgao=SECRETARIA DE LOGISTICA E TRANSPORTES\", \"offsetgroup\": \"orgao=SECRETARIA DE LOGISTICA E TRANSPORTES\", \"orientation\": \"v\", \"showlegend\": true, \"textposition\": \"auto\", \"type\": \"bar\", \"x\": [\"2010\", \"2011\", \"2012\", \"2013\", \"2014\", \"2015\", \"2016\", \"2017\", \"2018\"], \"xaxis\": \"x\", \"y\": [4.904353186693551, 3.385712365738738, 2.2644505835067665, 3.8924002146788013, 3.1550951705423285, 1.9834988493853938, 2.525737877551292, 2.3799983550448305, 1.5972112534190026], \"yaxis\": \"y\"}, {\"alignmentgroup\": \"True\", \"hoverlabel\": {\"namelength\": 0}, \"hovertemplate\": \"orgao=SEC.DA JUSTICA E DA DEFESA DA CIDADANIA<br>ano=%{x}<br>empenhado_percent=%{y}\", \"legendgroup\": \"orgao=SEC.DA JUSTICA E DA DEFESA DA CIDADANIA\", \"marker\": {\"color\": \"#00cc96\"}, \"name\": \"orgao=SEC.DA JUSTICA E DA DEFESA DA CIDADANIA\", \"offsetgroup\": \"orgao=SEC.DA JUSTICA E DA DEFESA DA CIDADANIA\", \"orientation\": \"v\", \"showlegend\": true, \"textposition\": \"auto\", \"type\": \"bar\", \"x\": [\"2010\", \"2011\", \"2012\", \"2013\", \"2014\", \"2015\", \"2016\", \"2017\"], \"xaxis\": \"x\", \"y\": [0.7269722800104759, 0.8708868212465353, 0.8078730239627208, 0.850034270325708, 0.9223795015275738, 0.9039721601139316, 0.905405195605915, 0.8600952786158707], \"yaxis\": \"y\"}, {\"alignmentgroup\": \"True\", \"hoverlabel\": {\"namelength\": 0}, \"hovertemplate\": \"orgao=SEC.DA JUSTICA E CIDADANIA<br>ano=%{x}<br>empenhado_percent=%{y}\", \"legendgroup\": \"orgao=SEC.DA JUSTICA E CIDADANIA\", \"marker\": {\"color\": \"#ab63fa\"}, \"name\": \"orgao=SEC.DA JUSTICA E CIDADANIA\", \"offsetgroup\": \"orgao=SEC.DA JUSTICA E CIDADANIA\", \"orientation\": \"v\", \"showlegend\": true, \"textposition\": \"auto\", \"type\": \"bar\", \"x\": [\"2018\"], \"xaxis\": \"x\", \"y\": [0.8374888616885408], \"yaxis\": \"y\"}, {\"alignmentgroup\": \"True\", \"hoverlabel\": {\"namelength\": 0}, \"hovertemplate\": \"orgao=SECRETARIA DA SEGURANCA PUBLICA<br>ano=%{x}<br>empenhado_percent=%{y}\", \"legendgroup\": \"orgao=SECRETARIA DA SEGURANCA PUBLICA\", \"marker\": {\"color\": \"#FFA15A\"}, \"name\": \"orgao=SECRETARIA DA SEGURANCA PUBLICA\", \"offsetgroup\": \"orgao=SECRETARIA DA SEGURANCA PUBLICA\", \"orientation\": \"v\", \"showlegend\": true, \"textposition\": \"auto\", \"type\": \"bar\", \"x\": [\"2010\", \"2011\", \"2012\", \"2013\", \"2014\", \"2015\", \"2016\", \"2017\", \"2018\"], \"xaxis\": \"x\", \"y\": [7.425127985905737, 7.628206299722059, 8.375186979090172, 7.996704579253999, 8.559596778672551, 8.887682547296826, 9.029128789984188, 8.872922327602698, 8.741073532973456], \"yaxis\": \"y\"}, {\"alignmentgroup\": \"True\", \"hoverlabel\": {\"namelength\": 0}, \"hovertemplate\": \"orgao=SECRETARIA DA FAZENDA<br>ano=%{x}<br>empenhado_percent=%{y}\", \"legendgroup\": \"orgao=SECRETARIA DA FAZENDA\", \"marker\": {\"color\": \"#19d3f3\"}, \"name\": \"orgao=SECRETARIA DA FAZENDA\", \"offsetgroup\": \"orgao=SECRETARIA DA FAZENDA\", \"orientation\": \"v\", \"showlegend\": true, \"textposition\": \"auto\", \"type\": \"bar\", \"x\": [\"2010\", \"2011\", \"2012\", \"2013\", \"2014\", \"2015\", \"2016\", \"2017\"], \"xaxis\": \"x\", \"y\": [12.41803066757008, 13.117917441193446, 14.012994332619028, 13.540953932052144, 13.577567253110367, 14.284723962287337, 15.016393289940474, 14.986929208049894], \"yaxis\": \"y\"}, {\"alignmentgroup\": \"True\", \"hoverlabel\": {\"namelength\": 0}, \"hovertemplate\": \"orgao=SECRETARIA DA FAZENDA E PLANEJAMENTO<br>ano=%{x}<br>empenhado_percent=%{y}\", \"legendgroup\": \"orgao=SECRETARIA DA FAZENDA E PLANEJAMENTO\", \"marker\": {\"color\": \"#FF6692\"}, \"name\": \"orgao=SECRETARIA DA FAZENDA E PLANEJAMENTO\", \"offsetgroup\": \"orgao=SECRETARIA DA FAZENDA E PLANEJAMENTO\", \"orientation\": \"v\", \"showlegend\": true, \"textposition\": \"auto\", \"type\": \"bar\", \"x\": [\"2018\"], \"xaxis\": \"x\", \"y\": [15.367418998252095], \"yaxis\": \"y\"}, {\"alignmentgroup\": \"True\", \"hoverlabel\": {\"namelength\": 0}, \"hovertemplate\": \"orgao=ADMINISTRACAO GERAL DO ESTADO<br>ano=%{x}<br>empenhado_percent=%{y}\", \"legendgroup\": \"orgao=ADMINISTRACAO GERAL DO ESTADO\", \"marker\": {\"color\": \"#B6E880\"}, \"name\": \"orgao=ADMINISTRACAO GERAL DO ESTADO\", \"offsetgroup\": \"orgao=ADMINISTRACAO GERAL DO ESTADO\", \"orientation\": \"v\", \"showlegend\": true, \"textposition\": \"auto\", \"type\": \"bar\", \"x\": [\"2010\", \"2011\", \"2012\", \"2013\", \"2014\", \"2015\", \"2016\", \"2017\", \"2018\"], \"xaxis\": \"x\", \"y\": [26.39436270302135, 28.130820631001757, 28.08672215878491, 27.200036822046496, 26.86862174299915, 27.12038961466811, 24.816696911375825, 24.943397283809045, 27.030690696439695], \"yaxis\": \"y\"}, {\"alignmentgroup\": \"True\", \"hoverlabel\": {\"namelength\": 0}, \"hovertemplate\": \"orgao=SEC.DO EMPREGO E RELACOES DO TRABALHO<br>ano=%{x}<br>empenhado_percent=%{y}\", \"legendgroup\": \"orgao=SEC.DO EMPREGO E RELACOES DO TRABALHO\", \"marker\": {\"color\": \"#FF97FF\"}, \"name\": \"orgao=SEC.DO EMPREGO E RELACOES DO TRABALHO\", \"offsetgroup\": \"orgao=SEC.DO EMPREGO E RELACOES DO TRABALHO\", \"orientation\": \"v\", \"showlegend\": true, \"textposition\": \"auto\", \"type\": \"bar\", \"x\": [\"2010\", \"2011\", \"2012\", \"2013\", \"2014\", \"2015\", \"2016\", \"2017\", \"2018\"], \"xaxis\": \"x\", \"y\": [0.1293168799533695, 0.09442460629744268, 0.07740870499547393, 0.07746240823521679, 0.06547672251863018, 0.061935383921840385, 0.051429577497010555, 0.04991751897350612, 0.09725873233199167], \"yaxis\": \"y\"}, {\"alignmentgroup\": \"True\", \"hoverlabel\": {\"namelength\": 0}, \"hovertemplate\": \"orgao=SECRETARIA DE TURISMO<br>ano=%{x}<br>empenhado_percent=%{y}\", \"legendgroup\": \"orgao=SECRETARIA DE TURISMO\", \"marker\": {\"color\": \"#FECB52\"}, \"name\": \"orgao=SECRETARIA DE TURISMO\", \"offsetgroup\": \"orgao=SECRETARIA DE TURISMO\", \"orientation\": \"v\", \"showlegend\": true, \"textposition\": \"auto\", \"type\": \"bar\", \"x\": [\"2011\", \"2012\", \"2011\", \"2012\", \"2013\", \"2014\", \"2015\", \"2016\", \"2017\", \"2018\"], \"xaxis\": \"x\", \"y\": [0.0, 0.0, 0.15264450606412192, 0.16843067075109028, 0.14456577264847112, 0.16278741730954305, 0.07933894924147006, 0.11384630470723078, 0.1134782399120961, 0.1293854113085843], \"yaxis\": \"y\"}, {\"alignmentgroup\": \"True\", \"hoverlabel\": {\"namelength\": 0}, \"hovertemplate\": \"orgao=SECRETARIA DA HABITACAO<br>ano=%{x}<br>empenhado_percent=%{y}\", \"legendgroup\": \"orgao=SECRETARIA DA HABITACAO\", \"marker\": {\"color\": \"#636efa\"}, \"name\": \"orgao=SECRETARIA DA HABITACAO\", \"offsetgroup\": \"orgao=SECRETARIA DA HABITACAO\", \"orientation\": \"v\", \"showlegend\": true, \"textposition\": \"auto\", \"type\": \"bar\", \"x\": [\"2010\", \"2011\", \"2012\", \"2013\", \"2014\", \"2015\", \"2016\", \"2017\", \"2018\"], \"xaxis\": \"x\", \"y\": [0.9220768811662999, 0.9771668526150782, 0.6797439788547328, 0.7426438933346332, 0.7031241218220697, 0.5309876708315466, 0.5159648742286193, 0.702912837560383, 0.31902126244224194], \"yaxis\": \"y\"}, {\"alignmentgroup\": \"True\", \"hoverlabel\": {\"namelength\": 0}, \"hovertemplate\": \"orgao=SECRETARIA DO MEIO AMBIENTE<br>ano=%{x}<br>empenhado_percent=%{y}\", \"legendgroup\": \"orgao=SECRETARIA DO MEIO AMBIENTE\", \"marker\": {\"color\": \"#EF553B\"}, \"name\": \"orgao=SECRETARIA DO MEIO AMBIENTE\", \"offsetgroup\": \"orgao=SECRETARIA DO MEIO AMBIENTE\", \"orientation\": \"v\", \"showlegend\": true, \"textposition\": \"auto\", \"type\": \"bar\", \"x\": [\"2010\", \"2011\", \"2012\", \"2013\", \"2014\", \"2015\", \"2016\", \"2017\"], \"xaxis\": \"x\", \"y\": [0.48022471696159746, 0.4168652790129299, 0.42807091509272654, 0.42128759011151273, 0.47369127483989454, 0.4165576647128278, 0.4293550255524906, 0.40845221082050087], \"yaxis\": \"y\"}, {\"alignmentgroup\": \"True\", \"hoverlabel\": {\"namelength\": 0}, \"hovertemplate\": \"orgao=SECRETARIA DE INFR. MEIO AMBIENTE<br>ano=%{x}<br>empenhado_percent=%{y}\", \"legendgroup\": \"orgao=SECRETARIA DE INFR. MEIO AMBIENTE\", \"marker\": {\"color\": \"#00cc96\"}, \"name\": \"orgao=SECRETARIA DE INFR. MEIO AMBIENTE\", \"offsetgroup\": \"orgao=SECRETARIA DE INFR. MEIO AMBIENTE\", \"orientation\": \"v\", \"showlegend\": true, \"textposition\": \"auto\", \"type\": \"bar\", \"x\": [\"2018\"], \"xaxis\": \"x\", \"y\": [0.4093341234938415], \"yaxis\": \"y\"}, {\"alignmentgroup\": \"True\", \"hoverlabel\": {\"namelength\": 0}, \"hovertemplate\": \"orgao=MINISTERIO PUBLICO<br>ano=%{x}<br>empenhado_percent=%{y}\", \"legendgroup\": \"orgao=MINISTERIO PUBLICO\", \"marker\": {\"color\": \"#ab63fa\"}, \"name\": \"orgao=MINISTERIO PUBLICO\", \"offsetgroup\": \"orgao=MINISTERIO PUBLICO\", \"orientation\": \"v\", \"showlegend\": true, \"textposition\": \"auto\", \"type\": \"bar\", \"x\": [\"2010\", \"2011\", \"2012\", \"2013\", \"2014\", \"2015\", \"2016\", \"2017\", \"2018\"], \"xaxis\": \"x\", \"y\": [0.9001358048075444, 0.9043106540166053, 0.8949705418653121, 0.8534260573418146, 0.8591371492382838, 0.9458658522577358, 1.0024668075445018, 1.0155170534345808, 1.060214814094534], \"yaxis\": \"y\"}, {\"alignmentgroup\": \"True\", \"hoverlabel\": {\"namelength\": 0}, \"hovertemplate\": \"orgao=CASA CIVIL<br>ano=%{x}<br>empenhado_percent=%{y}\", \"legendgroup\": \"orgao=CASA CIVIL\", \"marker\": {\"color\": \"#FFA15A\"}, \"name\": \"orgao=CASA CIVIL\", \"offsetgroup\": \"orgao=CASA CIVIL\", \"orientation\": \"v\", \"showlegend\": true, \"textposition\": \"auto\", \"type\": \"bar\", \"x\": [\"2010\", \"2011\", \"2012\", \"2013\", \"2014\", \"2015\", \"2016\", \"2017\", \"2018\"], \"xaxis\": \"x\", \"y\": [0.17481476817333122, 0.20056767643428924, 0.22172129055655676, 0.2574340461485099, 0.27820545919523476, 0.1122392930283407, 0.15121282593830415, 0.17990569625429578, 0.10881381267133648], \"yaxis\": \"y\"}, {\"alignmentgroup\": \"True\", \"hoverlabel\": {\"namelength\": 0}, \"hovertemplate\": \"orgao=SECRETARIA DE PLANEJAMENTO E GESTAO<br>ano=%{x}<br>empenhado_percent=%{y}\", \"legendgroup\": \"orgao=SECRETARIA DE PLANEJAMENTO E GESTAO\", \"marker\": {\"color\": \"#19d3f3\"}, \"name\": \"orgao=SECRETARIA DE PLANEJAMENTO E GESTAO\", \"offsetgroup\": \"orgao=SECRETARIA DE PLANEJAMENTO E GESTAO\", \"orientation\": \"v\", \"showlegend\": true, \"textposition\": \"auto\", \"type\": \"bar\", \"x\": [\"2010\", \"2011\", \"2012\", \"2013\", \"2014\", \"2015\", \"2016\", \"2017\"], \"xaxis\": \"x\", \"y\": [0.6537872461196224, 0.22539660051723404, 0.38976041706692743, 0.5002607502205275, 0.5816008783638584, 1.13495452116344, 1.065877191594841, 1.044590851073859], \"yaxis\": \"y\"}, {\"alignmentgroup\": \"True\", \"hoverlabel\": {\"namelength\": 0}, \"hovertemplate\": \"orgao=SECRETARIA DE DESENVOLVIMENTO REGIONAL<br>ano=%{x}<br>empenhado_percent=%{y}\", \"legendgroup\": \"orgao=SECRETARIA DE DESENVOLVIMENTO REGIONAL\", \"marker\": {\"color\": \"#FF6692\"}, \"name\": \"orgao=SECRETARIA DE DESENVOLVIMENTO REGIONAL\", \"offsetgroup\": \"orgao=SECRETARIA DE DESENVOLVIMENTO REGIONAL\", \"orientation\": \"v\", \"showlegend\": true, \"textposition\": \"auto\", \"type\": \"bar\", \"x\": [\"2018\"], \"xaxis\": \"x\", \"y\": [1.2939071511272622], \"yaxis\": \"y\"}, {\"alignmentgroup\": \"True\", \"hoverlabel\": {\"namelength\": 0}, \"hovertemplate\": \"orgao=SECRETARIA DE DESENVOLVIMENTO SOCIAL<br>ano=%{x}<br>empenhado_percent=%{y}\", \"legendgroup\": \"orgao=SECRETARIA DE DESENVOLVIMENTO SOCIAL\", \"marker\": {\"color\": \"#B6E880\"}, \"name\": \"orgao=SECRETARIA DE DESENVOLVIMENTO SOCIAL\", \"offsetgroup\": \"orgao=SECRETARIA DE DESENVOLVIMENTO SOCIAL\", \"orientation\": \"v\", \"showlegend\": true, \"textposition\": \"auto\", \"type\": \"bar\", \"x\": [\"2010\", \"2011\", \"2012\", \"2013\", \"2014\", \"2015\", \"2016\", \"2017\", \"2018\"], \"xaxis\": \"x\", \"y\": [0.38634429512336815, 0.4911226603484303, 0.5405050368520863, 0.4462770763638794, 0.4359698594988532, 0.4011221539364889, 0.36720542369422793, 0.3072573776754599, 0.29868931020060147], \"yaxis\": \"y\"}, {\"alignmentgroup\": \"True\", \"hoverlabel\": {\"namelength\": 0}, \"hovertemplate\": \"orgao=SECRETARIA DOS TRANSPORTES METROPOLITANOS<br>ano=%{x}<br>empenhado_percent=%{y}\", \"legendgroup\": \"orgao=SECRETARIA DOS TRANSPORTES METROPOLITANOS\", \"marker\": {\"color\": \"#FF97FF\"}, \"name\": \"orgao=SECRETARIA DOS TRANSPORTES METROPOLITANOS\", \"offsetgroup\": \"orgao=SECRETARIA DOS TRANSPORTES METROPOLITANOS\", \"orientation\": \"v\", \"showlegend\": true, \"textposition\": \"auto\", \"type\": \"bar\", \"x\": [\"2010\", \"2011\", \"2012\", \"2013\", \"2014\", \"2015\", \"2016\", \"2017\", \"2018\"], \"xaxis\": \"x\", \"y\": [4.959154311547993, 4.04479050670615, 3.6820434169003122, 3.729990621247726, 4.007739471404479, 3.651968466690509, 3.962146426768294, 4.1951381744979805, 3.2806449164120224], \"yaxis\": \"y\"}, {\"alignmentgroup\": \"True\", \"hoverlabel\": {\"namelength\": 0}, \"hovertemplate\": \"orgao=SECRETARIA ADMINISTRACAO PENITENCIARIA<br>ano=%{x}<br>empenhado_percent=%{y}\", \"legendgroup\": \"orgao=SECRETARIA ADMINISTRACAO PENITENCIARIA\", \"marker\": {\"color\": \"#FECB52\"}, \"name\": \"orgao=SECRETARIA ADMINISTRACAO PENITENCIARIA\", \"offsetgroup\": \"orgao=SECRETARIA ADMINISTRACAO PENITENCIARIA\", \"orientation\": \"v\", \"showlegend\": true, \"textposition\": \"auto\", \"type\": \"bar\", \"x\": [\"2010\", \"2011\", \"2012\", \"2013\", \"2014\", \"2015\", \"2016\", \"2017\", \"2018\"], \"xaxis\": \"x\", \"y\": [1.5181153857279548, 1.618664947257599, 1.6435370769234716, 1.6117651521402792, 1.7050539018515016, 1.760357734740043, 1.8468552899285593, 1.8054550767838597, 1.7156109352266298], \"yaxis\": \"y\"}, {\"alignmentgroup\": \"True\", \"hoverlabel\": {\"namelength\": 0}, \"hovertemplate\": \"orgao=SECRETARIA DE SANEAMENTO E RECURSOS HIDRICOS<br>ano=%{x}<br>empenhado_percent=%{y}\", \"legendgroup\": \"orgao=SECRETARIA DE SANEAMENTO E RECURSOS HIDRICOS\", \"marker\": {\"color\": \"#636efa\"}, \"name\": \"orgao=SECRETARIA DE SANEAMENTO E RECURSOS HIDRICOS\", \"offsetgroup\": \"orgao=SECRETARIA DE SANEAMENTO E RECURSOS HIDRICOS\", \"orientation\": \"v\", \"showlegend\": true, \"textposition\": \"auto\", \"type\": \"bar\", \"x\": [\"2010\", \"2011\", \"2012\", \"2013\", \"2014\", \"2015\", \"2016\", \"2017\", \"2018\"], \"xaxis\": \"x\", \"y\": [0.7206429508424844, 0.683426337274028, 0.586299265403229, 0.6270157247645329, 0.5658309987170612, 0.5147668623548308, 0.5444636793364914, 0.6488949273549343, 0.5560407513291906], \"yaxis\": \"y\"}, {\"alignmentgroup\": \"True\", \"hoverlabel\": {\"namelength\": 0}, \"hovertemplate\": \"orgao=PROCURADORIA GERAL DO ESTADO<br>ano=%{x}<br>empenhado_percent=%{y}\", \"legendgroup\": \"orgao=PROCURADORIA GERAL DO ESTADO\", \"marker\": {\"color\": \"#EF553B\"}, \"name\": \"orgao=PROCURADORIA GERAL DO ESTADO\", \"offsetgroup\": \"orgao=PROCURADORIA GERAL DO ESTADO\", \"orientation\": \"v\", \"showlegend\": true, \"textposition\": \"auto\", \"type\": \"bar\", \"x\": [\"2010\", \"2011\", \"2012\", \"2013\", \"2014\", \"2015\", \"2016\", \"2017\", \"2018\"], \"xaxis\": \"x\", \"y\": [1.457067120355548, 0.726675672996025, 0.5924149441810102, 0.47137762606146577, 0.4975425272798735, 0.47687126620386483, 0.6189304772842968, 0.6690951199103038, 0.6782145054445657], \"yaxis\": \"y\"}, {\"alignmentgroup\": \"True\", \"hoverlabel\": {\"namelength\": 0}, \"hovertemplate\": \"orgao=SECRETARIA DE ESPORTE, LAZER E JUVENTUDE<br>ano=%{x}<br>empenhado_percent=%{y}\", \"legendgroup\": \"orgao=SECRETARIA DE ESPORTE, LAZER E JUVENTUDE\", \"marker\": {\"color\": \"#00cc96\"}, \"name\": \"orgao=SECRETARIA DE ESPORTE, LAZER E JUVENTUDE\", \"offsetgroup\": \"orgao=SECRETARIA DE ESPORTE, LAZER E JUVENTUDE\", \"orientation\": \"v\", \"showlegend\": true, \"textposition\": \"auto\", \"type\": \"bar\", \"x\": [\"2010\", \"2011\", \"2012\", \"2013\", \"2014\", \"2015\", \"2016\", \"2017\"], \"xaxis\": \"x\", \"y\": [0.10849313607779294, 0.09996743109292544, 0.09302041812122676, 0.0895304132751096, 0.11722557991264082, 0.07547653395175716, 0.0560840206977236, 0.06495598579959408], \"yaxis\": \"y\"}, {\"alignmentgroup\": \"True\", \"hoverlabel\": {\"namelength\": 0}, \"hovertemplate\": \"orgao=SECRETARIA DE ESPORTES<br>ano=%{x}<br>empenhado_percent=%{y}\", \"legendgroup\": \"orgao=SECRETARIA DE ESPORTES\", \"marker\": {\"color\": \"#ab63fa\"}, \"name\": \"orgao=SECRETARIA DE ESPORTES\", \"offsetgroup\": \"orgao=SECRETARIA DE ESPORTES\", \"orientation\": \"v\", \"showlegend\": true, \"textposition\": \"auto\", \"type\": \"bar\", \"x\": [\"2018\"], \"xaxis\": \"x\", \"y\": [0.05569974691374708], \"yaxis\": \"y\"}, {\"alignmentgroup\": \"True\", \"hoverlabel\": {\"namelength\": 0}, \"hovertemplate\": \"orgao=DEFENSORIA PUBLICA DO ESTADO<br>ano=%{x}<br>empenhado_percent=%{y}\", \"legendgroup\": \"orgao=DEFENSORIA PUBLICA DO ESTADO\", \"marker\": {\"color\": \"#FFA15A\"}, \"name\": \"orgao=DEFENSORIA PUBLICA DO ESTADO\", \"offsetgroup\": \"orgao=DEFENSORIA PUBLICA DO ESTADO\", \"orientation\": \"v\", \"showlegend\": true, \"textposition\": \"auto\", \"type\": \"bar\", \"x\": [\"2010\", \"2011\", \"2012\", \"2013\", \"2014\", \"2015\", \"2016\", \"2017\", \"2018\"], \"xaxis\": \"x\", \"y\": [0.3244610488633159, 0.33499208174043593, 0.3212237690074524, 0.30295496281576473, 0.3515650893131542, 0.36057238368032984, 0.3583109477764011, 0.3324234815336379, 0.3462373978013412], \"yaxis\": \"y\"}, {\"alignmentgroup\": \"True\", \"hoverlabel\": {\"namelength\": 0}, \"hovertemplate\": \"orgao=SECRETARIA DE ENSINO SUPERIOR<br>ano=%{x}<br>empenhado_percent=%{y}\", \"legendgroup\": \"orgao=SECRETARIA DE ENSINO SUPERIOR\", \"marker\": {\"color\": \"#19d3f3\"}, \"name\": \"orgao=SECRETARIA DE ENSINO SUPERIOR\", \"offsetgroup\": \"orgao=SECRETARIA DE ENSINO SUPERIOR\", \"orientation\": \"v\", \"showlegend\": true, \"textposition\": \"auto\", \"type\": \"bar\", \"x\": [\"2010\", \"2011\", \"2012\", \"2013\", \"2014\"], \"xaxis\": \"x\", \"y\": [5.601635269644226, 0.0033483394074327313, 0.0, 0.0, 0.0], \"yaxis\": \"y\"}, {\"alignmentgroup\": \"True\", \"hoverlabel\": {\"namelength\": 0}, \"hovertemplate\": \"orgao=SECRETARIA DE GESTAO PUBLICA<br>ano=%{x}<br>empenhado_percent=%{y}\", \"legendgroup\": \"orgao=SECRETARIA DE GESTAO PUBLICA\", \"marker\": {\"color\": \"#FF6692\"}, \"name\": \"orgao=SECRETARIA DE GESTAO PUBLICA\", \"offsetgroup\": \"orgao=SECRETARIA DE GESTAO PUBLICA\", \"orientation\": \"v\", \"showlegend\": true, \"textposition\": \"auto\", \"type\": \"bar\", \"x\": [\"2010\", \"2011\", \"2012\", \"2013\", \"2014\", \"2015\"], \"xaxis\": \"x\", \"y\": [0.9444250145497712, 1.0720315676541299, 1.092968222173721, 0.905666698983704, 0.9474322421117296, 0.0], \"yaxis\": \"y\"}, {\"alignmentgroup\": \"True\", \"hoverlabel\": {\"namelength\": 0}, \"hovertemplate\": \"orgao=SECRETARIA DE COMUNICACAO<br>ano=%{x}<br>empenhado_percent=%{y}\", \"legendgroup\": \"orgao=SECRETARIA DE COMUNICACAO\", \"marker\": {\"color\": \"#B6E880\"}, \"name\": \"orgao=SECRETARIA DE COMUNICACAO\", \"offsetgroup\": \"orgao=SECRETARIA DE COMUNICACAO\", \"orientation\": \"v\", \"showlegend\": true, \"textposition\": \"auto\", \"type\": \"bar\", \"x\": [\"2010\", \"2011\", \"2012\"], \"xaxis\": \"x\", \"y\": [0.0990571449340329, 0.0011825317816477811, 0.0], \"yaxis\": \"y\"}, {\"alignmentgroup\": \"True\", \"hoverlabel\": {\"namelength\": 0}, \"hovertemplate\": \"orgao=SECRETARIA DE RELACOES INSTITUCIONAIS<br>ano=%{x}<br>empenhado_percent=%{y}\", \"legendgroup\": \"orgao=SECRETARIA DE RELACOES INSTITUCIONAIS\", \"marker\": {\"color\": \"#FF97FF\"}, \"name\": \"orgao=SECRETARIA DE RELACOES INSTITUCIONAIS\", \"offsetgroup\": \"orgao=SECRETARIA DE RELACOES INSTITUCIONAIS\", \"orientation\": \"v\", \"showlegend\": true, \"textposition\": \"auto\", \"type\": \"bar\", \"x\": [\"2010\", \"2011\"], \"xaxis\": \"x\", \"y\": [0.018840859530531256, 0.0003750665985848769], \"yaxis\": \"y\"}, {\"alignmentgroup\": \"True\", \"hoverlabel\": {\"namelength\": 0}, \"hovertemplate\": \"orgao=SECR.EST.DIREITOS PESSOA COM DEFICIENCIA<br>ano=%{x}<br>empenhado_percent=%{y}\", \"legendgroup\": \"orgao=SECR.EST.DIREITOS PESSOA COM DEFICIENCIA\", \"marker\": {\"color\": \"#FECB52\"}, \"name\": \"orgao=SECR.EST.DIREITOS PESSOA COM DEFICIENCIA\", \"offsetgroup\": \"orgao=SECR.EST.DIREITOS PESSOA COM DEFICIENCIA\", \"orientation\": \"v\", \"showlegend\": true, \"textposition\": \"auto\", \"type\": \"bar\", \"x\": [\"2010\", \"2011\", \"2012\", \"2013\", \"2014\", \"2015\", \"2016\", \"2017\", \"2018\"], \"xaxis\": \"x\", \"y\": [0.029701205201911177, 0.020520488655756095, 0.028297394976568826, 0.04001412661691254, 0.11410512409712856, 0.05526898692354719, 0.05157329722885846, 0.01931108432571429, 0.016517631847092394], \"yaxis\": \"y\"}, {\"alignmentgroup\": \"True\", \"hoverlabel\": {\"namelength\": 0}, \"hovertemplate\": \"orgao=SECR. DE DESENVOLVIMENTO METROPOLITANO<br>ano=%{x}<br>empenhado_percent=%{y}\", \"legendgroup\": \"orgao=SECR. DE DESENVOLVIMENTO METROPOLITANO\", \"marker\": {\"color\": \"#636efa\"}, \"name\": \"orgao=SECR. DE DESENVOLVIMENTO METROPOLITANO\", \"offsetgroup\": \"orgao=SECR. DE DESENVOLVIMENTO METROPOLITANO\", \"orientation\": \"v\", \"showlegend\": true, \"textposition\": \"auto\", \"type\": \"bar\", \"x\": [\"2011\", \"2012\", \"2013\", \"2014\", \"2015\", \"2016\", \"2017\"], \"xaxis\": \"x\", \"y\": [0.08475655567655938, 0.07241795322625104, 0.06566503110492682, 0.0, 0.0, 0.0, 0.0], \"yaxis\": \"y\"}, {\"alignmentgroup\": \"True\", \"hoverlabel\": {\"namelength\": 0}, \"hovertemplate\": \"orgao=SECRETARIA DE ENERGIA<br>ano=%{x}<br>empenhado_percent=%{y}\", \"legendgroup\": \"orgao=SECRETARIA DE ENERGIA\", \"marker\": {\"color\": \"#EF553B\"}, \"name\": \"orgao=SECRETARIA DE ENERGIA\", \"offsetgroup\": \"orgao=SECRETARIA DE ENERGIA\", \"orientation\": \"v\", \"showlegend\": true, \"textposition\": \"auto\", \"type\": \"bar\", \"x\": [\"2011\", \"2012\", \"2013\"], \"xaxis\": \"x\", \"y\": [0.04354677806649167, 0.0478397174500001, 0.03835931987762819], \"yaxis\": \"y\"}, {\"alignmentgroup\": \"True\", \"hoverlabel\": {\"namelength\": 0}, \"hovertemplate\": \"orgao=SECRETARIA DE ENERGIA E MINERACAO<br>ano=%{x}<br>empenhado_percent=%{y}\", \"legendgroup\": \"orgao=SECRETARIA DE ENERGIA E MINERACAO\", \"marker\": {\"color\": \"#00cc96\"}, \"name\": \"orgao=SECRETARIA DE ENERGIA E MINERACAO\", \"offsetgroup\": \"orgao=SECRETARIA DE ENERGIA E MINERACAO\", \"orientation\": \"v\", \"showlegend\": true, \"textposition\": \"auto\", \"type\": \"bar\", \"x\": [\"2014\", \"2015\", \"2016\", \"2017\", \"2018\"], \"xaxis\": \"x\", \"y\": [0.038749274309147576, 0.01211805585196043, 0.011312635202319178, 0.013765532401018904, 0.029033345783834676], \"yaxis\": \"y\"}, {\"alignmentgroup\": \"True\", \"hoverlabel\": {\"namelength\": 0}, \"hovertemplate\": \"orgao=SECRETARIA DE GOVERNO<br>ano=%{x}<br>empenhado_percent=%{y}\", \"legendgroup\": \"orgao=SECRETARIA DE GOVERNO\", \"marker\": {\"color\": \"#ab63fa\"}, \"name\": \"orgao=SECRETARIA DE GOVERNO\", \"offsetgroup\": \"orgao=SECRETARIA DE GOVERNO\", \"orientation\": \"v\", \"showlegend\": true, \"textposition\": \"auto\", \"type\": \"bar\", \"x\": [\"2015\", \"2016\", \"2017\", \"2018\"], \"xaxis\": \"x\", \"y\": [0.53685728391668, 0.3990046625954986, 0.4349056189363131, 0.35147065619496204], \"yaxis\": \"y\"}, {\"alignmentgroup\": \"True\", \"hoverlabel\": {\"namelength\": 0}, \"hovertemplate\": \"orgao=RESERVA DE CONTINGENCIA<br>ano=%{x}<br>empenhado_percent=%{y}\", \"legendgroup\": \"orgao=RESERVA DE CONTINGENCIA\", \"marker\": {\"color\": \"#FFA15A\"}, \"name\": \"orgao=RESERVA DE CONTINGENCIA\", \"offsetgroup\": \"orgao=RESERVA DE CONTINGENCIA\", \"orientation\": \"v\", \"showlegend\": true, \"textposition\": \"auto\", \"type\": \"bar\", \"x\": [\"2010\", \"2011\", \"2012\", \"2013\", \"2014\", \"2015\", \"2016\", \"2017\", \"2018\"], \"xaxis\": \"x\", \"y\": [0.0, 0.0, 0.0, 0.0, 0.0, 0.0, 0.0, 0.0, 0.0], \"yaxis\": \"y\"}],\n",
       "                        {\"barmode\": \"relative\", \"height\": 600, \"legend\": {\"tracegroupgap\": 0}, \"margin\": {\"t\": 60}, \"template\": {\"data\": {\"bar\": [{\"error_x\": {\"color\": \"#2a3f5f\"}, \"error_y\": {\"color\": \"#2a3f5f\"}, \"marker\": {\"line\": {\"color\": \"#E5ECF6\", \"width\": 0.5}}, \"type\": \"bar\"}], \"barpolar\": [{\"marker\": {\"line\": {\"color\": \"#E5ECF6\", \"width\": 0.5}}, \"type\": \"barpolar\"}], \"carpet\": [{\"aaxis\": {\"endlinecolor\": \"#2a3f5f\", \"gridcolor\": \"white\", \"linecolor\": \"white\", \"minorgridcolor\": \"white\", \"startlinecolor\": \"#2a3f5f\"}, \"baxis\": {\"endlinecolor\": \"#2a3f5f\", \"gridcolor\": \"white\", \"linecolor\": \"white\", \"minorgridcolor\": \"white\", \"startlinecolor\": \"#2a3f5f\"}, \"type\": \"carpet\"}], \"choropleth\": [{\"colorbar\": {\"outlinewidth\": 0, \"ticks\": \"\"}, \"type\": \"choropleth\"}], \"contour\": [{\"colorbar\": {\"outlinewidth\": 0, \"ticks\": \"\"}, \"colorscale\": [[0.0, \"#0d0887\"], [0.1111111111111111, \"#46039f\"], [0.2222222222222222, \"#7201a8\"], [0.3333333333333333, \"#9c179e\"], [0.4444444444444444, \"#bd3786\"], [0.5555555555555556, \"#d8576b\"], [0.6666666666666666, \"#ed7953\"], [0.7777777777777778, \"#fb9f3a\"], [0.8888888888888888, \"#fdca26\"], [1.0, \"#f0f921\"]], \"type\": \"contour\"}], \"contourcarpet\": [{\"colorbar\": {\"outlinewidth\": 0, \"ticks\": \"\"}, \"type\": \"contourcarpet\"}], \"heatmap\": [{\"colorbar\": {\"outlinewidth\": 0, \"ticks\": \"\"}, \"colorscale\": [[0.0, \"#0d0887\"], [0.1111111111111111, \"#46039f\"], [0.2222222222222222, \"#7201a8\"], [0.3333333333333333, \"#9c179e\"], [0.4444444444444444, \"#bd3786\"], [0.5555555555555556, \"#d8576b\"], [0.6666666666666666, \"#ed7953\"], [0.7777777777777778, \"#fb9f3a\"], [0.8888888888888888, \"#fdca26\"], [1.0, \"#f0f921\"]], \"type\": \"heatmap\"}], \"heatmapgl\": [{\"colorbar\": {\"outlinewidth\": 0, \"ticks\": \"\"}, \"colorscale\": [[0.0, \"#0d0887\"], [0.1111111111111111, \"#46039f\"], [0.2222222222222222, \"#7201a8\"], [0.3333333333333333, \"#9c179e\"], [0.4444444444444444, \"#bd3786\"], [0.5555555555555556, \"#d8576b\"], [0.6666666666666666, \"#ed7953\"], [0.7777777777777778, \"#fb9f3a\"], [0.8888888888888888, \"#fdca26\"], [1.0, \"#f0f921\"]], \"type\": \"heatmapgl\"}], \"histogram\": [{\"marker\": {\"colorbar\": {\"outlinewidth\": 0, \"ticks\": \"\"}}, \"type\": \"histogram\"}], \"histogram2d\": [{\"colorbar\": {\"outlinewidth\": 0, \"ticks\": \"\"}, \"colorscale\": [[0.0, \"#0d0887\"], [0.1111111111111111, \"#46039f\"], [0.2222222222222222, \"#7201a8\"], [0.3333333333333333, \"#9c179e\"], [0.4444444444444444, \"#bd3786\"], [0.5555555555555556, \"#d8576b\"], [0.6666666666666666, \"#ed7953\"], [0.7777777777777778, \"#fb9f3a\"], [0.8888888888888888, \"#fdca26\"], [1.0, \"#f0f921\"]], \"type\": \"histogram2d\"}], \"histogram2dcontour\": [{\"colorbar\": {\"outlinewidth\": 0, \"ticks\": \"\"}, \"colorscale\": [[0.0, \"#0d0887\"], [0.1111111111111111, \"#46039f\"], [0.2222222222222222, \"#7201a8\"], [0.3333333333333333, \"#9c179e\"], [0.4444444444444444, \"#bd3786\"], [0.5555555555555556, \"#d8576b\"], [0.6666666666666666, \"#ed7953\"], [0.7777777777777778, \"#fb9f3a\"], [0.8888888888888888, \"#fdca26\"], [1.0, \"#f0f921\"]], \"type\": \"histogram2dcontour\"}], \"mesh3d\": [{\"colorbar\": {\"outlinewidth\": 0, \"ticks\": \"\"}, \"type\": \"mesh3d\"}], \"parcoords\": [{\"line\": {\"colorbar\": {\"outlinewidth\": 0, \"ticks\": \"\"}}, \"type\": \"parcoords\"}], \"scatter\": [{\"marker\": {\"colorbar\": {\"outlinewidth\": 0, \"ticks\": \"\"}}, \"type\": \"scatter\"}], \"scatter3d\": [{\"line\": {\"colorbar\": {\"outlinewidth\": 0, \"ticks\": \"\"}}, \"marker\": {\"colorbar\": {\"outlinewidth\": 0, \"ticks\": \"\"}}, \"type\": \"scatter3d\"}], \"scattercarpet\": [{\"marker\": {\"colorbar\": {\"outlinewidth\": 0, \"ticks\": \"\"}}, \"type\": \"scattercarpet\"}], \"scattergeo\": [{\"marker\": {\"colorbar\": {\"outlinewidth\": 0, \"ticks\": \"\"}}, \"type\": \"scattergeo\"}], \"scattergl\": [{\"marker\": {\"colorbar\": {\"outlinewidth\": 0, \"ticks\": \"\"}}, \"type\": \"scattergl\"}], \"scattermapbox\": [{\"marker\": {\"colorbar\": {\"outlinewidth\": 0, \"ticks\": \"\"}}, \"type\": \"scattermapbox\"}], \"scatterpolar\": [{\"marker\": {\"colorbar\": {\"outlinewidth\": 0, \"ticks\": \"\"}}, \"type\": \"scatterpolar\"}], \"scatterpolargl\": [{\"marker\": {\"colorbar\": {\"outlinewidth\": 0, \"ticks\": \"\"}}, \"type\": \"scatterpolargl\"}], \"scatterternary\": [{\"marker\": {\"colorbar\": {\"outlinewidth\": 0, \"ticks\": \"\"}}, \"type\": \"scatterternary\"}], \"surface\": [{\"colorbar\": {\"outlinewidth\": 0, \"ticks\": \"\"}, \"colorscale\": [[0.0, \"#0d0887\"], [0.1111111111111111, \"#46039f\"], [0.2222222222222222, \"#7201a8\"], [0.3333333333333333, \"#9c179e\"], [0.4444444444444444, \"#bd3786\"], [0.5555555555555556, \"#d8576b\"], [0.6666666666666666, \"#ed7953\"], [0.7777777777777778, \"#fb9f3a\"], [0.8888888888888888, \"#fdca26\"], [1.0, \"#f0f921\"]], \"type\": \"surface\"}], \"table\": [{\"cells\": {\"fill\": {\"color\": \"#EBF0F8\"}, \"line\": {\"color\": \"white\"}}, \"header\": {\"fill\": {\"color\": \"#C8D4E3\"}, \"line\": {\"color\": \"white\"}}, \"type\": \"table\"}]}, \"layout\": {\"annotationdefaults\": {\"arrowcolor\": \"#2a3f5f\", \"arrowhead\": 0, \"arrowwidth\": 1}, \"colorscale\": {\"diverging\": [[0, \"#8e0152\"], [0.1, \"#c51b7d\"], [0.2, \"#de77ae\"], [0.3, \"#f1b6da\"], [0.4, \"#fde0ef\"], [0.5, \"#f7f7f7\"], [0.6, \"#e6f5d0\"], [0.7, \"#b8e186\"], [0.8, \"#7fbc41\"], [0.9, \"#4d9221\"], [1, \"#276419\"]], \"sequential\": [[0.0, \"#0d0887\"], [0.1111111111111111, \"#46039f\"], [0.2222222222222222, \"#7201a8\"], [0.3333333333333333, \"#9c179e\"], [0.4444444444444444, \"#bd3786\"], [0.5555555555555556, \"#d8576b\"], [0.6666666666666666, \"#ed7953\"], [0.7777777777777778, \"#fb9f3a\"], [0.8888888888888888, \"#fdca26\"], [1.0, \"#f0f921\"]], \"sequentialminus\": [[0.0, \"#0d0887\"], [0.1111111111111111, \"#46039f\"], [0.2222222222222222, \"#7201a8\"], [0.3333333333333333, \"#9c179e\"], [0.4444444444444444, \"#bd3786\"], [0.5555555555555556, \"#d8576b\"], [0.6666666666666666, \"#ed7953\"], [0.7777777777777778, \"#fb9f3a\"], [0.8888888888888888, \"#fdca26\"], [1.0, \"#f0f921\"]]}, \"colorway\": [\"#636efa\", \"#EF553B\", \"#00cc96\", \"#ab63fa\", \"#FFA15A\", \"#19d3f3\", \"#FF6692\", \"#B6E880\", \"#FF97FF\", \"#FECB52\"], \"font\": {\"color\": \"#2a3f5f\"}, \"geo\": {\"bgcolor\": \"white\", \"lakecolor\": \"white\", \"landcolor\": \"#E5ECF6\", \"showlakes\": true, \"showland\": true, \"subunitcolor\": \"white\"}, \"hoverlabel\": {\"align\": \"left\"}, \"hovermode\": \"closest\", \"mapbox\": {\"style\": \"light\"}, \"paper_bgcolor\": \"white\", \"plot_bgcolor\": \"#E5ECF6\", \"polar\": {\"angularaxis\": {\"gridcolor\": \"white\", \"linecolor\": \"white\", \"ticks\": \"\"}, \"bgcolor\": \"#E5ECF6\", \"radialaxis\": {\"gridcolor\": \"white\", \"linecolor\": \"white\", \"ticks\": \"\"}}, \"scene\": {\"xaxis\": {\"backgroundcolor\": \"#E5ECF6\", \"gridcolor\": \"white\", \"gridwidth\": 2, \"linecolor\": \"white\", \"showbackground\": true, \"ticks\": \"\", \"zerolinecolor\": \"white\"}, \"yaxis\": {\"backgroundcolor\": \"#E5ECF6\", \"gridcolor\": \"white\", \"gridwidth\": 2, \"linecolor\": \"white\", \"showbackground\": true, \"ticks\": \"\", \"zerolinecolor\": \"white\"}, \"zaxis\": {\"backgroundcolor\": \"#E5ECF6\", \"gridcolor\": \"white\", \"gridwidth\": 2, \"linecolor\": \"white\", \"showbackground\": true, \"ticks\": \"\", \"zerolinecolor\": \"white\"}}, \"shapedefaults\": {\"line\": {\"color\": \"#2a3f5f\"}}, \"ternary\": {\"aaxis\": {\"gridcolor\": \"white\", \"linecolor\": \"white\", \"ticks\": \"\"}, \"baxis\": {\"gridcolor\": \"white\", \"linecolor\": \"white\", \"ticks\": \"\"}, \"bgcolor\": \"#E5ECF6\", \"caxis\": {\"gridcolor\": \"white\", \"linecolor\": \"white\", \"ticks\": \"\"}}, \"title\": {\"x\": 0.05}, \"xaxis\": {\"automargin\": true, \"gridcolor\": \"white\", \"linecolor\": \"white\", \"ticks\": \"\", \"zerolinecolor\": \"white\", \"zerolinewidth\": 2}, \"yaxis\": {\"automargin\": true, \"gridcolor\": \"white\", \"linecolor\": \"white\", \"ticks\": \"\", \"zerolinecolor\": \"white\", \"zerolinewidth\": 2}}}, \"xaxis\": {\"anchor\": \"y\", \"domain\": [0.0, 0.98], \"title\": {\"text\": \"ano\"}}, \"yaxis\": {\"anchor\": \"x\", \"domain\": [0.0, 1.0], \"title\": {\"text\": \"empenhado_percent\"}}},\n",
       "                        {\"responsive\": true}\n",
       "                    ).then(function(){\n",
       "                            \n",
       "var gd = document.getElementById('8cda5bb7-13fe-41a9-a768-d7c0014656b1');\n",
       "var x = new MutationObserver(function (mutations, observer) {{\n",
       "        var display = window.getComputedStyle(gd).display;\n",
       "        if (!display || display === 'none') {{\n",
       "            console.log([gd, 'removed!']);\n",
       "            Plotly.purge(gd);\n",
       "            observer.disconnect();\n",
       "        }}\n",
       "}});\n",
       "\n",
       "// Listen for the removal of the full notebook cells\n",
       "var notebookContainer = gd.closest('#notebook-container');\n",
       "if (notebookContainer) {{\n",
       "    x.observe(notebookContainer, {childList: true});\n",
       "}}\n",
       "\n",
       "// Listen for the clearing of the current output cell\n",
       "var outputEl = gd.closest('.output');\n",
       "if (outputEl) {{\n",
       "    x.observe(outputEl, {childList: true});\n",
       "}}\n",
       "\n",
       "                        })\n",
       "                };\n",
       "                });\n",
       "            </script>\n",
       "        </div>"
      ]
     },
     "metadata": {},
     "output_type": "display_data"
    }
   ],
   "source": [
    "fig = px.bar(orgaos, x=\"ano\", y=\"empenhado_percent\", color=\"orgao\")\n",
    "fig.show()"
   ]
  },
  {
   "cell_type": "code",
   "execution_count": null,
   "metadata": {},
   "outputs": [],
   "source": []
  },
  {
   "cell_type": "code",
   "execution_count": null,
   "metadata": {},
   "outputs": [],
   "source": []
  },
  {
   "cell_type": "code",
   "execution_count": null,
   "metadata": {},
   "outputs": [],
   "source": []
  },
  {
   "cell_type": "code",
   "execution_count": null,
   "metadata": {},
   "outputs": [],
   "source": []
  },
  {
   "cell_type": "code",
   "execution_count": null,
   "metadata": {},
   "outputs": [],
   "source": []
  },
  {
   "cell_type": "code",
   "execution_count": null,
   "metadata": {},
   "outputs": [],
   "source": []
  },
  {
   "cell_type": "code",
   "execution_count": null,
   "metadata": {},
   "outputs": [],
   "source": []
  },
  {
   "cell_type": "code",
   "execution_count": null,
   "metadata": {},
   "outputs": [],
   "source": []
  },
  {
   "cell_type": "code",
   "execution_count": null,
   "metadata": {},
   "outputs": [],
   "source": []
  },
  {
   "cell_type": "code",
   "execution_count": null,
   "metadata": {},
   "outputs": [],
   "source": []
  }
 ],
 "metadata": {
  "kernelspec": {
   "display_name": "Python 3",
   "language": "python",
   "name": "python3"
  },
  "language_info": {
   "codemirror_mode": {
    "name": "ipython",
    "version": 3
   },
   "file_extension": ".py",
   "mimetype": "text/x-python",
   "name": "python",
   "nbconvert_exporter": "python",
   "pygments_lexer": "ipython3",
   "version": "3.7.4"
  }
 },
 "nbformat": 4,
 "nbformat_minor": 4
}
